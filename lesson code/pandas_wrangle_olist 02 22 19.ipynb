{
 "cells": [
  {
   "cell_type": "markdown",
   "metadata": {},
   "source": [
    "### Import packages"
   ]
  },
  {
   "cell_type": "code",
   "execution_count": 1,
   "metadata": {},
   "outputs": [],
   "source": [
    "import pandas as pd\n",
    "import matplotlib.pyplot as plt\n",
    "import seaborn as sns\n",
    "from datetime import date\n",
    "\n",
    "%matplotlib inline"
   ]
  },
  {
   "cell_type": "markdown",
   "metadata": {},
   "source": [
    "### Set-up"
   ]
  },
  {
   "cell_type": "markdown",
   "metadata": {},
   "source": [
    "For this expercise, we will utilize two files (listed below) from the 'Brazilian E-Commerce Public Dataset' originally posted on [Kaggle]( https://www.kaggle.com/olistbr/brazilian-ecommerce)."
   ]
  },
  {
   "cell_type": "code",
   "execution_count": 2,
   "metadata": {},
   "outputs": [],
   "source": [
    "# Full path of the 'orders' dataset\n",
    "orders_file = 'https://www.dropbox.com/s/ej64qorm1uvmjlp/olist_orders_dataset.csv?dl=1'\n",
    "\n",
    "# Full path of the 'customer' dataset\n",
    "cust_file = 'https://www.dropbox.com/s/t082qlggu4wxiq5/olist_customers_dataset.csv?dl=1'\n",
    "\n",
    "# File output location (to export results)\n",
    "out = r\"C:\\Users\\jonathan\\Downloads\""
   ]
  },
  {
   "cell_type": "markdown",
   "metadata": {},
   "source": [
    "### Read data"
   ]
  },
  {
   "cell_type": "code",
   "execution_count": 8,
   "metadata": {},
   "outputs": [
    {
     "data": {
      "text/html": [
       "<div>\n",
       "<style scoped>\n",
       "    .dataframe tbody tr th:only-of-type {\n",
       "        vertical-align: middle;\n",
       "    }\n",
       "\n",
       "    .dataframe tbody tr th {\n",
       "        vertical-align: top;\n",
       "    }\n",
       "\n",
       "    .dataframe thead th {\n",
       "        text-align: right;\n",
       "    }\n",
       "</style>\n",
       "<table border=\"1\" class=\"dataframe\">\n",
       "  <thead>\n",
       "    <tr style=\"text-align: right;\">\n",
       "      <th></th>\n",
       "      <th>customer_id</th>\n",
       "      <th>customer_unique_id</th>\n",
       "      <th>customer_zip_code_prefix</th>\n",
       "      <th>customer_city</th>\n",
       "      <th>customer_state</th>\n",
       "    </tr>\n",
       "  </thead>\n",
       "  <tbody>\n",
       "    <tr>\n",
       "      <th>0</th>\n",
       "      <td>06b8999e2fba1a1fbc88172c00ba8bc7</td>\n",
       "      <td>861eff4711a542e4b93843c6dd7febb0</td>\n",
       "      <td>14409</td>\n",
       "      <td>franca</td>\n",
       "      <td>SP</td>\n",
       "    </tr>\n",
       "    <tr>\n",
       "      <th>1</th>\n",
       "      <td>18955e83d337fd6b2def6b18a428ac77</td>\n",
       "      <td>290c77bc529b7ac935b93aa66c333dc3</td>\n",
       "      <td>9790</td>\n",
       "      <td>sao bernardo do campo</td>\n",
       "      <td>SP</td>\n",
       "    </tr>\n",
       "    <tr>\n",
       "      <th>2</th>\n",
       "      <td>4e7b3e00288586ebd08712fdd0374a03</td>\n",
       "      <td>060e732b5b29e8181a18229c7b0b2b5e</td>\n",
       "      <td>1151</td>\n",
       "      <td>sao paulo</td>\n",
       "      <td>SP</td>\n",
       "    </tr>\n",
       "    <tr>\n",
       "      <th>3</th>\n",
       "      <td>b2b6027bc5c5109e529d4dc6358b12c3</td>\n",
       "      <td>259dac757896d24d7702b9acbbff3f3c</td>\n",
       "      <td>8775</td>\n",
       "      <td>mogi das cruzes</td>\n",
       "      <td>SP</td>\n",
       "    </tr>\n",
       "    <tr>\n",
       "      <th>4</th>\n",
       "      <td>4f2d8ab171c80ec8364f7c12e35b23ad</td>\n",
       "      <td>345ecd01c38d18a9036ed96c73b8d066</td>\n",
       "      <td>13056</td>\n",
       "      <td>campinas</td>\n",
       "      <td>SP</td>\n",
       "    </tr>\n",
       "  </tbody>\n",
       "</table>\n",
       "</div>"
      ],
      "text/plain": [
       "                        customer_id                customer_unique_id  \\\n",
       "0  06b8999e2fba1a1fbc88172c00ba8bc7  861eff4711a542e4b93843c6dd7febb0   \n",
       "1  18955e83d337fd6b2def6b18a428ac77  290c77bc529b7ac935b93aa66c333dc3   \n",
       "2  4e7b3e00288586ebd08712fdd0374a03  060e732b5b29e8181a18229c7b0b2b5e   \n",
       "3  b2b6027bc5c5109e529d4dc6358b12c3  259dac757896d24d7702b9acbbff3f3c   \n",
       "4  4f2d8ab171c80ec8364f7c12e35b23ad  345ecd01c38d18a9036ed96c73b8d066   \n",
       "\n",
       "   customer_zip_code_prefix          customer_city customer_state  \n",
       "0                     14409                 franca             SP  \n",
       "1                      9790  sao bernardo do campo             SP  \n",
       "2                      1151              sao paulo             SP  \n",
       "3                      8775        mogi das cruzes             SP  \n",
       "4                     13056               campinas             SP  "
      ]
     },
     "execution_count": 8,
     "metadata": {},
     "output_type": "execute_result"
    }
   ],
   "source": [
    "# Read the csv file\n",
    "orders_file_df = pd.read_csv(orders_file)\n",
    "cust_file_df = pd.read_csv(cust_file)\n",
    "\n",
    "# View top five rows\n",
    "cust_file_df.head()"
   ]
  },
  {
   "cell_type": "code",
   "execution_count": 5,
   "metadata": {},
   "outputs": [
    {
     "data": {
      "text/plain": [
       "(99441, 8)"
      ]
     },
     "execution_count": 5,
     "metadata": {},
     "output_type": "execute_result"
    }
   ],
   "source": [
    "# Check the size (rows and columns of the dataframe)\n",
    "orders_file_df.shape\n"
   ]
  },
  {
   "cell_type": "code",
   "execution_count": 6,
   "metadata": {},
   "outputs": [
    {
     "data": {
      "text/plain": [
       "Index(['order_id', 'customer_id', 'order_status', 'order_purchase_timestamp',\n",
       "       'order_approved_at', 'order_delivered_carrier_date',\n",
       "       'order_delivered_customer_date', 'order_estimated_delivery_date'],\n",
       "      dtype='object')"
      ]
     },
     "execution_count": 6,
     "metadata": {},
     "output_type": "execute_result"
    }
   ],
   "source": [
    "# Column names\n",
    "orders_file_df.columns\n"
   ]
  },
  {
   "cell_type": "markdown",
   "metadata": {},
   "source": [
    "For this exercise, we will use only four columns from this data frame: `order_id`, `customer_id`, `order_status`, `order_purchase_date`. Let's drop the other columns."
   ]
  },
  {
   "cell_type": "code",
   "execution_count": 10,
   "metadata": {},
   "outputs": [],
   "source": [
    "# Drop unnecessary columns\n",
    "\n",
    "drop_vars = ['order_approved_at', 'order_delivered_carrier_date', \n",
    "             'order_delivered_customer_date', 'order_estimated_delivery_date']\n",
    "\n",
    "orders_file_df = orders_file_df.drop(drop_vars, axis=1)\n",
    "\n"
   ]
  },
  {
   "cell_type": "code",
   "execution_count": 12,
   "metadata": {},
   "outputs": [
    {
     "data": {
      "text/plain": [
       "order_id                    object\n",
       "customer_id                 object\n",
       "order_status                object\n",
       "order_purchase_timestamp    object\n",
       "dtype: object"
      ]
     },
     "execution_count": 12,
     "metadata": {},
     "output_type": "execute_result"
    }
   ],
   "source": [
    "# Check column types\n",
    "orders_file_df.dtypes\n",
    "\n"
   ]
  },
  {
   "cell_type": "markdown",
   "metadata": {},
   "source": [
    "### Convert `order_purchase_timestamp` from `object` to `datetime`"
   ]
  },
  {
   "cell_type": "code",
   "execution_count": 68,
   "metadata": {},
   "outputs": [
    {
     "data": {
      "text/plain": [
       "order_id                            object\n",
       "customer_id                         object\n",
       "order_status                        object\n",
       "order_purchase_timestamp    datetime64[ns]\n",
       "dtype: object"
      ]
     },
     "execution_count": 68,
     "metadata": {},
     "output_type": "execute_result"
    }
   ],
   "source": [
    "# Date-time conversion\n",
    "orders_file_df['order_purchase_timestamp'] = pd.to_datetime(orders_file_df['order_purchase_timestamp'])\n",
    "\n",
    "\n",
    "# Check column types\n",
    "orders_file_df.dtypes"
   ]
  },
  {
   "cell_type": "code",
   "execution_count": 20,
   "metadata": {},
   "outputs": [
    {
     "data": {
      "text/plain": [
       "0    2017-10-02\n",
       "1    2018-07-24\n",
       "2    2018-08-08\n",
       "3    2017-11-18\n",
       "4    2018-02-13\n",
       "Name: order_purchase_timestamp, dtype: object"
      ]
     },
     "execution_count": 20,
     "metadata": {},
     "output_type": "execute_result"
    }
   ],
   "source": [
    "orders_file_df['order_purchase_timestamp'].head()"
   ]
  },
  {
   "cell_type": "code",
   "execution_count": 19,
   "metadata": {},
   "outputs": [],
   "source": [
    "# For this exercise, we won't use the time-stamp\n",
    "# Let's convert the order purchase timestamps into dates\n",
    "\n",
    "orders_file_df['order_purchase_timestamp'] = orders_file_df['order_purchase_timestamp'].dt.date"
   ]
  },
  {
   "cell_type": "markdown",
   "metadata": {},
   "source": [
    "### Daily order volumes"
   ]
  },
  {
   "cell_type": "code",
   "execution_count": 34,
   "metadata": {},
   "outputs": [],
   "source": [
    "# Group by order date and count the number of orders (for each date)\n",
    "order_counts = orders_file_df.groupby('order_purchase_timestamp')['order_id'].count()\n",
    "\n",
    "\n"
   ]
  },
  {
   "cell_type": "code",
   "execution_count": 45,
   "metadata": {},
   "outputs": [
    {
     "data": {
      "text/plain": [
       "order_purchase_timestamp\n",
       "2016-09-04       1\n",
       "2018-10-03       1\n",
       "2018-10-01       1\n",
       "2018-09-29       1\n",
       "2018-09-26       1\n",
       "2018-09-25       1\n",
       "2018-09-20       1\n",
       "2018-09-17       1\n",
       "2018-09-13       1\n",
       "2018-09-12       1\n",
       "2018-09-11       1\n",
       "2018-09-10       1\n",
       "2018-08-31       1\n",
       "2018-10-16       1\n",
       "2018-10-17       1\n",
       "2016-10-02       1\n",
       "2016-09-15       1\n",
       "2016-10-22       1\n",
       "2016-09-13       1\n",
       "2016-12-23       1\n",
       "2016-09-05       1\n",
       "2018-09-06       3\n",
       "2017-01-06       4\n",
       "2017-01-07       4\n",
       "2018-09-03       4\n",
       "2018-08-30       4\n",
       "2017-01-09       5\n",
       "2017-01-08       6\n",
       "2017-01-10       6\n",
       "2016-10-03       8\n",
       "              ... \n",
       "2018-08-02     302\n",
       "2018-01-16     302\n",
       "2018-03-19     303\n",
       "2018-05-03     305\n",
       "2018-07-18     307\n",
       "2018-07-23     307\n",
       "2018-01-15     307\n",
       "2018-08-01     311\n",
       "2018-02-28     313\n",
       "2018-01-22     314\n",
       "2018-08-03     314\n",
       "2018-08-14     316\n",
       "2018-08-08     316\n",
       "2018-08-16     320\n",
       "2018-07-31     322\n",
       "2017-11-29     323\n",
       "2018-05-08     331\n",
       "2017-12-04     337\n",
       "2018-05-09     344\n",
       "2018-05-15     352\n",
       "2018-05-16     357\n",
       "2018-05-14     364\n",
       "2018-08-07     370\n",
       "2018-05-07     372\n",
       "2018-08-06     372\n",
       "2017-11-28     380\n",
       "2017-11-26     391\n",
       "2017-11-27     403\n",
       "2017-11-25     499\n",
       "2017-11-24    1176\n",
       "Name: order_id, Length: 634, dtype: int64"
      ]
     },
     "execution_count": 45,
     "metadata": {},
     "output_type": "execute_result"
    }
   ],
   "source": [
    "order_counts.sort_values(0)"
   ]
  },
  {
   "cell_type": "markdown",
   "metadata": {},
   "source": [
    "The `groupby()` function with a summary function like `count()` returns an indexed pandas dataframe. "
   ]
  },
  {
   "cell_type": "markdown",
   "metadata": {},
   "source": [
    "**pandas** uses a similar structure like **SQL** for aggregating data. Here's an analogous SQL query:\n",
    "\n",
    "`CREATE TABLE order_counts as`\n",
    "\n",
    "`SELECT order_purchase_date, count(order_id)`\n",
    "\n",
    "`FROM orders`\n",
    "\n",
    "`GROUP BY order_purchase_date;`"
   ]
  },
  {
   "cell_type": "code",
   "execution_count": 46,
   "metadata": {},
   "outputs": [
    {
     "data": {
      "text/plain": [
       "Text(0.5, 0, 'Order Purchase Date')"
      ]
     },
     "execution_count": 46,
     "metadata": {},
     "output_type": "execute_result"
    },
    {
     "data": {
      "image/png": "[encoded data removed]",
      "text/plain": [
       "<Figure size 1080x432 with 1 Axes>"
      ]
     },
     "metadata": {},
     "output_type": "display_data"
    }
   ],
   "source": [
    "# Plot the daily order volume\n",
    "\n",
    "#import matplotlib.pyplot as plt\n",
    "#import seaborn as sns\n",
    "\n",
    "# Set style\n",
    "sns.set(style='darkgrid')\n",
    "\n",
    "# Adjust the plot size\n",
    "plt.figure(figsize=[15, 6])\n",
    "\n",
    "# Line plot\n",
    "sns.lineplot(x=order_counts.index, y=order_counts, color='royalblue')\n",
    "\n",
    "# Assign axis labels\n",
    "plt.ylabel('Number of Orders', fontsize=14)\n",
    "plt.xlabel('Order Purchase Date', fontsize=14)"
   ]
  },
  {
   "cell_type": "markdown",
   "metadata": {},
   "source": [
    "There's a huge spike in the number of orders sometime around November/December 2017. Let's identify that specific day."
   ]
  },
  {
   "cell_type": "code",
   "execution_count": 60,
   "metadata": {
    "scrolled": true
   },
   "outputs": [
    {
     "data": {
      "text/plain": [
       "datetime.date(2017, 11, 24)"
      ]
     },
     "execution_count": 60,
     "metadata": {},
     "output_type": "execute_result"
    }
   ],
   "source": [
    "# Find the date associated with the maximum daily order volume\n",
    "\n",
    "#order_counts[order_counts==max(order_counts)]\n",
    "\n",
    "order_counts.idxmax()\n",
    "\n"
   ]
  },
  {
   "cell_type": "markdown",
   "metadata": {},
   "source": [
    "For this dataset, we don't know why there was this huge spike on 24-Nov-2017. In a real-world situation, this would be an opportunity to talk with the business owners to find out the reason(s) behind this apparent anomaly. Here are some potential reasons for this spike: a big one-day sale event, big product launch, platform launch (e.g., a new marketplace) on that day."
   ]
  },
  {
   "cell_type": "markdown",
   "metadata": {},
   "source": [
    "### Is there a monthly seasonality in the order volumes?"
   ]
  },
  {
   "cell_type": "code",
   "execution_count": 72,
   "metadata": {},
   "outputs": [
    {
     "data": {
      "text/plain": [
       "2018    54011\n",
       "2017    45101\n",
       "2016      329\n",
       "Name: order_year, dtype: int64"
      ]
     },
     "execution_count": 72,
     "metadata": {},
     "output_type": "execute_result"
    }
   ],
   "source": [
    "# Extract year from the order date\n",
    "\n",
    "orders_file_df['order_year'] = orders_file_df['order_purchase_timestamp'].dt.year\n",
    "\n",
    "orders_file_df['order_year'].value_counts()"
   ]
  },
  {
   "cell_type": "markdown",
   "metadata": {},
   "source": [
    "`value_counts()` sorts the results by using the counts in a descending order."
   ]
  },
  {
   "cell_type": "code",
   "execution_count": 75,
   "metadata": {},
   "outputs": [
    {
     "data": {
      "text/plain": [
       "1      8069\n",
       "2      8508\n",
       "3      9893\n",
       "4      9343\n",
       "5     10573\n",
       "6      9412\n",
       "7     10318\n",
       "8     10843\n",
       "9      4305\n",
       "10     4959\n",
       "11     7544\n",
       "12     5674\n",
       "Name: order_month, dtype: int64"
      ]
     },
     "execution_count": 75,
     "metadata": {},
     "output_type": "execute_result"
    }
   ],
   "source": [
    "# Extract month from the order date\n",
    "orders_file_df['order_month'] = orders_file_df['order_purchase_timestamp'].dt.month\n",
    "\n",
    "# -- INSERT CODE HERE -- ##\n",
    "orders_file_df['order_month'].value_counts(sort=False)"
   ]
  },
  {
   "cell_type": "code",
   "execution_count": 80,
   "metadata": {},
   "outputs": [],
   "source": [
    "# Group by year and month to get the number of orders for each combination\n",
    "order_groups = orders_file_df.groupby(['order_year', 'order_month'])['order_id'].count()\n"
   ]
  },
  {
   "cell_type": "code",
   "execution_count": 81,
   "metadata": {},
   "outputs": [
    {
     "data": {
      "text/plain": [
       "MultiIndex(levels=[[2016, 2017, 2018], [1, 2, 3, 4, 5, 6, 7, 8, 9, 10, 11, 12]],\n",
       "           labels=[[0, 0, 0, 1, 1, 1, 1, 1, 1, 1, 1, 1, 1, 1, 1, 2, 2, 2, 2, 2, 2, 2, 2, 2, 2], [8, 9, 11, 0, 1, 2, 3, 4, 5, 6, 7, 8, 9, 10, 11, 0, 1, 2, 3, 4, 5, 6, 7, 8, 9]],\n",
       "           names=['order_year', 'order_month'])"
      ]
     },
     "execution_count": 81,
     "metadata": {},
     "output_type": "execute_result"
    }
   ],
   "source": [
    "order_groups.index"
   ]
  },
  {
   "cell_type": "code",
   "execution_count": 83,
   "metadata": {},
   "outputs": [
    {
     "data": {
      "text/html": [
       "<div>\n",
       "<style scoped>\n",
       "    .dataframe tbody tr th:only-of-type {\n",
       "        vertical-align: middle;\n",
       "    }\n",
       "\n",
       "    .dataframe tbody tr th {\n",
       "        vertical-align: top;\n",
       "    }\n",
       "\n",
       "    .dataframe thead th {\n",
       "        text-align: right;\n",
       "    }\n",
       "</style>\n",
       "<table border=\"1\" class=\"dataframe\">\n",
       "  <thead>\n",
       "    <tr style=\"text-align: right;\">\n",
       "      <th></th>\n",
       "      <th>order_year</th>\n",
       "      <th>order_month</th>\n",
       "      <th>order_id</th>\n",
       "    </tr>\n",
       "  </thead>\n",
       "  <tbody>\n",
       "    <tr>\n",
       "      <th>0</th>\n",
       "      <td>2016</td>\n",
       "      <td>9</td>\n",
       "      <td>4</td>\n",
       "    </tr>\n",
       "    <tr>\n",
       "      <th>1</th>\n",
       "      <td>2016</td>\n",
       "      <td>10</td>\n",
       "      <td>324</td>\n",
       "    </tr>\n",
       "    <tr>\n",
       "      <th>2</th>\n",
       "      <td>2016</td>\n",
       "      <td>12</td>\n",
       "      <td>1</td>\n",
       "    </tr>\n",
       "    <tr>\n",
       "      <th>3</th>\n",
       "      <td>2017</td>\n",
       "      <td>1</td>\n",
       "      <td>800</td>\n",
       "    </tr>\n",
       "    <tr>\n",
       "      <th>4</th>\n",
       "      <td>2017</td>\n",
       "      <td>2</td>\n",
       "      <td>1780</td>\n",
       "    </tr>\n",
       "  </tbody>\n",
       "</table>\n",
       "</div>"
      ],
      "text/plain": [
       "   order_year  order_month  order_id\n",
       "0        2016            9         4\n",
       "1        2016           10       324\n",
       "2        2016           12         1\n",
       "3        2017            1       800\n",
       "4        2017            2      1780"
      ]
     },
     "execution_count": 83,
     "metadata": {},
     "output_type": "execute_result"
    }
   ],
   "source": [
    "# Reset index to make it a single-index (instead of multi-index) data frame\n",
    "order_groups.reset_index().head()\n"
   ]
  },
  {
   "cell_type": "code",
   "execution_count": 86,
   "metadata": {},
   "outputs": [
    {
     "data": {
      "text/html": [
       "<div>\n",
       "<style scoped>\n",
       "    .dataframe tbody tr th:only-of-type {\n",
       "        vertical-align: middle;\n",
       "    }\n",
       "\n",
       "    .dataframe tbody tr th {\n",
       "        vertical-align: top;\n",
       "    }\n",
       "\n",
       "    .dataframe thead th {\n",
       "        text-align: right;\n",
       "    }\n",
       "</style>\n",
       "<table border=\"1\" class=\"dataframe\">\n",
       "  <thead>\n",
       "    <tr style=\"text-align: right;\">\n",
       "      <th></th>\n",
       "      <th>order_year</th>\n",
       "      <th>order_month</th>\n",
       "      <th>order_id</th>\n",
       "    </tr>\n",
       "  </thead>\n",
       "  <tbody>\n",
       "    <tr>\n",
       "      <th>0</th>\n",
       "      <td>2016</td>\n",
       "      <td>9</td>\n",
       "      <td>4</td>\n",
       "    </tr>\n",
       "    <tr>\n",
       "      <th>1</th>\n",
       "      <td>2016</td>\n",
       "      <td>10</td>\n",
       "      <td>324</td>\n",
       "    </tr>\n",
       "    <tr>\n",
       "      <th>2</th>\n",
       "      <td>2016</td>\n",
       "      <td>12</td>\n",
       "      <td>1</td>\n",
       "    </tr>\n",
       "    <tr>\n",
       "      <th>3</th>\n",
       "      <td>2017</td>\n",
       "      <td>1</td>\n",
       "      <td>800</td>\n",
       "    </tr>\n",
       "    <tr>\n",
       "      <th>4</th>\n",
       "      <td>2017</td>\n",
       "      <td>2</td>\n",
       "      <td>1780</td>\n",
       "    </tr>\n",
       "    <tr>\n",
       "      <th>5</th>\n",
       "      <td>2017</td>\n",
       "      <td>3</td>\n",
       "      <td>2682</td>\n",
       "    </tr>\n",
       "    <tr>\n",
       "      <th>6</th>\n",
       "      <td>2017</td>\n",
       "      <td>4</td>\n",
       "      <td>2404</td>\n",
       "    </tr>\n",
       "    <tr>\n",
       "      <th>7</th>\n",
       "      <td>2017</td>\n",
       "      <td>5</td>\n",
       "      <td>3700</td>\n",
       "    </tr>\n",
       "    <tr>\n",
       "      <th>8</th>\n",
       "      <td>2017</td>\n",
       "      <td>6</td>\n",
       "      <td>3245</td>\n",
       "    </tr>\n",
       "    <tr>\n",
       "      <th>9</th>\n",
       "      <td>2017</td>\n",
       "      <td>7</td>\n",
       "      <td>4026</td>\n",
       "    </tr>\n",
       "    <tr>\n",
       "      <th>10</th>\n",
       "      <td>2017</td>\n",
       "      <td>8</td>\n",
       "      <td>4331</td>\n",
       "    </tr>\n",
       "    <tr>\n",
       "      <th>11</th>\n",
       "      <td>2017</td>\n",
       "      <td>9</td>\n",
       "      <td>4285</td>\n",
       "    </tr>\n",
       "    <tr>\n",
       "      <th>12</th>\n",
       "      <td>2017</td>\n",
       "      <td>10</td>\n",
       "      <td>4631</td>\n",
       "    </tr>\n",
       "    <tr>\n",
       "      <th>13</th>\n",
       "      <td>2017</td>\n",
       "      <td>11</td>\n",
       "      <td>7544</td>\n",
       "    </tr>\n",
       "    <tr>\n",
       "      <th>14</th>\n",
       "      <td>2017</td>\n",
       "      <td>12</td>\n",
       "      <td>5673</td>\n",
       "    </tr>\n",
       "    <tr>\n",
       "      <th>15</th>\n",
       "      <td>2018</td>\n",
       "      <td>1</td>\n",
       "      <td>7269</td>\n",
       "    </tr>\n",
       "    <tr>\n",
       "      <th>16</th>\n",
       "      <td>2018</td>\n",
       "      <td>2</td>\n",
       "      <td>6728</td>\n",
       "    </tr>\n",
       "    <tr>\n",
       "      <th>17</th>\n",
       "      <td>2018</td>\n",
       "      <td>3</td>\n",
       "      <td>7211</td>\n",
       "    </tr>\n",
       "    <tr>\n",
       "      <th>18</th>\n",
       "      <td>2018</td>\n",
       "      <td>4</td>\n",
       "      <td>6939</td>\n",
       "    </tr>\n",
       "    <tr>\n",
       "      <th>19</th>\n",
       "      <td>2018</td>\n",
       "      <td>5</td>\n",
       "      <td>6873</td>\n",
       "    </tr>\n",
       "    <tr>\n",
       "      <th>20</th>\n",
       "      <td>2018</td>\n",
       "      <td>6</td>\n",
       "      <td>6167</td>\n",
       "    </tr>\n",
       "    <tr>\n",
       "      <th>21</th>\n",
       "      <td>2018</td>\n",
       "      <td>7</td>\n",
       "      <td>6292</td>\n",
       "    </tr>\n",
       "    <tr>\n",
       "      <th>22</th>\n",
       "      <td>2018</td>\n",
       "      <td>8</td>\n",
       "      <td>6512</td>\n",
       "    </tr>\n",
       "    <tr>\n",
       "      <th>23</th>\n",
       "      <td>2018</td>\n",
       "      <td>9</td>\n",
       "      <td>16</td>\n",
       "    </tr>\n",
       "    <tr>\n",
       "      <th>24</th>\n",
       "      <td>2018</td>\n",
       "      <td>10</td>\n",
       "      <td>4</td>\n",
       "    </tr>\n",
       "  </tbody>\n",
       "</table>\n",
       "</div>"
      ],
      "text/plain": [
       "    order_year  order_month  order_id\n",
       "0         2016            9         4\n",
       "1         2016           10       324\n",
       "2         2016           12         1\n",
       "3         2017            1       800\n",
       "4         2017            2      1780\n",
       "5         2017            3      2682\n",
       "6         2017            4      2404\n",
       "7         2017            5      3700\n",
       "8         2017            6      3245\n",
       "9         2017            7      4026\n",
       "10        2017            8      4331\n",
       "11        2017            9      4285\n",
       "12        2017           10      4631\n",
       "13        2017           11      7544\n",
       "14        2017           12      5673\n",
       "15        2018            1      7269\n",
       "16        2018            2      6728\n",
       "17        2018            3      7211\n",
       "18        2018            4      6939\n",
       "19        2018            5      6873\n",
       "20        2018            6      6167\n",
       "21        2018            7      6292\n",
       "22        2018            8      6512\n",
       "23        2018            9        16\n",
       "24        2018           10         4"
      ]
     },
     "execution_count": 86,
     "metadata": {},
     "output_type": "execute_result"
    }
   ],
   "source": [
    "# Save the groupby results in a data frame\n",
    "#order_groups_df = order_groups.reset_index()\n",
    "\n",
    "order_groups_df\n"
   ]
  },
  {
   "cell_type": "code",
   "execution_count": 90,
   "metadata": {},
   "outputs": [
    {
     "data": {
      "text/plain": [
       "Text(0.5, 0, 'Order Purchase Date')"
      ]
     },
     "execution_count": 90,
     "metadata": {},
     "output_type": "execute_result"
    },
    {
     "data": {
      "image/png": "[encoded data removed]",
      "text/plain": [
       "<Figure size 864x648 with 1 Axes>"
      ]
     },
     "metadata": {},
     "output_type": "display_data"
    }
   ],
   "source": [
    "# Plot the order volumes by year and month\n",
    "\n",
    "sns.set(style='darkgrid')\n",
    "\n",
    "plt.figure(figsize=[12, 9])\n",
    "\n",
    "sns.lineplot(x='order_month', y='order_id', lw=4, hue='order_year', data=order_groups_df)\n",
    "\n",
    "plt.ylabel('Number of Orders', fontsize=14)\n",
    "plt.xlabel('Order Purchase Date', fontsize=14)"
   ]
  },
  {
   "cell_type": "markdown",
   "metadata": {},
   "source": [
    "The data from 2018 in incomplete (available until August), and only three months' worth of data is available from 2017. But based on the available data, there doesn't appear to be a strong seasonality effect over months. "
   ]
  },
  {
   "cell_type": "markdown",
   "metadata": {},
   "source": [
    "### Let's take a look at some customer-level patterns"
   ]
  },
  {
   "cell_type": "markdown",
   "metadata": {},
   "source": [
    "The `customer_id` that's available in the `olist_orders_dataset` file is *not* unique for each customer. The `olist_customers_dataset` file contains the unique identifier for each customer."
   ]
  },
  {
   "cell_type": "code",
   "execution_count": null,
   "metadata": {},
   "outputs": [],
   "source": [
    "# Read the file that contains the unique customer identifier\n",
    "\n",
    "## -- INSERT CODE HERE -- ##\n"
   ]
  },
  {
   "cell_type": "code",
   "execution_count": 92,
   "metadata": {},
   "outputs": [
    {
     "data": {
      "text/plain": [
       "Index(['customer_id', 'customer_unique_id', 'customer_zip_code_prefix',\n",
       "       'customer_city', 'customer_state'],\n",
       "      dtype='object')"
      ]
     },
     "execution_count": 92,
     "metadata": {},
     "output_type": "execute_result"
    }
   ],
   "source": [
    "# Check the size (rows and columns of the dataframe)\n",
    "cust_file_df.shape\n",
    "cust_file_df.columns\n"
   ]
  },
  {
   "cell_type": "code",
   "execution_count": 93,
   "metadata": {},
   "outputs": [],
   "source": [
    "# Let's keep only the following two columns: customer_id, customer_unique_id\n",
    "cust_df = cust_file_df[['customer_id', 'customer_unique_id']]\n"
   ]
  },
  {
   "cell_type": "code",
   "execution_count": 94,
   "metadata": {},
   "outputs": [
    {
     "data": {
      "text/html": [
       "<div>\n",
       "<style scoped>\n",
       "    .dataframe tbody tr th:only-of-type {\n",
       "        vertical-align: middle;\n",
       "    }\n",
       "\n",
       "    .dataframe tbody tr th {\n",
       "        vertical-align: top;\n",
       "    }\n",
       "\n",
       "    .dataframe thead th {\n",
       "        text-align: right;\n",
       "    }\n",
       "</style>\n",
       "<table border=\"1\" class=\"dataframe\">\n",
       "  <thead>\n",
       "    <tr style=\"text-align: right;\">\n",
       "      <th></th>\n",
       "      <th>customer_id</th>\n",
       "      <th>customer_unique_id</th>\n",
       "    </tr>\n",
       "  </thead>\n",
       "  <tbody>\n",
       "    <tr>\n",
       "      <th>0</th>\n",
       "      <td>06b8999e2fba1a1fbc88172c00ba8bc7</td>\n",
       "      <td>861eff4711a542e4b93843c6dd7febb0</td>\n",
       "    </tr>\n",
       "    <tr>\n",
       "      <th>1</th>\n",
       "      <td>18955e83d337fd6b2def6b18a428ac77</td>\n",
       "      <td>290c77bc529b7ac935b93aa66c333dc3</td>\n",
       "    </tr>\n",
       "    <tr>\n",
       "      <th>2</th>\n",
       "      <td>4e7b3e00288586ebd08712fdd0374a03</td>\n",
       "      <td>060e732b5b29e8181a18229c7b0b2b5e</td>\n",
       "    </tr>\n",
       "    <tr>\n",
       "      <th>3</th>\n",
       "      <td>b2b6027bc5c5109e529d4dc6358b12c3</td>\n",
       "      <td>259dac757896d24d7702b9acbbff3f3c</td>\n",
       "    </tr>\n",
       "    <tr>\n",
       "      <th>4</th>\n",
       "      <td>4f2d8ab171c80ec8364f7c12e35b23ad</td>\n",
       "      <td>345ecd01c38d18a9036ed96c73b8d066</td>\n",
       "    </tr>\n",
       "  </tbody>\n",
       "</table>\n",
       "</div>"
      ],
      "text/plain": [
       "                        customer_id                customer_unique_id\n",
       "0  06b8999e2fba1a1fbc88172c00ba8bc7  861eff4711a542e4b93843c6dd7febb0\n",
       "1  18955e83d337fd6b2def6b18a428ac77  290c77bc529b7ac935b93aa66c333dc3\n",
       "2  4e7b3e00288586ebd08712fdd0374a03  060e732b5b29e8181a18229c7b0b2b5e\n",
       "3  b2b6027bc5c5109e529d4dc6358b12c3  259dac757896d24d7702b9acbbff3f3c\n",
       "4  4f2d8ab171c80ec8364f7c12e35b23ad  345ecd01c38d18a9036ed96c73b8d066"
      ]
     },
     "execution_count": 94,
     "metadata": {},
     "output_type": "execute_result"
    }
   ],
   "source": [
    "cust_df.head()"
   ]
  },
  {
   "cell_type": "markdown",
   "metadata": {},
   "source": [
    "Merge the orders dataframe with the customer dataframe to append `customer_unique_id` to the orders data."
   ]
  },
  {
   "cell_type": "code",
   "execution_count": 107,
   "metadata": {},
   "outputs": [],
   "source": [
    "# Merge orders and cust dataframes\n",
    "merged_df = pd.merge(orders_file_df, cust_df, on='customer_id', how='inner')\n",
    "\n",
    "\n"
   ]
  },
  {
   "cell_type": "code",
   "execution_count": 108,
   "metadata": {},
   "outputs": [
    {
     "data": {
      "text/html": [
       "<div>\n",
       "<style scoped>\n",
       "    .dataframe tbody tr th:only-of-type {\n",
       "        vertical-align: middle;\n",
       "    }\n",
       "\n",
       "    .dataframe tbody tr th {\n",
       "        vertical-align: top;\n",
       "    }\n",
       "\n",
       "    .dataframe thead th {\n",
       "        text-align: right;\n",
       "    }\n",
       "</style>\n",
       "<table border=\"1\" class=\"dataframe\">\n",
       "  <thead>\n",
       "    <tr style=\"text-align: right;\">\n",
       "      <th></th>\n",
       "      <th>order_id</th>\n",
       "      <th>customer_id</th>\n",
       "      <th>order_status</th>\n",
       "      <th>order_purchase_timestamp</th>\n",
       "      <th>order_year</th>\n",
       "      <th>order_month</th>\n",
       "      <th>customer_unique_id</th>\n",
       "    </tr>\n",
       "  </thead>\n",
       "  <tbody>\n",
       "    <tr>\n",
       "      <th>0</th>\n",
       "      <td>e481f51cbdc54678b7cc49136f2d6af7</td>\n",
       "      <td>9ef432eb6251297304e76186b10a928d</td>\n",
       "      <td>delivered</td>\n",
       "      <td>2017-10-02</td>\n",
       "      <td>2017</td>\n",
       "      <td>10</td>\n",
       "      <td>7c396fd4830fd04220f754e42b4e5bff</td>\n",
       "    </tr>\n",
       "    <tr>\n",
       "      <th>1</th>\n",
       "      <td>53cdb2fc8bc7dce0b6741e2150273451</td>\n",
       "      <td>b0830fb4747a6c6d20dea0b8c802d7ef</td>\n",
       "      <td>delivered</td>\n",
       "      <td>2018-07-24</td>\n",
       "      <td>2018</td>\n",
       "      <td>7</td>\n",
       "      <td>af07308b275d755c9edb36a90c618231</td>\n",
       "    </tr>\n",
       "    <tr>\n",
       "      <th>2</th>\n",
       "      <td>47770eb9100c2d0c44946d9cf07ec65d</td>\n",
       "      <td>41ce2a54c0b03bf3443c3d931a367089</td>\n",
       "      <td>delivered</td>\n",
       "      <td>2018-08-08</td>\n",
       "      <td>2018</td>\n",
       "      <td>8</td>\n",
       "      <td>3a653a41f6f9fc3d2a113cf8398680e8</td>\n",
       "    </tr>\n",
       "    <tr>\n",
       "      <th>3</th>\n",
       "      <td>949d5b44dbf5de918fe9c16f97b45f8a</td>\n",
       "      <td>f88197465ea7920adcdbec7375364d82</td>\n",
       "      <td>delivered</td>\n",
       "      <td>2017-11-18</td>\n",
       "      <td>2017</td>\n",
       "      <td>11</td>\n",
       "      <td>7c142cf63193a1473d2e66489a9ae977</td>\n",
       "    </tr>\n",
       "    <tr>\n",
       "      <th>4</th>\n",
       "      <td>ad21c59c0840e6cb83a9ceb5573f8159</td>\n",
       "      <td>8ab97904e6daea8866dbdbc4fb7aad2c</td>\n",
       "      <td>delivered</td>\n",
       "      <td>2018-02-13</td>\n",
       "      <td>2018</td>\n",
       "      <td>2</td>\n",
       "      <td>72632f0f9dd73dfee390c9b22eb56dd6</td>\n",
       "    </tr>\n",
       "    <tr>\n",
       "      <th>5</th>\n",
       "      <td>a4591c265e18cb1dcee52889e2d8acc3</td>\n",
       "      <td>503740e9ca751ccdda7ba28e9ab8f608</td>\n",
       "      <td>delivered</td>\n",
       "      <td>2017-07-09</td>\n",
       "      <td>2017</td>\n",
       "      <td>7</td>\n",
       "      <td>80bb27c7c16e8f973207a5086ab329e2</td>\n",
       "    </tr>\n",
       "    <tr>\n",
       "      <th>6</th>\n",
       "      <td>136cce7faa42fdb2cefd53fdc79a6098</td>\n",
       "      <td>ed0271e0b7da060a393796590e7b737a</td>\n",
       "      <td>invoiced</td>\n",
       "      <td>2017-04-11</td>\n",
       "      <td>2017</td>\n",
       "      <td>4</td>\n",
       "      <td>36edbb3fb164b1f16485364b6fb04c73</td>\n",
       "    </tr>\n",
       "    <tr>\n",
       "      <th>7</th>\n",
       "      <td>6514b8ad8028c9f2cc2374ded245783f</td>\n",
       "      <td>9bdf08b4b3b52b5526ff42d37d47f222</td>\n",
       "      <td>delivered</td>\n",
       "      <td>2017-05-16</td>\n",
       "      <td>2017</td>\n",
       "      <td>5</td>\n",
       "      <td>932afa1e708222e5821dac9cd5db4cae</td>\n",
       "    </tr>\n",
       "    <tr>\n",
       "      <th>8</th>\n",
       "      <td>76c6e866289321a7c93b82b54852dc33</td>\n",
       "      <td>f54a9f0e6b351c431402b8461ea51999</td>\n",
       "      <td>delivered</td>\n",
       "      <td>2017-01-23</td>\n",
       "      <td>2017</td>\n",
       "      <td>1</td>\n",
       "      <td>39382392765b6dc74812866ee5ee92a7</td>\n",
       "    </tr>\n",
       "    <tr>\n",
       "      <th>9</th>\n",
       "      <td>e69bfb5eb88e0ed6a785585b27e16dbf</td>\n",
       "      <td>31ad1d1b63eb9962463f764d4e6e0c9d</td>\n",
       "      <td>delivered</td>\n",
       "      <td>2017-07-29</td>\n",
       "      <td>2017</td>\n",
       "      <td>7</td>\n",
       "      <td>299905e3934e9e181bfb2e164dd4b4f8</td>\n",
       "    </tr>\n",
       "    <tr>\n",
       "      <th>10</th>\n",
       "      <td>e6ce16cb79ec1d90b1da9085a6118aeb</td>\n",
       "      <td>494dded5b201313c64ed7f100595b95c</td>\n",
       "      <td>delivered</td>\n",
       "      <td>2017-05-16</td>\n",
       "      <td>2017</td>\n",
       "      <td>5</td>\n",
       "      <td>f2a85dec752b8517b5e58a06ff3cd937</td>\n",
       "    </tr>\n",
       "    <tr>\n",
       "      <th>11</th>\n",
       "      <td>34513ce0c4fab462a55830c0989c7edb</td>\n",
       "      <td>7711cf624183d843aafe81855097bc37</td>\n",
       "      <td>delivered</td>\n",
       "      <td>2017-07-13</td>\n",
       "      <td>2017</td>\n",
       "      <td>7</td>\n",
       "      <td>782987b81c92239d922aa49d6bd4200b</td>\n",
       "    </tr>\n",
       "    <tr>\n",
       "      <th>12</th>\n",
       "      <td>82566a660a982b15fb86e904c8d32918</td>\n",
       "      <td>d3e3b74c766bc6214e0c830b17ee2341</td>\n",
       "      <td>delivered</td>\n",
       "      <td>2018-06-07</td>\n",
       "      <td>2018</td>\n",
       "      <td>6</td>\n",
       "      <td>e97109680b052ee858d93a539597bba7</td>\n",
       "    </tr>\n",
       "    <tr>\n",
       "      <th>13</th>\n",
       "      <td>5ff96c15d0b717ac6ad1f3d77225a350</td>\n",
       "      <td>19402a48fe860416adf93348aba37740</td>\n",
       "      <td>delivered</td>\n",
       "      <td>2018-07-25</td>\n",
       "      <td>2018</td>\n",
       "      <td>7</td>\n",
       "      <td>e2dfa3127fedbbca9707b36304996dab</td>\n",
       "    </tr>\n",
       "    <tr>\n",
       "      <th>14</th>\n",
       "      <td>432aaf21d85167c2c86ec9448c4e42cc</td>\n",
       "      <td>3df704f53d3f1d4818840b34ec672a9f</td>\n",
       "      <td>delivered</td>\n",
       "      <td>2018-03-01</td>\n",
       "      <td>2018</td>\n",
       "      <td>3</td>\n",
       "      <td>04cf8185c71090d28baa4407b2e6d600</td>\n",
       "    </tr>\n",
       "    <tr>\n",
       "      <th>15</th>\n",
       "      <td>dcb36b511fcac050b97cd5c05de84dc3</td>\n",
       "      <td>3b6828a50ffe546942b7a473d70ac0fc</td>\n",
       "      <td>delivered</td>\n",
       "      <td>2018-06-07</td>\n",
       "      <td>2018</td>\n",
       "      <td>6</td>\n",
       "      <td>ccafc1c3f270410521c3c6f3b249870f</td>\n",
       "    </tr>\n",
       "    <tr>\n",
       "      <th>16</th>\n",
       "      <td>403b97836b0c04a622354cf531062e5f</td>\n",
       "      <td>738b086814c6fcc74b8cc583f8516ee3</td>\n",
       "      <td>delivered</td>\n",
       "      <td>2018-01-02</td>\n",
       "      <td>2018</td>\n",
       "      <td>1</td>\n",
       "      <td>6e26bbeaa107ec34112c64e1ee31c0f5</td>\n",
       "    </tr>\n",
       "    <tr>\n",
       "      <th>17</th>\n",
       "      <td>116f0b09343b49556bbad5f35bee0cdf</td>\n",
       "      <td>3187789bec990987628d7a9beb4dd6ac</td>\n",
       "      <td>delivered</td>\n",
       "      <td>2017-12-26</td>\n",
       "      <td>2017</td>\n",
       "      <td>12</td>\n",
       "      <td>6087cfc70fd833cf2db637a5e6e9d76b</td>\n",
       "    </tr>\n",
       "    <tr>\n",
       "      <th>18</th>\n",
       "      <td>85ce859fd6dc634de8d2f1e290444043</td>\n",
       "      <td>059f7fc5719c7da6cbafe370971a8d70</td>\n",
       "      <td>delivered</td>\n",
       "      <td>2017-11-21</td>\n",
       "      <td>2017</td>\n",
       "      <td>11</td>\n",
       "      <td>d0ff1a7468fcc46b8fc658ab35d2a12c</td>\n",
       "    </tr>\n",
       "    <tr>\n",
       "      <th>19</th>\n",
       "      <td>83018ec114eee8641c97e08f7b4e926f</td>\n",
       "      <td>7f8c8b9c2ae27bf3300f670c3d478be8</td>\n",
       "      <td>delivered</td>\n",
       "      <td>2017-10-26</td>\n",
       "      <td>2017</td>\n",
       "      <td>10</td>\n",
       "      <td>634f09f6075fe9032e6c19609ffe995a</td>\n",
       "    </tr>\n",
       "    <tr>\n",
       "      <th>20</th>\n",
       "      <td>203096f03d82e0dffbc41ebc2e2bcfb7</td>\n",
       "      <td>d2b091571da224a1b36412c18bc3bbfe</td>\n",
       "      <td>delivered</td>\n",
       "      <td>2017-09-18</td>\n",
       "      <td>2017</td>\n",
       "      <td>9</td>\n",
       "      <td>d699688533772c15a061e8ce81cb56df</td>\n",
       "    </tr>\n",
       "    <tr>\n",
       "      <th>21</th>\n",
       "      <td>f848643eec1d69395095eb3840d2051e</td>\n",
       "      <td>4fa1cd166fa598be6de80fa84eaade43</td>\n",
       "      <td>delivered</td>\n",
       "      <td>2018-03-15</td>\n",
       "      <td>2018</td>\n",
       "      <td>3</td>\n",
       "      <td>68954feaafe4dd638f3bd3e2afa174ec</td>\n",
       "    </tr>\n",
       "    <tr>\n",
       "      <th>22</th>\n",
       "      <td>2807d0e504d6d4894d41672727bc139f</td>\n",
       "      <td>72ae281627a6102d9b3718528b420f8a</td>\n",
       "      <td>delivered</td>\n",
       "      <td>2018-02-03</td>\n",
       "      <td>2018</td>\n",
       "      <td>2</td>\n",
       "      <td>b8df986511d928829c3192c2ed081eba</td>\n",
       "    </tr>\n",
       "    <tr>\n",
       "      <th>23</th>\n",
       "      <td>95266dbfb7e20354baba07964dac78d5</td>\n",
       "      <td>a166da34890074091a942054b36e4265</td>\n",
       "      <td>delivered</td>\n",
       "      <td>2018-01-08</td>\n",
       "      <td>2018</td>\n",
       "      <td>1</td>\n",
       "      <td>451e48381edab7f1f6dbfa6d728616ff</td>\n",
       "    </tr>\n",
       "    <tr>\n",
       "      <th>24</th>\n",
       "      <td>f3e7c359154d965827355f39d6b1fdac</td>\n",
       "      <td>62b423aab58096ca514ba6aa06be2f98</td>\n",
       "      <td>delivered</td>\n",
       "      <td>2018-08-09</td>\n",
       "      <td>2018</td>\n",
       "      <td>8</td>\n",
       "      <td>9c9242ad7f1b52d926ea76778e1c0c57</td>\n",
       "    </tr>\n",
       "    <tr>\n",
       "      <th>25</th>\n",
       "      <td>fbf9ac61453ac646ce8ad9783d7d0af6</td>\n",
       "      <td>3a874b4d4c4b6543206ff5d89287f0c3</td>\n",
       "      <td>delivered</td>\n",
       "      <td>2018-02-20</td>\n",
       "      <td>2018</td>\n",
       "      <td>2</td>\n",
       "      <td>a25d5f94840d3c6a1a49f271ed83f4ec</td>\n",
       "    </tr>\n",
       "    <tr>\n",
       "      <th>26</th>\n",
       "      <td>acce194856392f074dbf9dada14d8d82</td>\n",
       "      <td>7e20bf5ca92da68200643bda76c504c6</td>\n",
       "      <td>delivered</td>\n",
       "      <td>2018-06-04</td>\n",
       "      <td>2018</td>\n",
       "      <td>6</td>\n",
       "      <td>576ea0cab426cd8a00fad9a9c90a4494</td>\n",
       "    </tr>\n",
       "    <tr>\n",
       "      <th>27</th>\n",
       "      <td>dd78f560c270f1909639c11b925620ea</td>\n",
       "      <td>8b212b9525f9e74e85e37ed6df37693e</td>\n",
       "      <td>delivered</td>\n",
       "      <td>2018-03-12</td>\n",
       "      <td>2018</td>\n",
       "      <td>3</td>\n",
       "      <td>f4a7ef6bd931f83d75d83b71c94e90df</td>\n",
       "    </tr>\n",
       "    <tr>\n",
       "      <th>28</th>\n",
       "      <td>91b2a010e1e45e6ba3d133fa997597be</td>\n",
       "      <td>cce89a605105b148387c52e286ac8335</td>\n",
       "      <td>delivered</td>\n",
       "      <td>2018-05-02</td>\n",
       "      <td>2018</td>\n",
       "      <td>5</td>\n",
       "      <td>bd13608b9c6033892ce62269b50a0afc</td>\n",
       "    </tr>\n",
       "    <tr>\n",
       "      <th>29</th>\n",
       "      <td>ecab90c9933c58908d3d6add7c6f5ae3</td>\n",
       "      <td>761df82feda9778854c6dafdaeb567e4</td>\n",
       "      <td>delivered</td>\n",
       "      <td>2018-02-25</td>\n",
       "      <td>2018</td>\n",
       "      <td>2</td>\n",
       "      <td>1428917cd397d4f9ac0fde76dd6f2266</td>\n",
       "    </tr>\n",
       "    <tr>\n",
       "      <th>...</th>\n",
       "      <td>...</td>\n",
       "      <td>...</td>\n",
       "      <td>...</td>\n",
       "      <td>...</td>\n",
       "      <td>...</td>\n",
       "      <td>...</td>\n",
       "      <td>...</td>\n",
       "    </tr>\n",
       "    <tr>\n",
       "      <th>99411</th>\n",
       "      <td>4a69678ecf74bfd34260031c04329b68</td>\n",
       "      <td>eb19f77ffd29917f353d12152b0c0de1</td>\n",
       "      <td>delivered</td>\n",
       "      <td>2018-07-22</td>\n",
       "      <td>2018</td>\n",
       "      <td>7</td>\n",
       "      <td>58a3b88ec0ed98474b1bb2630b277ed4</td>\n",
       "    </tr>\n",
       "    <tr>\n",
       "      <th>99412</th>\n",
       "      <td>4146f35ac7a7ef4e39fe344e563c1e3b</td>\n",
       "      <td>e0eac226ceae49858de89e8a5c1ba1ec</td>\n",
       "      <td>delivered</td>\n",
       "      <td>2017-11-26</td>\n",
       "      <td>2017</td>\n",
       "      <td>11</td>\n",
       "      <td>7d414b6a1cf56a6bc5035f9eb436b15d</td>\n",
       "    </tr>\n",
       "    <tr>\n",
       "      <th>99413</th>\n",
       "      <td>3cea94817a51f34aa5937784fb4a3219</td>\n",
       "      <td>20b927d23e84dfaa333eb4aea6615084</td>\n",
       "      <td>delivered</td>\n",
       "      <td>2018-04-01</td>\n",
       "      <td>2018</td>\n",
       "      <td>4</td>\n",
       "      <td>0cc2c169569fd06473481e06325a5321</td>\n",
       "    </tr>\n",
       "    <tr>\n",
       "      <th>99414</th>\n",
       "      <td>e8fd20068b9f7e6ec07068bb7537f781</td>\n",
       "      <td>609b9fb8cad4fe0c7b376f77c8ab76ad</td>\n",
       "      <td>delivered</td>\n",
       "      <td>2017-08-10</td>\n",
       "      <td>2017</td>\n",
       "      <td>8</td>\n",
       "      <td>fb9310710003399b031add3e55f34719</td>\n",
       "    </tr>\n",
       "    <tr>\n",
       "      <th>99415</th>\n",
       "      <td>5fabc81b6322c8443648e1b21a6fef21</td>\n",
       "      <td>32c9df889d41b0ee8309a5efb6855dcb</td>\n",
       "      <td>unavailable</td>\n",
       "      <td>2017-10-10</td>\n",
       "      <td>2017</td>\n",
       "      <td>10</td>\n",
       "      <td>393d95c05b04db26ac084374094b3a52</td>\n",
       "    </tr>\n",
       "    <tr>\n",
       "      <th>99416</th>\n",
       "      <td>c627fe35fce1a754bc5b812d0b8ff379</td>\n",
       "      <td>42b0671b440d1f2527bddd8b723e0a0c</td>\n",
       "      <td>delivered</td>\n",
       "      <td>2018-06-03</td>\n",
       "      <td>2018</td>\n",
       "      <td>6</td>\n",
       "      <td>b0854ff72fac3b922fde0115dd2c0a5f</td>\n",
       "    </tr>\n",
       "    <tr>\n",
       "      <th>99417</th>\n",
       "      <td>e6cc57f923c4dab2222b8c9aa8742eea</td>\n",
       "      <td>2f4a42f9bb4b9a8cd402fa549df5c7fd</td>\n",
       "      <td>delivered</td>\n",
       "      <td>2018-02-07</td>\n",
       "      <td>2018</td>\n",
       "      <td>2</td>\n",
       "      <td>312823a3a38d7ad3046d8ba7122f93a8</td>\n",
       "    </tr>\n",
       "    <tr>\n",
       "      <th>99418</th>\n",
       "      <td>788541a19c0791de0504c5a9cb7e7bd5</td>\n",
       "      <td>a537aaf902d2f436eb7f44817154bb68</td>\n",
       "      <td>delivered</td>\n",
       "      <td>2017-11-30</td>\n",
       "      <td>2017</td>\n",
       "      <td>11</td>\n",
       "      <td>02029b32d4185a32a888c3f2d4d8839f</td>\n",
       "    </tr>\n",
       "    <tr>\n",
       "      <th>99419</th>\n",
       "      <td>1b4a0e6b19d0034b531655b41ea89623</td>\n",
       "      <td>ce5efd1b1d8a2fa290a871edd5c26cd6</td>\n",
       "      <td>delivered</td>\n",
       "      <td>2017-10-02</td>\n",
       "      <td>2017</td>\n",
       "      <td>10</td>\n",
       "      <td>39fff7cb5873a7116b02234bd1e6c6dc</td>\n",
       "    </tr>\n",
       "    <tr>\n",
       "      <th>99420</th>\n",
       "      <td>f9e3402be5a5ea63344347582ca9f45f</td>\n",
       "      <td>6f2cf56878f7f82151b0ad02590192c0</td>\n",
       "      <td>delivered</td>\n",
       "      <td>2017-06-07</td>\n",
       "      <td>2017</td>\n",
       "      <td>6</td>\n",
       "      <td>15b1c5678192a25402638f9bb93e9c02</td>\n",
       "    </tr>\n",
       "    <tr>\n",
       "      <th>99421</th>\n",
       "      <td>6f46d42016226f77893ed3978d6903d0</td>\n",
       "      <td>3803547f820b1e10b7ad9c7985f06753</td>\n",
       "      <td>delivered</td>\n",
       "      <td>2017-07-05</td>\n",
       "      <td>2017</td>\n",
       "      <td>7</td>\n",
       "      <td>bd7df6ff9e4a04991eea842883f79e9a</td>\n",
       "    </tr>\n",
       "    <tr>\n",
       "      <th>99422</th>\n",
       "      <td>dfc6eb45a2753ed9e6c6ef4987b44503</td>\n",
       "      <td>a046c690e0564ffde0ce611b5eee2c30</td>\n",
       "      <td>delivered</td>\n",
       "      <td>2018-05-25</td>\n",
       "      <td>2018</td>\n",
       "      <td>5</td>\n",
       "      <td>4a7ce65ce092885c0af12dc0001457cf</td>\n",
       "    </tr>\n",
       "    <tr>\n",
       "      <th>99423</th>\n",
       "      <td>38e9133ce29f6bbe35aed9c3863dce01</td>\n",
       "      <td>ad312389a098ceff46ce92c4595c06d0</td>\n",
       "      <td>delivered</td>\n",
       "      <td>2017-10-12</td>\n",
       "      <td>2017</td>\n",
       "      <td>10</td>\n",
       "      <td>a3983b8b6b679c9f645e6ef9517ac98d</td>\n",
       "    </tr>\n",
       "    <tr>\n",
       "      <th>99424</th>\n",
       "      <td>6ec4642f9993cc34f826cfb9068e5a2f</td>\n",
       "      <td>f00bb12620b7b232233cace1b229db18</td>\n",
       "      <td>delivered</td>\n",
       "      <td>2017-11-21</td>\n",
       "      <td>2017</td>\n",
       "      <td>11</td>\n",
       "      <td>cf82c9581d66ad1de6b0fe919188bdd6</td>\n",
       "    </tr>\n",
       "    <tr>\n",
       "      <th>99425</th>\n",
       "      <td>d692ef54145c9cb3322ec2e5508aa3f4</td>\n",
       "      <td>82ddfcf9438b0cd1117b55ac33184df8</td>\n",
       "      <td>delivered</td>\n",
       "      <td>2018-03-21</td>\n",
       "      <td>2018</td>\n",
       "      <td>3</td>\n",
       "      <td>397cd1affbb66fa8f76e8ac24685440a</td>\n",
       "    </tr>\n",
       "    <tr>\n",
       "      <th>99426</th>\n",
       "      <td>7cc85185736ea7f2d8bc09af7a47cab7</td>\n",
       "      <td>9e870ea67399650e8c3545a25d13e4d0</td>\n",
       "      <td>delivered</td>\n",
       "      <td>2017-05-15</td>\n",
       "      <td>2017</td>\n",
       "      <td>5</td>\n",
       "      <td>7bb6ca43f478742340256d516d9d86e3</td>\n",
       "    </tr>\n",
       "    <tr>\n",
       "      <th>99427</th>\n",
       "      <td>19dba6d1e58b04e7fc820558a38ea398</td>\n",
       "      <td>cf97e9cf454480b303de6736ddd15fd6</td>\n",
       "      <td>delivered</td>\n",
       "      <td>2018-05-12</td>\n",
       "      <td>2018</td>\n",
       "      <td>5</td>\n",
       "      <td>9e4accf95024aa6565ca1efcadb96752</td>\n",
       "    </tr>\n",
       "    <tr>\n",
       "      <th>99428</th>\n",
       "      <td>c22a47117b6a87c967b0c278488110c1</td>\n",
       "      <td>6e153567dc52ea59c0498ef5383e9c7a</td>\n",
       "      <td>delivered</td>\n",
       "      <td>2018-06-22</td>\n",
       "      <td>2018</td>\n",
       "      <td>6</td>\n",
       "      <td>e930b415f39ab827ea66de80a9d36a22</td>\n",
       "    </tr>\n",
       "    <tr>\n",
       "      <th>99429</th>\n",
       "      <td>0e4b26f1fb99fc0f0472dd5f403d36d4</td>\n",
       "      <td>2e96fa6d55b9732013caed9866e2552d</td>\n",
       "      <td>delivered</td>\n",
       "      <td>2017-11-05</td>\n",
       "      <td>2017</td>\n",
       "      <td>11</td>\n",
       "      <td>22757c044f096bef19c36c5d6ffc51d5</td>\n",
       "    </tr>\n",
       "    <tr>\n",
       "      <th>99430</th>\n",
       "      <td>c81f74e50f0496fa39716cc77cacd460</td>\n",
       "      <td>7b270ebc87c25c8404348c10ff80a80e</td>\n",
       "      <td>delivered</td>\n",
       "      <td>2018-03-04</td>\n",
       "      <td>2018</td>\n",
       "      <td>3</td>\n",
       "      <td>324a22205906aa2612a33e63c00ca8bb</td>\n",
       "    </tr>\n",
       "    <tr>\n",
       "      <th>99431</th>\n",
       "      <td>b0f4af5c1b06e24fef510703bfe9f0a6</td>\n",
       "      <td>8e1ec396e317ff4c82a03ce16a0c3eb3</td>\n",
       "      <td>delivered</td>\n",
       "      <td>2017-10-27</td>\n",
       "      <td>2017</td>\n",
       "      <td>10</td>\n",
       "      <td>1a3b8f1d0782ebedbcf220a96cbc1655</td>\n",
       "    </tr>\n",
       "    <tr>\n",
       "      <th>99432</th>\n",
       "      <td>cfa78b997e329a5295b4ee6972c02979</td>\n",
       "      <td>a2f7428f0cafbc8e59f20e1444b67315</td>\n",
       "      <td>delivered</td>\n",
       "      <td>2017-12-20</td>\n",
       "      <td>2017</td>\n",
       "      <td>12</td>\n",
       "      <td>a49e8e11e850592fe685ae3c64b40eca</td>\n",
       "    </tr>\n",
       "    <tr>\n",
       "      <th>99433</th>\n",
       "      <td>9115830be804184b91f5c00f6f49f92d</td>\n",
       "      <td>da2124f134f5dfbce9d06f29bdb6c308</td>\n",
       "      <td>delivered</td>\n",
       "      <td>2017-10-04</td>\n",
       "      <td>2017</td>\n",
       "      <td>10</td>\n",
       "      <td>c716cf2b5b86fb24257cffe9e7969df8</td>\n",
       "    </tr>\n",
       "    <tr>\n",
       "      <th>99434</th>\n",
       "      <td>aa04ef5214580b06b10e2a378300db44</td>\n",
       "      <td>f01a6bfcc730456317e4081fe0c9940e</td>\n",
       "      <td>delivered</td>\n",
       "      <td>2017-01-27</td>\n",
       "      <td>2017</td>\n",
       "      <td>1</td>\n",
       "      <td>e03dbdf5e56c96b106d8115ac336f47f</td>\n",
       "    </tr>\n",
       "    <tr>\n",
       "      <th>99435</th>\n",
       "      <td>880675dff2150932f1601e1c07eadeeb</td>\n",
       "      <td>47cd45a6ac7b9fb16537df2ccffeb5ac</td>\n",
       "      <td>delivered</td>\n",
       "      <td>2017-02-23</td>\n",
       "      <td>2017</td>\n",
       "      <td>2</td>\n",
       "      <td>831ce3f1bacbd424fc4e38fbd4d66d29</td>\n",
       "    </tr>\n",
       "    <tr>\n",
       "      <th>99436</th>\n",
       "      <td>9c5dedf39a927c1b2549525ed64a053c</td>\n",
       "      <td>39bd1228ee8140590ac3aca26f2dfe00</td>\n",
       "      <td>delivered</td>\n",
       "      <td>2017-03-09</td>\n",
       "      <td>2017</td>\n",
       "      <td>3</td>\n",
       "      <td>6359f309b166b0196dbf7ad2ac62bb5a</td>\n",
       "    </tr>\n",
       "    <tr>\n",
       "      <th>99437</th>\n",
       "      <td>63943bddc261676b46f01ca7ac2f7bd8</td>\n",
       "      <td>1fca14ff2861355f6e5f14306ff977a7</td>\n",
       "      <td>delivered</td>\n",
       "      <td>2018-02-06</td>\n",
       "      <td>2018</td>\n",
       "      <td>2</td>\n",
       "      <td>da62f9e57a76d978d02ab5362c509660</td>\n",
       "    </tr>\n",
       "    <tr>\n",
       "      <th>99438</th>\n",
       "      <td>83c1379a015df1e13d02aae0204711ab</td>\n",
       "      <td>1aa71eb042121263aafbe80c1b562c9c</td>\n",
       "      <td>delivered</td>\n",
       "      <td>2017-08-27</td>\n",
       "      <td>2017</td>\n",
       "      <td>8</td>\n",
       "      <td>737520a9aad80b3fbbdad19b66b37b30</td>\n",
       "    </tr>\n",
       "    <tr>\n",
       "      <th>99439</th>\n",
       "      <td>11c177c8e97725db2631073c19f07b62</td>\n",
       "      <td>b331b74b18dc79bcdf6532d51e1637c1</td>\n",
       "      <td>delivered</td>\n",
       "      <td>2018-01-08</td>\n",
       "      <td>2018</td>\n",
       "      <td>1</td>\n",
       "      <td>5097a5312c8b157bb7be58ae360ef43c</td>\n",
       "    </tr>\n",
       "    <tr>\n",
       "      <th>99440</th>\n",
       "      <td>66dea50a8b16d9b4dee7af250b4be1a5</td>\n",
       "      <td>edb027a75a1449115f6b43211ae02a24</td>\n",
       "      <td>delivered</td>\n",
       "      <td>2018-03-08</td>\n",
       "      <td>2018</td>\n",
       "      <td>3</td>\n",
       "      <td>60350aa974b26ff12caad89e55993bd6</td>\n",
       "    </tr>\n",
       "  </tbody>\n",
       "</table>\n",
       "<p>99441 rows × 7 columns</p>\n",
       "</div>"
      ],
      "text/plain": [
       "                               order_id                       customer_id  \\\n",
       "0      e481f51cbdc54678b7cc49136f2d6af7  9ef432eb6251297304e76186b10a928d   \n",
       "1      53cdb2fc8bc7dce0b6741e2150273451  b0830fb4747a6c6d20dea0b8c802d7ef   \n",
       "2      47770eb9100c2d0c44946d9cf07ec65d  41ce2a54c0b03bf3443c3d931a367089   \n",
       "3      949d5b44dbf5de918fe9c16f97b45f8a  f88197465ea7920adcdbec7375364d82   \n",
       "4      ad21c59c0840e6cb83a9ceb5573f8159  8ab97904e6daea8866dbdbc4fb7aad2c   \n",
       "5      a4591c265e18cb1dcee52889e2d8acc3  503740e9ca751ccdda7ba28e9ab8f608   \n",
       "6      136cce7faa42fdb2cefd53fdc79a6098  ed0271e0b7da060a393796590e7b737a   \n",
       "7      6514b8ad8028c9f2cc2374ded245783f  9bdf08b4b3b52b5526ff42d37d47f222   \n",
       "8      76c6e866289321a7c93b82b54852dc33  f54a9f0e6b351c431402b8461ea51999   \n",
       "9      e69bfb5eb88e0ed6a785585b27e16dbf  31ad1d1b63eb9962463f764d4e6e0c9d   \n",
       "10     e6ce16cb79ec1d90b1da9085a6118aeb  494dded5b201313c64ed7f100595b95c   \n",
       "11     34513ce0c4fab462a55830c0989c7edb  7711cf624183d843aafe81855097bc37   \n",
       "12     82566a660a982b15fb86e904c8d32918  d3e3b74c766bc6214e0c830b17ee2341   \n",
       "13     5ff96c15d0b717ac6ad1f3d77225a350  19402a48fe860416adf93348aba37740   \n",
       "14     432aaf21d85167c2c86ec9448c4e42cc  3df704f53d3f1d4818840b34ec672a9f   \n",
       "15     dcb36b511fcac050b97cd5c05de84dc3  3b6828a50ffe546942b7a473d70ac0fc   \n",
       "16     403b97836b0c04a622354cf531062e5f  738b086814c6fcc74b8cc583f8516ee3   \n",
       "17     116f0b09343b49556bbad5f35bee0cdf  3187789bec990987628d7a9beb4dd6ac   \n",
       "18     85ce859fd6dc634de8d2f1e290444043  059f7fc5719c7da6cbafe370971a8d70   \n",
       "19     83018ec114eee8641c97e08f7b4e926f  7f8c8b9c2ae27bf3300f670c3d478be8   \n",
       "20     203096f03d82e0dffbc41ebc2e2bcfb7  d2b091571da224a1b36412c18bc3bbfe   \n",
       "21     f848643eec1d69395095eb3840d2051e  4fa1cd166fa598be6de80fa84eaade43   \n",
       "22     2807d0e504d6d4894d41672727bc139f  72ae281627a6102d9b3718528b420f8a   \n",
       "23     95266dbfb7e20354baba07964dac78d5  a166da34890074091a942054b36e4265   \n",
       "24     f3e7c359154d965827355f39d6b1fdac  62b423aab58096ca514ba6aa06be2f98   \n",
       "25     fbf9ac61453ac646ce8ad9783d7d0af6  3a874b4d4c4b6543206ff5d89287f0c3   \n",
       "26     acce194856392f074dbf9dada14d8d82  7e20bf5ca92da68200643bda76c504c6   \n",
       "27     dd78f560c270f1909639c11b925620ea  8b212b9525f9e74e85e37ed6df37693e   \n",
       "28     91b2a010e1e45e6ba3d133fa997597be  cce89a605105b148387c52e286ac8335   \n",
       "29     ecab90c9933c58908d3d6add7c6f5ae3  761df82feda9778854c6dafdaeb567e4   \n",
       "...                                 ...                               ...   \n",
       "99411  4a69678ecf74bfd34260031c04329b68  eb19f77ffd29917f353d12152b0c0de1   \n",
       "99412  4146f35ac7a7ef4e39fe344e563c1e3b  e0eac226ceae49858de89e8a5c1ba1ec   \n",
       "99413  3cea94817a51f34aa5937784fb4a3219  20b927d23e84dfaa333eb4aea6615084   \n",
       "99414  e8fd20068b9f7e6ec07068bb7537f781  609b9fb8cad4fe0c7b376f77c8ab76ad   \n",
       "99415  5fabc81b6322c8443648e1b21a6fef21  32c9df889d41b0ee8309a5efb6855dcb   \n",
       "99416  c627fe35fce1a754bc5b812d0b8ff379  42b0671b440d1f2527bddd8b723e0a0c   \n",
       "99417  e6cc57f923c4dab2222b8c9aa8742eea  2f4a42f9bb4b9a8cd402fa549df5c7fd   \n",
       "99418  788541a19c0791de0504c5a9cb7e7bd5  a537aaf902d2f436eb7f44817154bb68   \n",
       "99419  1b4a0e6b19d0034b531655b41ea89623  ce5efd1b1d8a2fa290a871edd5c26cd6   \n",
       "99420  f9e3402be5a5ea63344347582ca9f45f  6f2cf56878f7f82151b0ad02590192c0   \n",
       "99421  6f46d42016226f77893ed3978d6903d0  3803547f820b1e10b7ad9c7985f06753   \n",
       "99422  dfc6eb45a2753ed9e6c6ef4987b44503  a046c690e0564ffde0ce611b5eee2c30   \n",
       "99423  38e9133ce29f6bbe35aed9c3863dce01  ad312389a098ceff46ce92c4595c06d0   \n",
       "99424  6ec4642f9993cc34f826cfb9068e5a2f  f00bb12620b7b232233cace1b229db18   \n",
       "99425  d692ef54145c9cb3322ec2e5508aa3f4  82ddfcf9438b0cd1117b55ac33184df8   \n",
       "99426  7cc85185736ea7f2d8bc09af7a47cab7  9e870ea67399650e8c3545a25d13e4d0   \n",
       "99427  19dba6d1e58b04e7fc820558a38ea398  cf97e9cf454480b303de6736ddd15fd6   \n",
       "99428  c22a47117b6a87c967b0c278488110c1  6e153567dc52ea59c0498ef5383e9c7a   \n",
       "99429  0e4b26f1fb99fc0f0472dd5f403d36d4  2e96fa6d55b9732013caed9866e2552d   \n",
       "99430  c81f74e50f0496fa39716cc77cacd460  7b270ebc87c25c8404348c10ff80a80e   \n",
       "99431  b0f4af5c1b06e24fef510703bfe9f0a6  8e1ec396e317ff4c82a03ce16a0c3eb3   \n",
       "99432  cfa78b997e329a5295b4ee6972c02979  a2f7428f0cafbc8e59f20e1444b67315   \n",
       "99433  9115830be804184b91f5c00f6f49f92d  da2124f134f5dfbce9d06f29bdb6c308   \n",
       "99434  aa04ef5214580b06b10e2a378300db44  f01a6bfcc730456317e4081fe0c9940e   \n",
       "99435  880675dff2150932f1601e1c07eadeeb  47cd45a6ac7b9fb16537df2ccffeb5ac   \n",
       "99436  9c5dedf39a927c1b2549525ed64a053c  39bd1228ee8140590ac3aca26f2dfe00   \n",
       "99437  63943bddc261676b46f01ca7ac2f7bd8  1fca14ff2861355f6e5f14306ff977a7   \n",
       "99438  83c1379a015df1e13d02aae0204711ab  1aa71eb042121263aafbe80c1b562c9c   \n",
       "99439  11c177c8e97725db2631073c19f07b62  b331b74b18dc79bcdf6532d51e1637c1   \n",
       "99440  66dea50a8b16d9b4dee7af250b4be1a5  edb027a75a1449115f6b43211ae02a24   \n",
       "\n",
       "      order_status order_purchase_timestamp  order_year  order_month  \\\n",
       "0        delivered               2017-10-02        2017           10   \n",
       "1        delivered               2018-07-24        2018            7   \n",
       "2        delivered               2018-08-08        2018            8   \n",
       "3        delivered               2017-11-18        2017           11   \n",
       "4        delivered               2018-02-13        2018            2   \n",
       "5        delivered               2017-07-09        2017            7   \n",
       "6         invoiced               2017-04-11        2017            4   \n",
       "7        delivered               2017-05-16        2017            5   \n",
       "8        delivered               2017-01-23        2017            1   \n",
       "9        delivered               2017-07-29        2017            7   \n",
       "10       delivered               2017-05-16        2017            5   \n",
       "11       delivered               2017-07-13        2017            7   \n",
       "12       delivered               2018-06-07        2018            6   \n",
       "13       delivered               2018-07-25        2018            7   \n",
       "14       delivered               2018-03-01        2018            3   \n",
       "15       delivered               2018-06-07        2018            6   \n",
       "16       delivered               2018-01-02        2018            1   \n",
       "17       delivered               2017-12-26        2017           12   \n",
       "18       delivered               2017-11-21        2017           11   \n",
       "19       delivered               2017-10-26        2017           10   \n",
       "20       delivered               2017-09-18        2017            9   \n",
       "21       delivered               2018-03-15        2018            3   \n",
       "22       delivered               2018-02-03        2018            2   \n",
       "23       delivered               2018-01-08        2018            1   \n",
       "24       delivered               2018-08-09        2018            8   \n",
       "25       delivered               2018-02-20        2018            2   \n",
       "26       delivered               2018-06-04        2018            6   \n",
       "27       delivered               2018-03-12        2018            3   \n",
       "28       delivered               2018-05-02        2018            5   \n",
       "29       delivered               2018-02-25        2018            2   \n",
       "...            ...                      ...         ...          ...   \n",
       "99411    delivered               2018-07-22        2018            7   \n",
       "99412    delivered               2017-11-26        2017           11   \n",
       "99413    delivered               2018-04-01        2018            4   \n",
       "99414    delivered               2017-08-10        2017            8   \n",
       "99415  unavailable               2017-10-10        2017           10   \n",
       "99416    delivered               2018-06-03        2018            6   \n",
       "99417    delivered               2018-02-07        2018            2   \n",
       "99418    delivered               2017-11-30        2017           11   \n",
       "99419    delivered               2017-10-02        2017           10   \n",
       "99420    delivered               2017-06-07        2017            6   \n",
       "99421    delivered               2017-07-05        2017            7   \n",
       "99422    delivered               2018-05-25        2018            5   \n",
       "99423    delivered               2017-10-12        2017           10   \n",
       "99424    delivered               2017-11-21        2017           11   \n",
       "99425    delivered               2018-03-21        2018            3   \n",
       "99426    delivered               2017-05-15        2017            5   \n",
       "99427    delivered               2018-05-12        2018            5   \n",
       "99428    delivered               2018-06-22        2018            6   \n",
       "99429    delivered               2017-11-05        2017           11   \n",
       "99430    delivered               2018-03-04        2018            3   \n",
       "99431    delivered               2017-10-27        2017           10   \n",
       "99432    delivered               2017-12-20        2017           12   \n",
       "99433    delivered               2017-10-04        2017           10   \n",
       "99434    delivered               2017-01-27        2017            1   \n",
       "99435    delivered               2017-02-23        2017            2   \n",
       "99436    delivered               2017-03-09        2017            3   \n",
       "99437    delivered               2018-02-06        2018            2   \n",
       "99438    delivered               2017-08-27        2017            8   \n",
       "99439    delivered               2018-01-08        2018            1   \n",
       "99440    delivered               2018-03-08        2018            3   \n",
       "\n",
       "                     customer_unique_id  \n",
       "0      7c396fd4830fd04220f754e42b4e5bff  \n",
       "1      af07308b275d755c9edb36a90c618231  \n",
       "2      3a653a41f6f9fc3d2a113cf8398680e8  \n",
       "3      7c142cf63193a1473d2e66489a9ae977  \n",
       "4      72632f0f9dd73dfee390c9b22eb56dd6  \n",
       "5      80bb27c7c16e8f973207a5086ab329e2  \n",
       "6      36edbb3fb164b1f16485364b6fb04c73  \n",
       "7      932afa1e708222e5821dac9cd5db4cae  \n",
       "8      39382392765b6dc74812866ee5ee92a7  \n",
       "9      299905e3934e9e181bfb2e164dd4b4f8  \n",
       "10     f2a85dec752b8517b5e58a06ff3cd937  \n",
       "11     782987b81c92239d922aa49d6bd4200b  \n",
       "12     e97109680b052ee858d93a539597bba7  \n",
       "13     e2dfa3127fedbbca9707b36304996dab  \n",
       "14     04cf8185c71090d28baa4407b2e6d600  \n",
       "15     ccafc1c3f270410521c3c6f3b249870f  \n",
       "16     6e26bbeaa107ec34112c64e1ee31c0f5  \n",
       "17     6087cfc70fd833cf2db637a5e6e9d76b  \n",
       "18     d0ff1a7468fcc46b8fc658ab35d2a12c  \n",
       "19     634f09f6075fe9032e6c19609ffe995a  \n",
       "20     d699688533772c15a061e8ce81cb56df  \n",
       "21     68954feaafe4dd638f3bd3e2afa174ec  \n",
       "22     b8df986511d928829c3192c2ed081eba  \n",
       "23     451e48381edab7f1f6dbfa6d728616ff  \n",
       "24     9c9242ad7f1b52d926ea76778e1c0c57  \n",
       "25     a25d5f94840d3c6a1a49f271ed83f4ec  \n",
       "26     576ea0cab426cd8a00fad9a9c90a4494  \n",
       "27     f4a7ef6bd931f83d75d83b71c94e90df  \n",
       "28     bd13608b9c6033892ce62269b50a0afc  \n",
       "29     1428917cd397d4f9ac0fde76dd6f2266  \n",
       "...                                 ...  \n",
       "99411  58a3b88ec0ed98474b1bb2630b277ed4  \n",
       "99412  7d414b6a1cf56a6bc5035f9eb436b15d  \n",
       "99413  0cc2c169569fd06473481e06325a5321  \n",
       "99414  fb9310710003399b031add3e55f34719  \n",
       "99415  393d95c05b04db26ac084374094b3a52  \n",
       "99416  b0854ff72fac3b922fde0115dd2c0a5f  \n",
       "99417  312823a3a38d7ad3046d8ba7122f93a8  \n",
       "99418  02029b32d4185a32a888c3f2d4d8839f  \n",
       "99419  39fff7cb5873a7116b02234bd1e6c6dc  \n",
       "99420  15b1c5678192a25402638f9bb93e9c02  \n",
       "99421  bd7df6ff9e4a04991eea842883f79e9a  \n",
       "99422  4a7ce65ce092885c0af12dc0001457cf  \n",
       "99423  a3983b8b6b679c9f645e6ef9517ac98d  \n",
       "99424  cf82c9581d66ad1de6b0fe919188bdd6  \n",
       "99425  397cd1affbb66fa8f76e8ac24685440a  \n",
       "99426  7bb6ca43f478742340256d516d9d86e3  \n",
       "99427  9e4accf95024aa6565ca1efcadb96752  \n",
       "99428  e930b415f39ab827ea66de80a9d36a22  \n",
       "99429  22757c044f096bef19c36c5d6ffc51d5  \n",
       "99430  324a22205906aa2612a33e63c00ca8bb  \n",
       "99431  1a3b8f1d0782ebedbcf220a96cbc1655  \n",
       "99432  a49e8e11e850592fe685ae3c64b40eca  \n",
       "99433  c716cf2b5b86fb24257cffe9e7969df8  \n",
       "99434  e03dbdf5e56c96b106d8115ac336f47f  \n",
       "99435  831ce3f1bacbd424fc4e38fbd4d66d29  \n",
       "99436  6359f309b166b0196dbf7ad2ac62bb5a  \n",
       "99437  da62f9e57a76d978d02ab5362c509660  \n",
       "99438  737520a9aad80b3fbbdad19b66b37b30  \n",
       "99439  5097a5312c8b157bb7be58ae360ef43c  \n",
       "99440  60350aa974b26ff12caad89e55993bd6  \n",
       "\n",
       "[99441 rows x 7 columns]"
      ]
     },
     "execution_count": 108,
     "metadata": {},
     "output_type": "execute_result"
    }
   ],
   "source": [
    "merged_df"
   ]
  },
  {
   "cell_type": "markdown",
   "metadata": {},
   "source": [
    "Note that an `inner` join is fine here because customers that are present in one dataframe are all also present in the other dataframe."
   ]
  },
  {
   "cell_type": "markdown",
   "metadata": {},
   "source": [
    "**pandas** uses a similar structure like **SQL** for joining (merging) dataframes. Here's an analogous SQL query:\n",
    "\n",
    "`CREATE TABLE orders as`\n",
    "\n",
    "`SELECT a.*, b.*`\n",
    "\n",
    "`FROM orders as a`\n",
    "\n",
    "`JOIN cust as b`\n",
    "\n",
    "`ON a.customer_id = b.customer_id;`"
   ]
  },
  {
   "cell_type": "code",
   "execution_count": 117,
   "metadata": {},
   "outputs": [
    {
     "data": {
      "text/plain": [
       "1.0348089410589412"
      ]
     },
     "execution_count": 117,
     "metadata": {},
     "output_type": "execute_result"
    }
   ],
   "source": [
    "# Number of orders per customer\n",
    "merged_df['customer_unique_id'].value_counts().mean()\n"
   ]
  },
  {
   "cell_type": "markdown",
   "metadata": {},
   "source": [
    "Another approach, to get the order counts by customer, is to use `groupby()`:"
   ]
  },
  {
   "cell_type": "code",
   "execution_count": 121,
   "metadata": {},
   "outputs": [
    {
     "data": {
      "text/plain": [
       "customer_unique_id\n",
       "0000366f3b9a7992bf8c76cfdf3221e2    1\n",
       "0000b849f77a49e4a4ce2b2a4ca5be3f    1\n",
       "0000f46a3911fa3c0805444483337064    1\n",
       "0000f6ccb0745a6a4b88665a16c9f078    1\n",
       "0004aac84e0df4da2b147fca70cf8255    1\n",
       "0004bd2a26a76fe21f786e4fbd80607f    1\n",
       "00050ab1314c0e55a6ca13cf7181fecf    1\n",
       "00053a61a98854899e70ed204dd4bafe    1\n",
       "0005e1862207bf6ccc02e4228effd9a0    1\n",
       "0005ef4cd20d2893f0d9fbd94d3c0d97    1\n",
       "0006fdc98a402fceb4eb0ee528f6a8d4    1\n",
       "00082cbe03e478190aadbea78542e933    1\n",
       "00090324bbad0e9342388303bb71ba0a    1\n",
       "000949456b182f53c18b68d6babc79c1    1\n",
       "000a5ad9c4601d2bbdd9ed765d5213b3    1\n",
       "000bfa1d2f1a41876493be685390d6d3    1\n",
       "000c8bdb58a29e7115cfc257230fb21b    1\n",
       "000d460961d6dbfa3ec6c9f5805769e1    1\n",
       "000de6019bb59f34c099a907c151d855    1\n",
       "000e309254ab1fc5ba99dd469d36bdb4    1\n",
       "000ec5bff359e1c0ad76a81a45cb598f    1\n",
       "000ed48ceeb6f4bf8ad021a10a3c7b43    1\n",
       "000fbf0473c10fc1ab6f8d2d286ce20c    1\n",
       "0010a452c6d13139e50b57f19f52e04e    1\n",
       "0010fb34b966d44409382af9e8fd5b77    1\n",
       "001147e649a7b1afd577e873841632dd    1\n",
       "00115fc7123b5310cf6d3a3aa932699e    1\n",
       "0011805441c0d1b68b48002f1d005526    1\n",
       "0011857aff0e5871ce5eb429f21cdaf5    1\n",
       "0011c98589159d6149979563c504cb21    1\n",
       "                                   ..\n",
       "ffe9e41fbd14db4a7361347c56af5447    1\n",
       "ffeb904468642a1ce663a322629801cb    1\n",
       "ffebb6424578e7bb153322da9d65634f    1\n",
       "ffec10ad4229ba46818560e1c8b40a68    1\n",
       "ffec490ab531184a483efe2eedd68908    1\n",
       "ffecceca389973ef16660d58696f281e    1\n",
       "ffeddf8aa7cdecf403e77b2e9a99e2ea    1\n",
       "ffedff0547d809c90c05c2691c51f9b7    1\n",
       "ffee94d548cef05b146d825a7648dab4    1\n",
       "ffeefd086fc667aaf6595c8fe3d22d54    1\n",
       "ffef0ffa736c7b3d9af741611089729b    1\n",
       "fff1afc79f6b5db1e235a4a6c30ceda7    1\n",
       "fff1bdd5c5e37ca79dd74deeb91aa5b6    1\n",
       "fff22793223fe80c97a8fd02ac5c6295    1\n",
       "fff2ae16b99c6f3c785f0e052f2a9cfb    1\n",
       "fff3a9369e4b7102fab406a334a678c3    1\n",
       "fff3e1d7bc75f11dc7670619b2e61840    1\n",
       "fff5eb4918b2bf4b2da476788d42051c    1\n",
       "fff699c184bcc967d62fa2c6171765f7    1\n",
       "fff7219c86179ca6441b8f37823ba3d3    1\n",
       "fff96bc586f78b1f070da28c4977e810    1\n",
       "fffa431dd3fcdefea4b1777d114144f2    1\n",
       "fffb09418989a0dbff854a28163e47c6    1\n",
       "fffbf87b7a1a6fa8b03f081c5f51a201    1\n",
       "fffcc512b7dfecaffd80f13614af1d16    1\n",
       "fffcf5a5ff07b0908bd4e2dbc735a684    1\n",
       "fffea47cd6d3cc0a88bd621562a9d061    1\n",
       "ffff371b4d645b6ecea244b27531430a    1\n",
       "ffff5962728ec6157033ef9805bacc48    1\n",
       "ffffd2657e2aad2907e67c3e9daecbeb    1\n",
       "Length: 96096, dtype: int64"
      ]
     },
     "execution_count": 121,
     "metadata": {},
     "output_type": "execute_result"
    }
   ],
   "source": [
    "# Number of orders per customer using groupby\n",
    "merged_df.groupby('customer_unique_id').size()\n"
   ]
  },
  {
   "cell_type": "markdown",
   "metadata": {},
   "source": [
    "Alternatively, use `orders.groupby('customer_unique_id')['order_id'].count()`."
   ]
  },
  {
   "cell_type": "code",
   "execution_count": 122,
   "metadata": {},
   "outputs": [],
   "source": [
    "# Save these counts (number of orders) in a new dataframe\n",
    "\n",
    "cust_orders = merged_df.groupby('customer_unique_id').size()\n",
    "\n"
   ]
  },
  {
   "cell_type": "code",
   "execution_count": 127,
   "metadata": {},
   "outputs": [],
   "source": [
    "cust_orders = cust_orders.reset_index()"
   ]
  },
  {
   "cell_type": "code",
   "execution_count": 128,
   "metadata": {},
   "outputs": [
    {
     "data": {
      "text/html": [
       "<div>\n",
       "<style scoped>\n",
       "    .dataframe tbody tr th:only-of-type {\n",
       "        vertical-align: middle;\n",
       "    }\n",
       "\n",
       "    .dataframe tbody tr th {\n",
       "        vertical-align: top;\n",
       "    }\n",
       "\n",
       "    .dataframe thead th {\n",
       "        text-align: right;\n",
       "    }\n",
       "</style>\n",
       "<table border=\"1\" class=\"dataframe\">\n",
       "  <thead>\n",
       "    <tr style=\"text-align: right;\">\n",
       "      <th></th>\n",
       "      <th>customer_unique_id</th>\n",
       "      <th>0</th>\n",
       "    </tr>\n",
       "  </thead>\n",
       "  <tbody>\n",
       "    <tr>\n",
       "      <th>0</th>\n",
       "      <td>0000366f3b9a7992bf8c76cfdf3221e2</td>\n",
       "      <td>1</td>\n",
       "    </tr>\n",
       "    <tr>\n",
       "      <th>1</th>\n",
       "      <td>0000b849f77a49e4a4ce2b2a4ca5be3f</td>\n",
       "      <td>1</td>\n",
       "    </tr>\n",
       "    <tr>\n",
       "      <th>2</th>\n",
       "      <td>0000f46a3911fa3c0805444483337064</td>\n",
       "      <td>1</td>\n",
       "    </tr>\n",
       "    <tr>\n",
       "      <th>3</th>\n",
       "      <td>0000f6ccb0745a6a4b88665a16c9f078</td>\n",
       "      <td>1</td>\n",
       "    </tr>\n",
       "    <tr>\n",
       "      <th>4</th>\n",
       "      <td>0004aac84e0df4da2b147fca70cf8255</td>\n",
       "      <td>1</td>\n",
       "    </tr>\n",
       "  </tbody>\n",
       "</table>\n",
       "</div>"
      ],
      "text/plain": [
       "                 customer_unique_id  0\n",
       "0  0000366f3b9a7992bf8c76cfdf3221e2  1\n",
       "1  0000b849f77a49e4a4ce2b2a4ca5be3f  1\n",
       "2  0000f46a3911fa3c0805444483337064  1\n",
       "3  0000f6ccb0745a6a4b88665a16c9f078  1\n",
       "4  0004aac84e0df4da2b147fca70cf8255  1"
      ]
     },
     "execution_count": 128,
     "metadata": {},
     "output_type": "execute_result"
    }
   ],
   "source": [
    "cust_orders.head()"
   ]
  },
  {
   "cell_type": "code",
   "execution_count": 131,
   "metadata": {},
   "outputs": [],
   "source": [
    "# Rename the columns\n",
    "\n",
    "cust_orders.columns = ['customer_unique_id', 'orders']\n",
    "\n",
    "\n",
    "\n"
   ]
  },
  {
   "cell_type": "code",
   "execution_count": 132,
   "metadata": {},
   "outputs": [
    {
     "data": {
      "text/plain": [
       "Index(['customer_unique_id', 'orders'], dtype='object')"
      ]
     },
     "execution_count": 132,
     "metadata": {},
     "output_type": "execute_result"
    }
   ],
   "source": [
    "cust_orders.columns"
   ]
  },
  {
   "cell_type": "code",
   "execution_count": 133,
   "metadata": {},
   "outputs": [
    {
     "name": "stderr",
     "output_type": "stream",
     "text": [
      "C:\\ProgramData\\Anaconda3\\lib\\site-packages\\scipy\\stats\\stats.py:1713: FutureWarning: Using a non-tuple sequence for multidimensional indexing is deprecated; use `arr[tuple(seq)]` instead of `arr[seq]`. In the future this will be interpreted as an array index, `arr[np.array(seq)]`, which will result either in an error or a different result.\n",
      "  return np.add.reduce(sorted[indexer] * weights, axis=axis) / sumval\n"
     ]
    },
    {
     "data": {
      "image/png": "[encoded data removed]",
      "text/plain": [
       "<Figure size 864x648 with 1 Axes>"
      ]
     },
     "metadata": {},
     "output_type": "display_data"
    }
   ],
   "source": [
    "# Plot the number order volume (per customer)\n",
    "\n",
    "sns.set(style='darkgrid')\n",
    "\n",
    "plt.figure(figsize=[12, 9])\n",
    "\n",
    "sns.distplot(cust_orders['orders'], kde=False)\n",
    "\n",
    "plt.xlabel('Total Orders', fontsize=14)\n",
    "plt.ylabel('Customers', fontsize=14);"
   ]
  },
  {
   "cell_type": "markdown",
   "metadata": {},
   "source": [
    "Most customers ordered only once. There are some customers (a very few) who have ordered 16/17 times."
   ]
  },
  {
   "cell_type": "code",
   "execution_count": 134,
   "metadata": {},
   "outputs": [
    {
     "data": {
      "text/plain": [
       "1     93099\n",
       "2      2745\n",
       "3       203\n",
       "4        30\n",
       "5         8\n",
       "6         6\n",
       "7         3\n",
       "17        1\n",
       "9         1\n",
       "Name: orders, dtype: int64"
      ]
     },
     "execution_count": 134,
     "metadata": {},
     "output_type": "execute_result"
    }
   ],
   "source": [
    "# Number of customers by their order volumne\n",
    "cust_orders['orders'].value_counts()\n"
   ]
  },
  {
   "cell_type": "code",
   "execution_count": 135,
   "metadata": {},
   "outputs": [
    {
     "data": {
      "text/plain": [
       "1     0.968812\n",
       "2     0.028565\n",
       "3     0.002112\n",
       "4     0.000312\n",
       "5     0.000083\n",
       "6     0.000062\n",
       "7     0.000031\n",
       "17    0.000010\n",
       "9     0.000010\n",
       "Name: orders, dtype: float64"
      ]
     },
     "execution_count": 135,
     "metadata": {},
     "output_type": "execute_result"
    }
   ],
   "source": [
    "# % of customers by their order volume\n",
    "\n",
    "cust_orders['orders'].value_counts()/len(cust_orders)"
   ]
  },
  {
   "cell_type": "markdown",
   "metadata": {},
   "source": [
    "## Export results"
   ]
  },
  {
   "cell_type": "markdown",
   "metadata": {},
   "source": [
    "#### 1. Export data"
   ]
  },
  {
   "cell_type": "markdown",
   "metadata": {},
   "source": [
    "##### Export in CSV format"
   ]
  },
  {
   "cell_type": "code",
   "execution_count": 137,
   "metadata": {},
   "outputs": [],
   "source": [
    "csv_file = out + '\\olist_orders.csv'\n",
    "\n",
    "orders_file_df.to_csv(csv_file, index=False)\n"
   ]
  },
  {
   "cell_type": "markdown",
   "metadata": {},
   "source": [
    "Use `index=False` to discard the dataframe (row) indices."
   ]
  },
  {
   "cell_type": "markdown",
   "metadata": {},
   "source": [
    "##### Export a zipped file"
   ]
  },
  {
   "cell_type": "code",
   "execution_count": null,
   "metadata": {},
   "outputs": [],
   "source": [
    "csv_file_zipped = out + '\\olist_purch_model_scores.csv.gz'\n",
    "\n"
   ]
  },
  {
   "cell_type": "markdown",
   "metadata": {},
   "source": [
    "##### Export in JSON format"
   ]
  },
  {
   "cell_type": "code",
   "execution_count": 140,
   "metadata": {},
   "outputs": [],
   "source": [
    "json_file = out + '\\olist_purch_model_scores.json'\n",
    "\n",
    "with open(json_file, 'w') as f:\n",
    "    f.write(orders_file_df.to_json(orient='records', lines=True))"
   ]
  },
  {
   "cell_type": "markdown",
   "metadata": {},
   "source": [
    "##### Read the JSON file"
   ]
  },
  {
   "cell_type": "code",
   "execution_count": null,
   "metadata": {},
   "outputs": [],
   "source": [
    "df_in = pd.read_json(json_file, lines=True)\n",
    "\n",
    "df_in.head()"
   ]
  },
  {
   "cell_type": "markdown",
   "metadata": {},
   "source": [
    "#### 2. Export plots"
   ]
  },
  {
   "cell_type": "markdown",
   "metadata": {},
   "source": [
    "##### Export a single plot"
   ]
  },
  {
   "cell_type": "code",
   "execution_count": 138,
   "metadata": {
    "scrolled": true
   },
   "outputs": [
    {
     "data": {
      "image/png": "[encoded data removed]",
      "text/plain": [
       "<Figure size 1080x432 with 1 Axes>"
      ]
     },
     "metadata": {},
     "output_type": "display_data"
    }
   ],
   "source": [
    "image_file = out + '\\daily_order_volume.png'\n",
    "\n",
    "sns.set(style='darkgrid')\n",
    "\n",
    "# Adjust the plot size\n",
    "plt.figure(figsize=[15, 6])\n",
    "\n",
    "# Line plot\n",
    "sns.lineplot(x=order_counts.index, y=order_counts.values, color='royalblue')\n",
    "\n",
    "# Assign axis labels\n",
    "plt.ylabel('Number of Orders', fontsize=14)\n",
    "plt.xlabel('Order Purchase Date', fontsize=14)\n",
    "\n",
    "# Export the plot\n",
    "plt.savefig(image_file)"
   ]
  },
  {
   "cell_type": "markdown",
   "metadata": {},
   "source": [
    "##### Export multiple plots"
   ]
  },
  {
   "cell_type": "code",
   "execution_count": null,
   "metadata": {},
   "outputs": [],
   "source": [
    "from matplotlib.backends.backend_pdf import PdfPages\n",
    "\n",
    "# File name where all plots will be stored\n",
    "all_plots_file = out + '\\olist_eda_plots.pdf'\n",
    "\n",
    "# Plot 1\n",
    "sns.set(style='darkgrid')\n",
    "plt.figure(figsize=[12, 9])\n",
    "plot1 = sns.lineplot(x=order_counts.index, y=order_counts.values, color='royalblue')\n",
    "plt.ylabel('Number of Orders', fontsize=14)\n",
    "plt.xlabel('Order Purchase Date', fontsize=14)\n",
    "\n",
    "# Plot 2\n",
    "plt.figure(figsize=[12, 9])\n",
    "plot2 = sns.lineplot(x='order_month', y='order_id', hue='order_year', data=order_counts_by_month)\n",
    "plt.ylabel('Number of Orders', fontsize=14)\n",
    "plt.xlabel('Order Purchase Date', fontsize=14)\n",
    "\n",
    "# Plot 3\n",
    "plt.figure(figsize=[12, 9])\n",
    "plot3 = sns.distplot(cust_orders['orders'], kde=False)\n",
    "plt.xlabel('Total Orders', fontsize=14)\n",
    "plt.ylabel('Customers', fontsize=14)\n",
    "\n",
    "# Export all plots into the pdf file\n",
    "with PdfPages(all_plots_file) as pdf:\n",
    "    pdf.savefig(plot1.figure)\n",
    "    pdf.savefig(plot2.figure)\n",
    "    pdf.savefig(plot3.figure)"
   ]
  }
 ],
 "metadata": {
  "kernelspec": {
   "display_name": "Python 3",
   "language": "python",
   "name": "python3"
  },
  "language_info": {
   "codemirror_mode": {
    "name": "ipython",
    "version": 3
   },
   "file_extension": ".py",
   "mimetype": "text/x-python",
   "name": "python",
   "nbconvert_exporter": "python",
   "pygments_lexer": "ipython3",
   "version": "3.7.1"
  }
 },
 "nbformat": 4,
 "nbformat_minor": 2
}
