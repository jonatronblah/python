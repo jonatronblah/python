{
 "cells": [
  {
   "cell_type": "markdown",
   "metadata": {
    "slideshow": {
     "slide_type": "slide"
    }
   },
   "source": [
    "## Introduction to `pandas`"
   ]
  },
  {
   "cell_type": "code",
   "execution_count": null,
   "metadata": {
    "slideshow": {
     "slide_type": "slide"
    }
   },
   "outputs": [],
   "source": [
    "import pandas as pd"
   ]
  },
  {
   "cell_type": "markdown",
   "metadata": {
    "slideshow": {
     "slide_type": "fragment"
    }
   },
   "source": [
    "### Read data"
   ]
  },
  {
   "cell_type": "markdown",
   "metadata": {},
   "source": [
    "`# R code`\n",
    "\n",
    "`senic <- read.csv('dhttps://www.dropbox.com/s/82qx6810jpbk3lj/SENIC.csv?dl=1')`"
   ]
  },
  {
   "cell_type": "code",
   "execution_count": null,
   "metadata": {
    "slideshow": {
     "slide_type": "fragment"
    }
   },
   "outputs": [],
   "source": [
    "# Read data\n",
    "\n",
    "senic = pd.read_csv('https://www.dropbox.com/s/82qx6810jpbk3lj/SENIC.csv?dl=1')"
   ]
  },
  {
   "cell_type": "markdown",
   "metadata": {},
   "source": [
    "#### View top rows:"
   ]
  },
  {
   "cell_type": "markdown",
   "metadata": {},
   "source": [
    "` # R code`\n",
    "\n",
    "`head(senic)`"
   ]
  },
  {
   "cell_type": "code",
   "execution_count": null,
   "metadata": {
    "scrolled": true,
    "slideshow": {
     "slide_type": "fragment"
    }
   },
   "outputs": [],
   "source": [
    "# View top five rows\n",
    "\n",
    "senic.head()"
   ]
  },
  {
   "cell_type": "markdown",
   "metadata": {},
   "source": [
    "#### Number of rows and columns:"
   ]
  },
  {
   "cell_type": "markdown",
   "metadata": {},
   "source": [
    "` # R code`\n",
    "\n",
    "`dim(senic)`"
   ]
  },
  {
   "cell_type": "code",
   "execution_count": null,
   "metadata": {
    "slideshow": {
     "slide_type": "fragment"
    }
   },
   "outputs": [],
   "source": [
    "# Get the number of rows and columns\n",
    "\n",
    "senic.shape"
   ]
  },
  {
   "cell_type": "markdown",
   "metadata": {},
   "source": [
    "### Slicing a data frame\n"
   ]
  },
  {
   "cell_type": "code",
   "execution_count": null,
   "metadata": {},
   "outputs": [],
   "source": [
    "# Let's create a random sample (with three columns) for this section\n",
    "\n",
    "senic_sample = senic[['ID', 'Length_stay', 'Age_years']].sample(n=5, random_state=314)\n",
    "senic_sample"
   ]
  },
  {
   "cell_type": "code",
   "execution_count": null,
   "metadata": {},
   "outputs": [],
   "source": [
    "senic_sample.iloc[0]"
   ]
  },
  {
   "cell_type": "markdown",
   "metadata": {},
   "source": [
    "The `iloc` attribute allows indexing and slicing that references the implicit Python-style index (which always starts at 0)."
   ]
  },
  {
   "cell_type": "markdown",
   "metadata": {},
   "source": [
    "On the other hand, the `loc` attribute references the explicit index present in the data frame."
   ]
  },
  {
   "cell_type": "code",
   "execution_count": null,
   "metadata": {},
   "outputs": [],
   "source": [
    "senic_sample.loc[6]"
   ]
  },
  {
   "cell_type": "markdown",
   "metadata": {},
   "source": [
    "### Column names"
   ]
  },
  {
   "cell_type": "markdown",
   "metadata": {},
   "source": [
    "#### View column names:"
   ]
  },
  {
   "cell_type": "markdown",
   "metadata": {},
   "source": [
    "` # R code`\n",
    "\n",
    "`names(senic)`"
   ]
  },
  {
   "cell_type": "code",
   "execution_count": null,
   "metadata": {},
   "outputs": [],
   "source": [
    "senic.columns\n",
    "\n",
    "# alternatively, senic.keys()"
   ]
  },
  {
   "cell_type": "markdown",
   "metadata": {},
   "source": [
    "#### Change column names:"
   ]
  },
  {
   "cell_type": "markdown",
   "metadata": {},
   "source": [
    "Prepare the list of column names we would like to assing to this data."
   ]
  },
  {
   "cell_type": "markdown",
   "metadata": {},
   "source": [
    "` # R code`\n",
    "\n",
    "`colNames <- c(\"ID\", \"length_stay\", \"age_years\", \"infection_pct\", \n",
    "              \"culture_ratio\", \"xray_ratio\", \"num_beds\", \"med_sch_aff\", \n",
    "              \"region_num\", \"num_patients\", \"num_nurses\", \"avail_services\", \n",
    "              \"region_name\", \"medical_school\")`"
   ]
  },
  {
   "cell_type": "code",
   "execution_count": null,
   "metadata": {},
   "outputs": [],
   "source": [
    "col_names = [\"ID\", \"length_stay\", \"age_years\", \"infection_pct\", \"culture_ratio\",\n",
    "             \"xray_ratio\", \"num_beds\", \"med_sch_aff\", \"region_num\", \"num_patients\",\n",
    "             \"num_nurses\", \"avail_services\", \"region_name\", \"medical_school\"]"
   ]
  },
  {
   "cell_type": "markdown",
   "metadata": {},
   "source": [
    "Make sure that the length of `colNames` equals the number of columns."
   ]
  },
  {
   "cell_type": "markdown",
   "metadata": {},
   "source": [
    "` # R code`\n",
    "\n",
    "`length(col_names) == ncol(senic)`"
   ]
  },
  {
   "cell_type": "code",
   "execution_count": null,
   "metadata": {},
   "outputs": [],
   "source": [
    "len(col_names) == len(senic.columns)"
   ]
  },
  {
   "cell_type": "markdown",
   "metadata": {},
   "source": [
    "Assign column names."
   ]
  },
  {
   "cell_type": "markdown",
   "metadata": {},
   "source": [
    "` # R code`\n",
    "\n",
    "`names(senic) <- colNames`"
   ]
  },
  {
   "cell_type": "code",
   "execution_count": null,
   "metadata": {},
   "outputs": [],
   "source": [
    "senic.columns = col_names"
   ]
  },
  {
   "cell_type": "markdown",
   "metadata": {},
   "source": [
    "Change the column name of the first column."
   ]
  },
  {
   "cell_type": "markdown",
   "metadata": {},
   "source": [
    "` # R code`\n",
    "\n",
    "`names(senic)[1] <- \"hospitalID\"`"
   ]
  },
  {
   "cell_type": "code",
   "execution_count": null,
   "metadata": {},
   "outputs": [],
   "source": [
    "senic.rename(columns = {'ID': 'hospital_ID'}, inplace=True)"
   ]
  },
  {
   "cell_type": "markdown",
   "metadata": {},
   "source": [
    "View the new column names."
   ]
  },
  {
   "cell_type": "code",
   "execution_count": null,
   "metadata": {},
   "outputs": [],
   "source": [
    "senic.keys()"
   ]
  },
  {
   "cell_type": "markdown",
   "metadata": {},
   "source": [
    "### Column types\n",
    "\n",
    "\n",
    "Check column types for all columns in the data frame:\n",
    "\n",
    "\n",
    "Convert two columns from decimal (float) to integer:\n",
    "\n",
    "\n",
    "\n"
   ]
  },
  {
   "cell_type": "markdown",
   "metadata": {},
   "source": [
    "#### Check the column type of a specific column."
   ]
  },
  {
   "cell_type": "markdown",
   "metadata": {},
   "source": [
    "` # R code`\n",
    "\n",
    "`class(senic$length_stay)`"
   ]
  },
  {
   "cell_type": "code",
   "execution_count": null,
   "metadata": {},
   "outputs": [],
   "source": [
    "senic['length_stay'].dtypes"
   ]
  },
  {
   "cell_type": "markdown",
   "metadata": {},
   "source": [
    "#### Check column types for all columns in the data frame."
   ]
  },
  {
   "cell_type": "markdown",
   "metadata": {},
   "source": [
    "` # R code`\n",
    "\n",
    "`sapply(senic, class)`"
   ]
  },
  {
   "cell_type": "code",
   "execution_count": null,
   "metadata": {},
   "outputs": [],
   "source": [
    "senic.dtypes"
   ]
  },
  {
   "cell_type": "markdown",
   "metadata": {},
   "source": [
    "#### Convert two columns from decimal (float) to integer."
   ]
  },
  {
   "cell_type": "markdown",
   "metadata": {},
   "source": [
    "` # R code`\n",
    "\n",
    "`senic$length_stay <- as.integer(senic$length_stay)`\n",
    "`senic$age_years <- as.integer(senic$age_years)`"
   ]
  },
  {
   "cell_type": "code",
   "execution_count": null,
   "metadata": {},
   "outputs": [],
   "source": [
    "senic.length_stay = senic['length_stay'].astype(int)\n",
    "\n",
    "senic.age_years = senic.age_years.astype(int)\n",
    "\n",
    "senic.dtypes"
   ]
  },
  {
   "cell_type": "markdown",
   "metadata": {},
   "source": [
    "### Create column"
   ]
  },
  {
   "cell_type": "markdown",
   "metadata": {},
   "source": [
    "` # R code`\n",
    "\n",
    "`senic$weeks_stay <- senic$length_stay / 7`\n",
    "\n",
    "`head(senic[, c('length_stay', 'weeks_stay')])`"
   ]
  },
  {
   "cell_type": "code",
   "execution_count": null,
   "metadata": {},
   "outputs": [],
   "source": [
    "# Create a new column\n",
    "\n",
    "senic['weeks_stay'] = senic['length_stay'] / 7\n",
    "\n",
    "senic[['weeks_stay', 'length_stay']].head()"
   ]
  },
  {
   "cell_type": "markdown",
   "metadata": {},
   "source": [
    "### Summarize"
   ]
  },
  {
   "cell_type": "markdown",
   "metadata": {},
   "source": [
    "#### Summarize data frame"
   ]
  },
  {
   "cell_type": "markdown",
   "metadata": {},
   "source": [
    "` # R code`\n",
    "\n",
    "`summary(senic)`"
   ]
  },
  {
   "cell_type": "code",
   "execution_count": null,
   "metadata": {},
   "outputs": [],
   "source": [
    "senic.describe()"
   ]
  },
  {
   "cell_type": "markdown",
   "metadata": {},
   "source": [
    "#### Mean of a specific column"
   ]
  },
  {
   "cell_type": "markdown",
   "metadata": {},
   "source": [
    "` # R code`\n",
    "\n",
    "`mean(senic$age_years)`"
   ]
  },
  {
   "cell_type": "code",
   "execution_count": null,
   "metadata": {},
   "outputs": [],
   "source": [
    "senic.age_years.mean()"
   ]
  },
  {
   "cell_type": "markdown",
   "metadata": {},
   "source": [
    "#### Mean values for all (numeric) columns"
   ]
  },
  {
   "cell_type": "markdown",
   "metadata": {},
   "source": [
    "` # R code`\n",
    "\n",
    "`sapply(senic, mean)`"
   ]
  },
  {
   "cell_type": "code",
   "execution_count": null,
   "metadata": {},
   "outputs": [],
   "source": [
    "senic.mean()"
   ]
  },
  {
   "cell_type": "markdown",
   "metadata": {},
   "source": [
    "#### Categorical variable: frequency count"
   ]
  },
  {
   "cell_type": "markdown",
   "metadata": {},
   "source": [
    "` # R code`\n",
    "\n",
    "`summary(senic$region_name)`"
   ]
  },
  {
   "cell_type": "code",
   "execution_count": null,
   "metadata": {},
   "outputs": [],
   "source": [
    "senic.region_name.value_counts()"
   ]
  },
  {
   "cell_type": "markdown",
   "metadata": {},
   "source": [
    "#### Categorical variable: percentage distribution"
   ]
  },
  {
   "cell_type": "markdown",
   "metadata": {},
   "source": [
    "` # R code`\n",
    "\n",
    "`summary(senic$region_name) / nrow(senic)`"
   ]
  },
  {
   "cell_type": "code",
   "execution_count": null,
   "metadata": {},
   "outputs": [],
   "source": [
    "senic.region_name.value_counts() / len(senic)"
   ]
  },
  {
   "cell_type": "markdown",
   "metadata": {},
   "source": [
    "### Missing values"
   ]
  },
  {
   "cell_type": "markdown",
   "metadata": {},
   "source": [
    "#### Is hospital_ID null? Create a flag for each row."
   ]
  },
  {
   "cell_type": "markdown",
   "metadata": {},
   "source": [
    "` # R code`\n",
    "\n",
    "`is.na(senic$hospitalID)`"
   ]
  },
  {
   "cell_type": "code",
   "execution_count": null,
   "metadata": {},
   "outputs": [],
   "source": [
    "pd.isnull(senic.hospital_ID).head()"
   ]
  },
  {
   "cell_type": "code",
   "execution_count": null,
   "metadata": {},
   "outputs": [],
   "source": [
    "# Alternatively,\n",
    "\n",
    "senic.hospital_ID.isnull().head()"
   ]
  },
  {
   "cell_type": "markdown",
   "metadata": {},
   "source": [
    "#### Counts the total number of rows where hospital_ID is null"
   ]
  },
  {
   "cell_type": "markdown",
   "metadata": {},
   "source": [
    "` # R code`\n",
    "\n",
    "`sum(is.na(senic$hospitalID))`"
   ]
  },
  {
   "cell_type": "code",
   "execution_count": null,
   "metadata": {},
   "outputs": [],
   "source": [
    "sum(pd.isnull(senic.hospital_ID))"
   ]
  },
  {
   "cell_type": "markdown",
   "metadata": {},
   "source": [
    "#### Counts the total number of rows where each column is null"
   ]
  },
  {
   "cell_type": "markdown",
   "metadata": {},
   "source": [
    "` # R code`\n",
    "\n",
    "`apply(is.na(senic), 2, sum)`"
   ]
  },
  {
   "cell_type": "code",
   "execution_count": null,
   "metadata": {},
   "outputs": [],
   "source": [
    "senic.isnull().sum()"
   ]
  },
  {
   "cell_type": "code",
   "execution_count": null,
   "metadata": {},
   "outputs": [],
   "source": [
    "# Alternatively, use `isin()`, which can be useful if there are special \n",
    "#  characters used to denote missing values\n",
    "\n",
    "senic.isin([999999, 99999]).sum()"
   ]
  },
  {
   "cell_type": "markdown",
   "metadata": {},
   "source": [
    "#### Let's create a small data frame with missing values"
   ]
  },
  {
   "cell_type": "code",
   "execution_count": null,
   "metadata": {},
   "outputs": [],
   "source": [
    "import numpy as np\n",
    "\n",
    "temp = pd.DataFrame(data=['c', 'v', np.nan, 'r', None], columns=['Letter'])\n",
    "temp"
   ]
  },
  {
   "cell_type": "code",
   "execution_count": null,
   "metadata": {},
   "outputs": [],
   "source": [
    "# Check the data type \n",
    "\n",
    "temp.Letter.dtype"
   ]
  },
  {
   "cell_type": "code",
   "execution_count": null,
   "metadata": {},
   "outputs": [],
   "source": [
    "# Use 'isnull()' to check if the column contains a missing value\n",
    "\n",
    "temp.isnull()"
   ]
  },
  {
   "cell_type": "code",
   "execution_count": null,
   "metadata": {},
   "outputs": [],
   "source": [
    "# Select rows from the data frame where the column Letter is not missing\n",
    "\n",
    "temp[temp.Letter.notnull()]"
   ]
  },
  {
   "cell_type": "code",
   "execution_count": null,
   "metadata": {},
   "outputs": [],
   "source": [
    "# Drop rows from the data frame where Letter is missing\n",
    "\n",
    "temp.dropna()"
   ]
  },
  {
   "cell_type": "code",
   "execution_count": null,
   "metadata": {},
   "outputs": [],
   "source": [
    "temp"
   ]
  },
  {
   "cell_type": "markdown",
   "metadata": {},
   "source": [
    "Note that the `dropna()` function did not drop rows from the original data frame. It just _returned_ the results, which can then be saved into a new (or same) data frame."
   ]
  },
  {
   "cell_type": "code",
   "execution_count": null,
   "metadata": {},
   "outputs": [],
   "source": [
    "# Store the results into a new data frame\n",
    "\n",
    "temp_clean = temp.dropna()\n",
    "temp_clean"
   ]
  },
  {
   "cell_type": "code",
   "execution_count": null,
   "metadata": {},
   "outputs": [],
   "source": [
    "# Impute missing values\n",
    "\n",
    "temp.fillna('x')"
   ]
  },
  {
   "cell_type": "code",
   "execution_count": null,
   "metadata": {},
   "outputs": [],
   "source": [
    "temp"
   ]
  },
  {
   "cell_type": "markdown",
   "metadata": {},
   "source": [
    "Again, the `fillna()` function did not drop rows from the original data frame. It just returned the results, which can then be saved into a new (or same) data frame."
   ]
  },
  {
   "cell_type": "markdown",
   "metadata": {},
   "source": [
    "Alternatively, you can use `inplace=True` to replace the original data frame."
   ]
  },
  {
   "cell_type": "code",
   "execution_count": null,
   "metadata": {},
   "outputs": [],
   "source": [
    "temp.fillna('x', inplace=True)\n",
    "temp"
   ]
  },
  {
   "cell_type": "markdown",
   "metadata": {},
   "source": [
    "Note: The `inplace=` option will be deprecated at some point in the future."
   ]
  },
  {
   "cell_type": "markdown",
   "metadata": {},
   "source": [
    "### Perason correlation coefficient"
   ]
  },
  {
   "cell_type": "markdown",
   "metadata": {},
   "source": [
    "#### Correlation coefficient between two variables"
   ]
  },
  {
   "cell_type": "markdown",
   "metadata": {},
   "source": [
    "` # R code`\n",
    "\n",
    "`cor(senic$num_beds, senic$length_stay)`"
   ]
  },
  {
   "cell_type": "code",
   "execution_count": null,
   "metadata": {},
   "outputs": [],
   "source": [
    "senic[['num_beds', 'length_stay']].corr()"
   ]
  },
  {
   "cell_type": "markdown",
   "metadata": {},
   "source": [
    "<img src='https://www.dropbox.com/s/m7ijuw8e8m6s9lx/corr_sig.JPG?dl=1' width=\"600\" align=left>"
   ]
  },
  {
   "cell_type": "code",
   "execution_count": null,
   "metadata": {},
   "outputs": [],
   "source": [
    "# Using scipy\n",
    "\n",
    "from scipy.stats.stats import pearsonr\n",
    "\n",
    "pearsonr(senic['num_beds'], senic['length_stay'])"
   ]
  },
  {
   "cell_type": "markdown",
   "metadata": {},
   "source": [
    "#### Correlation coefficient between all (numeric) columns"
   ]
  },
  {
   "cell_type": "markdown",
   "metadata": {},
   "source": [
    "` # R code`\n",
    "\n",
    "`cor.test(senic$num_beds, senic$length_stay)`"
   ]
  },
  {
   "cell_type": "code",
   "execution_count": null,
   "metadata": {},
   "outputs": [],
   "source": [
    "senic.corr()"
   ]
  },
  {
   "cell_type": "markdown",
   "metadata": {},
   "source": [
    "### Visualize\n",
    "\n",
    "`ggplot(data=senic, mapping = aes(x = num_beds, y = length_stay)) +\n",
    "  geom_point() +\n",
    "  geom_smooth()`\n",
    "\n",
    "\n",
    "Load the necessary library:\n",
    "\n",
    "`library(ggplot2)`\n",
    "\n",
    "`ggplot(data=senic, mapping = aes(x = num_beds, y = length_stay)) +\n",
    "  geom_point() +\n",
    "  geom_smooth() +\n",
    "  labs(x = \"Number of Beds\", y = \"Length of Stay (days)\")`\n",
    "  \n",
    "Output:\n",
    "\n",
    "<img src='https://www.dropbox.com/s/n2o7tgqhoblnejt/ggplot.png?dl=1' width=\"600\" align=left>"
   ]
  },
  {
   "cell_type": "markdown",
   "metadata": {},
   "source": [
    "#### Using pandas"
   ]
  },
  {
   "cell_type": "code",
   "execution_count": null,
   "metadata": {},
   "outputs": [],
   "source": [
    "ax = senic.plot.scatter('num_beds', 'length_stay')"
   ]
  },
  {
   "cell_type": "markdown",
   "metadata": {},
   "source": [
    "#### Using matplotlib"
   ]
  },
  {
   "cell_type": "code",
   "execution_count": null,
   "metadata": {},
   "outputs": [],
   "source": [
    "import matplotlib.pyplot as plt\n",
    "\n",
    "plt.scatter(senic['num_beds'], senic['length_stay'])\n",
    "plt.show()"
   ]
  },
  {
   "cell_type": "markdown",
   "metadata": {},
   "source": [
    "Add axis labels."
   ]
  },
  {
   "cell_type": "code",
   "execution_count": null,
   "metadata": {},
   "outputs": [],
   "source": [
    "plt.scatter(senic['num_beds'], senic['length_stay'])\n",
    "\n",
    "plt.xlabel('Number of Beds')\n",
    "plt.ylabel('Length of  Stay')\n",
    "plt.show()"
   ]
  },
  {
   "cell_type": "markdown",
   "metadata": {},
   "source": [
    "Increase plot size."
   ]
  },
  {
   "cell_type": "code",
   "execution_count": null,
   "metadata": {},
   "outputs": [],
   "source": [
    "plt.figure(figsize=(12, 9))\n",
    "\n",
    "plt.scatter(senic['num_beds'], senic['length_stay'])\n",
    "\n",
    "plt.xlabel('Number of Beds', fontsize=14)\n",
    "plt.ylabel('Length of  Stay', fontsize=14)\n",
    "plt.show()"
   ]
  },
  {
   "cell_type": "markdown",
   "metadata": {},
   "source": [
    "Modify point aesthetics."
   ]
  },
  {
   "cell_type": "code",
   "execution_count": null,
   "metadata": {},
   "outputs": [],
   "source": [
    "plt.figure(figsize=(12, 9))\n",
    "\n",
    "plt.scatter(senic['num_beds'], senic['length_stay'], \n",
    "            s=100, c='darkorange', alpha=.5)\n",
    "\n",
    "plt.xlabel('Number of Beds', fontsize=14)\n",
    "plt.ylabel('Length of  Stay', fontsize=14)\n",
    "\n",
    "\n",
    "plt.show()"
   ]
  },
  {
   "cell_type": "markdown",
   "metadata": {},
   "source": [
    "#### Using seaborn"
   ]
  },
  {
   "cell_type": "code",
   "execution_count": null,
   "metadata": {},
   "outputs": [],
   "source": [
    "import seaborn as sns\n",
    "\n",
    "sns.set(style='white')\n",
    "\n",
    "sns.scatterplot('num_beds', 'length_stay', data=senic, \n",
    "                s=100, color='darkorange', alpha=.5)"
   ]
  },
  {
   "cell_type": "markdown",
   "metadata": {},
   "source": [
    "Increase plot size."
   ]
  },
  {
   "cell_type": "code",
   "execution_count": null,
   "metadata": {},
   "outputs": [],
   "source": [
    "plt.figure(figsize=(12, 9))\n",
    "\n",
    "sns.set(style='whitegrid')\n",
    "\n",
    "sns.scatterplot('num_beds', 'length_stay', data=senic, \n",
    "                s=100, color='darkorange', alpha=.5)"
   ]
  },
  {
   "cell_type": "markdown",
   "metadata": {},
   "source": [
    "Add axis labels."
   ]
  },
  {
   "cell_type": "code",
   "execution_count": null,
   "metadata": {},
   "outputs": [],
   "source": [
    "sns.set(style='darkgrid')\n",
    "\n",
    "plt.figure(figsize=(12, 9))\n",
    "\n",
    "plt.scatter(senic['num_beds'], senic['length_stay'], \n",
    "            s=100, c='darkorange', alpha=.5)\n",
    "\n",
    "plt.xlabel('Number of Beds', fontsize=14)\n",
    "plt.ylabel('Length of  Stay', fontsize=14)\n",
    "\n",
    "plt.show()"
   ]
  },
  {
   "cell_type": "markdown",
   "metadata": {},
   "source": [
    "Add the the confidence interval region around the regression line."
   ]
  },
  {
   "cell_type": "code",
   "execution_count": null,
   "metadata": {},
   "outputs": [],
   "source": [
    "sns.set(style='darkgrid')\n",
    "\n",
    "plt.figure(figsize=(12, 9))\n",
    "\n",
    "sns.regplot('num_beds', 'length_stay', data=senic, color='darkorange')\n",
    "\n",
    "plt.xlabel('Number of Beds', fontsize=14)\n",
    "plt.ylabel('Length of  Stay', fontsize=14)\n",
    "\n",
    "plt.show()"
   ]
  },
  {
   "cell_type": "markdown",
   "metadata": {},
   "source": [
    "Joint plot"
   ]
  },
  {
   "cell_type": "code",
   "execution_count": null,
   "metadata": {},
   "outputs": [],
   "source": [
    "sns.set(style='darkgrid')\n",
    "\n",
    "sns.jointplot('num_beds', 'length_stay', data=senic, color='darkorange', \n",
    "              kind=\"reg\", height=9, ratio=5)\n",
    "\n",
    "plt.xlabel('Number of Beds', fontsize=14)\n",
    "plt.ylabel('Length of  Stay', fontsize=14)\n",
    "\n",
    "plt.show()"
   ]
  },
  {
   "cell_type": "markdown",
   "metadata": {},
   "source": [
    "Smooth line using lowess"
   ]
  },
  {
   "cell_type": "code",
   "execution_count": null,
   "metadata": {},
   "outputs": [],
   "source": [
    "sns.set(style='darkgrid')\n",
    "\n",
    "plt.figure(figsize=(12, 9))\n",
    "\n",
    "sns.regplot('num_beds', 'length_stay', data=senic, \n",
    "            color='darkorange', lowess=True)\n",
    "\n",
    "plt.xlabel('Number of Beds', fontsize=14)\n",
    "plt.ylabel('Length of  Stay', fontsize=14)\n",
    "\n",
    "plt.show()"
   ]
  },
  {
   "cell_type": "markdown",
   "metadata": {},
   "source": [
    "If `lowess=True`, `regplot()` uses `statsmodels` to estimate a nonparametric _lowess_ model (locally weighted linear regression). Note that confidence intervals cannot currently be drawn for this kind of model.\n",
    "\n",
    "On the other hand, `ggplot()` in R uses _loess_ (locally estimated scatterplot smoothing) to draw the smooth line."
   ]
  },
  {
   "cell_type": "markdown",
   "metadata": {},
   "source": [
    "### Correlation matrix heatmap"
   ]
  },
  {
   "cell_type": "code",
   "execution_count": null,
   "metadata": {},
   "outputs": [],
   "source": [
    "corr_matrix = senic.corr()\n",
    "\n",
    "plt.figure(figsize=(12, 9))\n",
    "\n",
    "sns.heatmap(corr_matrix)"
   ]
  },
  {
   "cell_type": "markdown",
   "metadata": {},
   "source": [
    "Drop the ID and categorical columns."
   ]
  },
  {
   "cell_type": "code",
   "execution_count": null,
   "metadata": {},
   "outputs": [],
   "source": [
    "cols = [col for col in senic.columns if col not in ('hospital_ID', 'region_num')]\n",
    "\n",
    "corr_matrix = senic[cols].corr()\n",
    "\n",
    "plt.figure(figsize=(12, 9))\n",
    "\n",
    "sns.heatmap(corr_matrix)"
   ]
  },
  {
   "cell_type": "markdown",
   "metadata": {},
   "source": [
    "Change the color palette."
   ]
  },
  {
   "cell_type": "code",
   "execution_count": null,
   "metadata": {},
   "outputs": [],
   "source": [
    "cmap = sns.color_palette(\"colorblind\")\n",
    "                  \n",
    "corr_matrix = senic[cols].corr()\n",
    "\n",
    "plt.figure(figsize=(12, 9))\n",
    "\n",
    "sns.heatmap(corr_matrix, cmap=cmap)"
   ]
  },
  {
   "cell_type": "markdown",
   "metadata": {},
   "source": [
    "Note: The 'colorbling' color scheme is only for illustrative purpose here. It's not recommened for a correlation matrix heatmap, because it doesn't show the correlation spectrum (low to high contrast). "
   ]
  },
  {
   "cell_type": "markdown",
   "metadata": {},
   "source": [
    "Define a custom color palette."
   ]
  },
  {
   "cell_type": "code",
   "execution_count": null,
   "metadata": {},
   "outputs": [],
   "source": [
    "sns.palplot(sns.diverging_palette(10, 220, n=10))"
   ]
  },
  {
   "cell_type": "markdown",
   "metadata": {},
   "source": [
    "Use a custom color palette."
   ]
  },
  {
   "cell_type": "code",
   "execution_count": null,
   "metadata": {},
   "outputs": [],
   "source": [
    "cmap = sns.diverging_palette(10, 220, n=10)\n",
    "\n",
    "corr_matrix = senic[cols].corr()\n",
    "\n",
    "plt.figure(figsize=(12, 9))\n",
    "\n",
    "sns.heatmap(corr_matrix, cmap=cmap)"
   ]
  }
 ],
 "metadata": {
  "kernelspec": {
   "display_name": "Python 3",
   "language": "python",
   "name": "python3"
  },
  "language_info": {
   "codemirror_mode": {
    "name": "ipython",
    "version": 3
   },
   "file_extension": ".py",
   "mimetype": "text/x-python",
   "name": "python",
   "nbconvert_exporter": "python",
   "pygments_lexer": "ipython3",
   "version": "3.7.1"
  }
 },
 "nbformat": 4,
 "nbformat_minor": 2
}
