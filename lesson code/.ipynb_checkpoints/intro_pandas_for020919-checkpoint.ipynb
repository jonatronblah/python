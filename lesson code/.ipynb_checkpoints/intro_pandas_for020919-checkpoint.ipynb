{
 "cells": [
  {
   "cell_type": "markdown",
   "metadata": {
    "slideshow": {
     "slide_type": "slide"
    }
   },
   "source": [
    "## Introduction to `pandas`"
   ]
  },
  {
   "cell_type": "code",
   "execution_count": 2,
   "metadata": {
    "slideshow": {
     "slide_type": "slide"
    }
   },
   "outputs": [],
   "source": [
    "import pandas as pd"
   ]
  },
  {
   "cell_type": "markdown",
   "metadata": {
    "slideshow": {
     "slide_type": "fragment"
    }
   },
   "source": [
    "### Read data"
   ]
  },
  {
   "cell_type": "markdown",
   "metadata": {},
   "source": [
    "`# R code`\n",
    "\n",
    "`senic <- read.csv('dhttps://www.dropbox.com/s/82qx6810jpbk3lj/SENIC.csv?dl=1')`"
   ]
  },
  {
   "cell_type": "code",
   "execution_count": 3,
   "metadata": {
    "slideshow": {
     "slide_type": "fragment"
    }
   },
   "outputs": [],
   "source": [
    "# Read data\n",
    "\n",
    "senic = pd.read_csv('https://www.dropbox.com/s/82qx6810jpbk3lj/SENIC.csv?dl=1')"
   ]
  },
  {
   "cell_type": "markdown",
   "metadata": {},
   "source": [
    "#### View top rows:"
   ]
  },
  {
   "cell_type": "markdown",
   "metadata": {},
   "source": [
    "` # R code`\n",
    "\n",
    "`head(senic)`"
   ]
  },
  {
   "cell_type": "code",
   "execution_count": 4,
   "metadata": {
    "scrolled": true,
    "slideshow": {
     "slide_type": "fragment"
    }
   },
   "outputs": [
    {
     "data": {
      "text/html": [
       "<div>\n",
       "<style scoped>\n",
       "    .dataframe tbody tr th:only-of-type {\n",
       "        vertical-align: middle;\n",
       "    }\n",
       "\n",
       "    .dataframe tbody tr th {\n",
       "        vertical-align: top;\n",
       "    }\n",
       "\n",
       "    .dataframe thead th {\n",
       "        text-align: right;\n",
       "    }\n",
       "</style>\n",
       "<table border=\"1\" class=\"dataframe\">\n",
       "  <thead>\n",
       "    <tr style=\"text-align: right;\">\n",
       "      <th></th>\n",
       "      <th>ID</th>\n",
       "      <th>Length_stay</th>\n",
       "      <th>Age_years</th>\n",
       "      <th>Infection_pct</th>\n",
       "      <th>Culture_ratio</th>\n",
       "      <th>X_ray_ratio</th>\n",
       "      <th>Num_Beds</th>\n",
       "      <th>Med_Sch_Aff</th>\n",
       "      <th>Region_num</th>\n",
       "      <th>Num_Patients</th>\n",
       "      <th>Num_Nurses</th>\n",
       "      <th>Avail_Services</th>\n",
       "      <th>Region_Name</th>\n",
       "      <th>Medical_School</th>\n",
       "    </tr>\n",
       "  </thead>\n",
       "  <tbody>\n",
       "    <tr>\n",
       "      <th>0</th>\n",
       "      <td>1</td>\n",
       "      <td>7.13</td>\n",
       "      <td>55.7</td>\n",
       "      <td>4.1</td>\n",
       "      <td>9.0</td>\n",
       "      <td>39.6</td>\n",
       "      <td>279</td>\n",
       "      <td>2</td>\n",
       "      <td>4</td>\n",
       "      <td>207</td>\n",
       "      <td>241</td>\n",
       "      <td>60.0</td>\n",
       "      <td>West</td>\n",
       "      <td>No</td>\n",
       "    </tr>\n",
       "    <tr>\n",
       "      <th>1</th>\n",
       "      <td>2</td>\n",
       "      <td>8.82</td>\n",
       "      <td>58.2</td>\n",
       "      <td>1.6</td>\n",
       "      <td>3.8</td>\n",
       "      <td>51.7</td>\n",
       "      <td>80</td>\n",
       "      <td>2</td>\n",
       "      <td>2</td>\n",
       "      <td>51</td>\n",
       "      <td>52</td>\n",
       "      <td>40.0</td>\n",
       "      <td>NorthCentral</td>\n",
       "      <td>No</td>\n",
       "    </tr>\n",
       "    <tr>\n",
       "      <th>2</th>\n",
       "      <td>3</td>\n",
       "      <td>8.34</td>\n",
       "      <td>56.9</td>\n",
       "      <td>2.7</td>\n",
       "      <td>8.1</td>\n",
       "      <td>74.0</td>\n",
       "      <td>107</td>\n",
       "      <td>2</td>\n",
       "      <td>3</td>\n",
       "      <td>82</td>\n",
       "      <td>54</td>\n",
       "      <td>20.0</td>\n",
       "      <td>South</td>\n",
       "      <td>No</td>\n",
       "    </tr>\n",
       "    <tr>\n",
       "      <th>3</th>\n",
       "      <td>4</td>\n",
       "      <td>8.95</td>\n",
       "      <td>53.7</td>\n",
       "      <td>5.6</td>\n",
       "      <td>18.9</td>\n",
       "      <td>122.8</td>\n",
       "      <td>147</td>\n",
       "      <td>2</td>\n",
       "      <td>4</td>\n",
       "      <td>53</td>\n",
       "      <td>148</td>\n",
       "      <td>40.0</td>\n",
       "      <td>West</td>\n",
       "      <td>No</td>\n",
       "    </tr>\n",
       "    <tr>\n",
       "      <th>4</th>\n",
       "      <td>5</td>\n",
       "      <td>11.20</td>\n",
       "      <td>56.5</td>\n",
       "      <td>5.7</td>\n",
       "      <td>34.5</td>\n",
       "      <td>88.9</td>\n",
       "      <td>180</td>\n",
       "      <td>2</td>\n",
       "      <td>1</td>\n",
       "      <td>134</td>\n",
       "      <td>151</td>\n",
       "      <td>40.0</td>\n",
       "      <td>NorthEast</td>\n",
       "      <td>No</td>\n",
       "    </tr>\n",
       "  </tbody>\n",
       "</table>\n",
       "</div>"
      ],
      "text/plain": [
       "   ID  Length_stay  Age_years  Infection_pct  Culture_ratio  X_ray_ratio  \\\n",
       "0   1         7.13       55.7            4.1            9.0         39.6   \n",
       "1   2         8.82       58.2            1.6            3.8         51.7   \n",
       "2   3         8.34       56.9            2.7            8.1         74.0   \n",
       "3   4         8.95       53.7            5.6           18.9        122.8   \n",
       "4   5        11.20       56.5            5.7           34.5         88.9   \n",
       "\n",
       "   Num_Beds  Med_Sch_Aff  Region_num  Num_Patients  Num_Nurses  \\\n",
       "0       279            2           4           207         241   \n",
       "1        80            2           2            51          52   \n",
       "2       107            2           3            82          54   \n",
       "3       147            2           4            53         148   \n",
       "4       180            2           1           134         151   \n",
       "\n",
       "   Avail_Services   Region_Name Medical_School  \n",
       "0            60.0          West             No  \n",
       "1            40.0  NorthCentral             No  \n",
       "2            20.0         South             No  \n",
       "3            40.0          West             No  \n",
       "4            40.0     NorthEast             No  "
      ]
     },
     "execution_count": 4,
     "metadata": {},
     "output_type": "execute_result"
    }
   ],
   "source": [
    "# View top five rows\n",
    "\n",
    "senic.head()"
   ]
  },
  {
   "cell_type": "markdown",
   "metadata": {},
   "source": [
    "#### Number of rows and columns:"
   ]
  },
  {
   "cell_type": "markdown",
   "metadata": {},
   "source": [
    "` # R code`\n",
    "\n",
    "`dim(senic)`"
   ]
  },
  {
   "cell_type": "code",
   "execution_count": 5,
   "metadata": {
    "slideshow": {
     "slide_type": "fragment"
    }
   },
   "outputs": [
    {
     "data": {
      "text/plain": [
       "(113, 14)"
      ]
     },
     "execution_count": 5,
     "metadata": {},
     "output_type": "execute_result"
    }
   ],
   "source": [
    "# Get the number of rows and columns\n",
    "\n",
    "senic.shape"
   ]
  },
  {
   "cell_type": "markdown",
   "metadata": {},
   "source": [
    "### Slicing a data frame\n"
   ]
  },
  {
   "cell_type": "code",
   "execution_count": 6,
   "metadata": {},
   "outputs": [
    {
     "data": {
      "text/html": [
       "<div>\n",
       "<style scoped>\n",
       "    .dataframe tbody tr th:only-of-type {\n",
       "        vertical-align: middle;\n",
       "    }\n",
       "\n",
       "    .dataframe tbody tr th {\n",
       "        vertical-align: top;\n",
       "    }\n",
       "\n",
       "    .dataframe thead th {\n",
       "        text-align: right;\n",
       "    }\n",
       "</style>\n",
       "<table border=\"1\" class=\"dataframe\">\n",
       "  <thead>\n",
       "    <tr style=\"text-align: right;\">\n",
       "      <th></th>\n",
       "      <th>ID</th>\n",
       "      <th>Length_stay</th>\n",
       "      <th>Age_years</th>\n",
       "    </tr>\n",
       "  </thead>\n",
       "  <tbody>\n",
       "    <tr>\n",
       "      <th>6</th>\n",
       "      <td>7</td>\n",
       "      <td>9.68</td>\n",
       "      <td>57.8</td>\n",
       "    </tr>\n",
       "    <tr>\n",
       "      <th>56</th>\n",
       "      <td>57</td>\n",
       "      <td>7.14</td>\n",
       "      <td>59.0</td>\n",
       "    </tr>\n",
       "    <tr>\n",
       "      <th>23</th>\n",
       "      <td>24</td>\n",
       "      <td>9.84</td>\n",
       "      <td>62.2</td>\n",
       "    </tr>\n",
       "    <tr>\n",
       "      <th>53</th>\n",
       "      <td>54</td>\n",
       "      <td>12.07</td>\n",
       "      <td>43.7</td>\n",
       "    </tr>\n",
       "    <tr>\n",
       "      <th>13</th>\n",
       "      <td>14</td>\n",
       "      <td>7.58</td>\n",
       "      <td>56.7</td>\n",
       "    </tr>\n",
       "  </tbody>\n",
       "</table>\n",
       "</div>"
      ],
      "text/plain": [
       "    ID  Length_stay  Age_years\n",
       "6    7         9.68       57.8\n",
       "56  57         7.14       59.0\n",
       "23  24         9.84       62.2\n",
       "53  54        12.07       43.7\n",
       "13  14         7.58       56.7"
      ]
     },
     "execution_count": 6,
     "metadata": {},
     "output_type": "execute_result"
    }
   ],
   "source": [
    "# Let's create a random sample (with three columns) for this section\n",
    "\n",
    "senic_sample = senic[['ID', 'Length_stay', 'Age_years']].sample(n=5, random_state=314)\n",
    "senic_sample"
   ]
  },
  {
   "cell_type": "code",
   "execution_count": 7,
   "metadata": {},
   "outputs": [
    {
     "data": {
      "text/plain": [
       "ID              7.00\n",
       "Length_stay     9.68\n",
       "Age_years      57.80\n",
       "Name: 6, dtype: float64"
      ]
     },
     "execution_count": 7,
     "metadata": {},
     "output_type": "execute_result"
    }
   ],
   "source": [
    "senic_sample.iloc[0]"
   ]
  },
  {
   "cell_type": "markdown",
   "metadata": {},
   "source": [
    "The `iloc` attribute allows indexing and slicing that references the implicit Python-style index (which always starts at 0)."
   ]
  },
  {
   "cell_type": "markdown",
   "metadata": {},
   "source": [
    "On the other hand, the `loc` attribute references the explicit index present in the data frame."
   ]
  },
  {
   "cell_type": "code",
   "execution_count": 8,
   "metadata": {},
   "outputs": [
    {
     "data": {
      "text/plain": [
       "ID              7.00\n",
       "Length_stay     9.68\n",
       "Age_years      57.80\n",
       "Name: 6, dtype: float64"
      ]
     },
     "execution_count": 8,
     "metadata": {},
     "output_type": "execute_result"
    }
   ],
   "source": [
    "senic_sample.loc[6]"
   ]
  },
  {
   "cell_type": "markdown",
   "metadata": {},
   "source": [
    "### Column names"
   ]
  },
  {
   "cell_type": "markdown",
   "metadata": {},
   "source": [
    "#### View column names:"
   ]
  },
  {
   "cell_type": "markdown",
   "metadata": {},
   "source": [
    "` # R code`\n",
    "\n",
    "`names(senic)`"
   ]
  },
  {
   "cell_type": "code",
   "execution_count": 9,
   "metadata": {},
   "outputs": [
    {
     "data": {
      "text/plain": [
       "Index(['ID', 'Length_stay', 'Age_years', 'Infection_pct', 'Culture_ratio',\n",
       "       'X_ray_ratio', 'Num_Beds', 'Med_Sch_Aff', 'Region_num', 'Num_Patients',\n",
       "       'Num_Nurses', 'Avail_Services', 'Region_Name', 'Medical_School'],\n",
       "      dtype='object')"
      ]
     },
     "execution_count": 9,
     "metadata": {},
     "output_type": "execute_result"
    }
   ],
   "source": [
    "senic.columns\n",
    "\n",
    "# alternatively, senic.keys()"
   ]
  },
  {
   "cell_type": "markdown",
   "metadata": {},
   "source": [
    "#### Change column names:"
   ]
  },
  {
   "cell_type": "markdown",
   "metadata": {},
   "source": [
    "Prepare the list of column names we would like to assing to this data."
   ]
  },
  {
   "cell_type": "markdown",
   "metadata": {},
   "source": [
    "` # R code`\n",
    "\n",
    "`colNames <- c(\"ID\", \"length_stay\", \"age_years\", \"infection_pct\", \n",
    "              \"culture_ratio\", \"xray_ratio\", \"num_beds\", \"med_sch_aff\", \n",
    "              \"region_num\", \"num_patients\", \"num_nurses\", \"avail_services\", \n",
    "              \"region_name\", \"medical_school\")`"
   ]
  },
  {
   "cell_type": "code",
   "execution_count": 10,
   "metadata": {},
   "outputs": [],
   "source": [
    "col_names = [\"ID\", \"length_stay\", \"age_years\", \"infection_pct\", \"culture_ratio\",\n",
    "             \"xray_ratio\", \"num_beds\", \"med_sch_aff\", \"region_num\", \"num_patients\",\n",
    "             \"num_nurses\", \"avail_services\", \"region_name\", \"medical_school\"]"
   ]
  },
  {
   "cell_type": "markdown",
   "metadata": {},
   "source": [
    "Make sure that the length of `colNames` equals the number of columns."
   ]
  },
  {
   "cell_type": "markdown",
   "metadata": {},
   "source": [
    "` # R code`\n",
    "\n",
    "`length(col_names) == ncol(senic)`"
   ]
  },
  {
   "cell_type": "code",
   "execution_count": 11,
   "metadata": {},
   "outputs": [
    {
     "data": {
      "text/plain": [
       "True"
      ]
     },
     "execution_count": 11,
     "metadata": {},
     "output_type": "execute_result"
    }
   ],
   "source": [
    "len(col_names) == len(senic.columns)"
   ]
  },
  {
   "cell_type": "markdown",
   "metadata": {},
   "source": [
    "Assign column names."
   ]
  },
  {
   "cell_type": "markdown",
   "metadata": {},
   "source": [
    "` # R code`\n",
    "\n",
    "`names(senic) <- colNames`"
   ]
  },
  {
   "cell_type": "code",
   "execution_count": 12,
   "metadata": {},
   "outputs": [],
   "source": [
    "senic.columns = col_names"
   ]
  },
  {
   "cell_type": "markdown",
   "metadata": {},
   "source": [
    "Change the column name of the first column."
   ]
  },
  {
   "cell_type": "markdown",
   "metadata": {},
   "source": [
    "` # R code`\n",
    "\n",
    "`names(senic)[1] <- \"hospitalID\"`"
   ]
  },
  {
   "cell_type": "code",
   "execution_count": 13,
   "metadata": {},
   "outputs": [],
   "source": [
    "senic.rename(columns = {'ID': 'hospital_ID'}, inplace=True)"
   ]
  },
  {
   "cell_type": "markdown",
   "metadata": {},
   "source": [
    "View the new column names."
   ]
  },
  {
   "cell_type": "code",
   "execution_count": 14,
   "metadata": {},
   "outputs": [
    {
     "data": {
      "text/plain": [
       "Index(['hospital_ID', 'length_stay', 'age_years', 'infection_pct',\n",
       "       'culture_ratio', 'xray_ratio', 'num_beds', 'med_sch_aff', 'region_num',\n",
       "       'num_patients', 'num_nurses', 'avail_services', 'region_name',\n",
       "       'medical_school'],\n",
       "      dtype='object')"
      ]
     },
     "execution_count": 14,
     "metadata": {},
     "output_type": "execute_result"
    }
   ],
   "source": [
    "senic.keys()"
   ]
  },
  {
   "cell_type": "markdown",
   "metadata": {},
   "source": [
    "### Column types\n",
    "\n",
    "\n",
    "Check column types for all columns in the data frame:\n",
    "\n",
    "\n",
    "Convert two columns from decimal (float) to integer:\n",
    "\n",
    "\n",
    "\n"
   ]
  },
  {
   "cell_type": "markdown",
   "metadata": {},
   "source": [
    "#### Check the column type of a specific column."
   ]
  },
  {
   "cell_type": "markdown",
   "metadata": {},
   "source": [
    "` # R code`\n",
    "\n",
    "`class(senic$length_stay)`"
   ]
  },
  {
   "cell_type": "code",
   "execution_count": 15,
   "metadata": {},
   "outputs": [
    {
     "data": {
      "text/plain": [
       "dtype('float64')"
      ]
     },
     "execution_count": 15,
     "metadata": {},
     "output_type": "execute_result"
    }
   ],
   "source": [
    "senic['length_stay'].dtypes"
   ]
  },
  {
   "cell_type": "markdown",
   "metadata": {},
   "source": [
    "#### Check column types for all columns in the data frame."
   ]
  },
  {
   "cell_type": "markdown",
   "metadata": {},
   "source": [
    "` # R code`\n",
    "\n",
    "`sapply(senic, class)`"
   ]
  },
  {
   "cell_type": "code",
   "execution_count": 16,
   "metadata": {},
   "outputs": [
    {
     "data": {
      "text/plain": [
       "hospital_ID         int64\n",
       "length_stay       float64\n",
       "age_years         float64\n",
       "infection_pct     float64\n",
       "culture_ratio     float64\n",
       "xray_ratio        float64\n",
       "num_beds            int64\n",
       "med_sch_aff         int64\n",
       "region_num          int64\n",
       "num_patients        int64\n",
       "num_nurses          int64\n",
       "avail_services    float64\n",
       "region_name        object\n",
       "medical_school     object\n",
       "dtype: object"
      ]
     },
     "execution_count": 16,
     "metadata": {},
     "output_type": "execute_result"
    }
   ],
   "source": [
    "senic.dtypes"
   ]
  },
  {
   "cell_type": "markdown",
   "metadata": {},
   "source": [
    "#### Convert two columns from decimal (float) to integer."
   ]
  },
  {
   "cell_type": "markdown",
   "metadata": {},
   "source": [
    "` # R code`\n",
    "\n",
    "`senic$length_stay <- as.integer(senic$length_stay)`\n",
    "`senic$age_years <- as.integer(senic$age_years)`"
   ]
  },
  {
   "cell_type": "code",
   "execution_count": 17,
   "metadata": {},
   "outputs": [
    {
     "data": {
      "text/plain": [
       "hospital_ID         int64\n",
       "length_stay         int32\n",
       "age_years           int32\n",
       "infection_pct     float64\n",
       "culture_ratio     float64\n",
       "xray_ratio        float64\n",
       "num_beds            int64\n",
       "med_sch_aff         int64\n",
       "region_num          int64\n",
       "num_patients        int64\n",
       "num_nurses          int64\n",
       "avail_services    float64\n",
       "region_name        object\n",
       "medical_school     object\n",
       "dtype: object"
      ]
     },
     "execution_count": 17,
     "metadata": {},
     "output_type": "execute_result"
    }
   ],
   "source": [
    "senic.length_stay = senic['length_stay'].astype(int)\n",
    "\n",
    "senic.age_years = senic.age_years.astype(int)\n",
    "\n",
    "senic.dtypes"
   ]
  },
  {
   "cell_type": "markdown",
   "metadata": {},
   "source": [
    "### Create column"
   ]
  },
  {
   "cell_type": "markdown",
   "metadata": {},
   "source": [
    "` # R code`\n",
    "\n",
    "`senic$weeks_stay <- senic$length_stay / 7`\n",
    "\n",
    "`head(senic[, c('length_stay', 'weeks_stay')])`"
   ]
  },
  {
   "cell_type": "code",
   "execution_count": 18,
   "metadata": {},
   "outputs": [
    {
     "data": {
      "text/html": [
       "<div>\n",
       "<style scoped>\n",
       "    .dataframe tbody tr th:only-of-type {\n",
       "        vertical-align: middle;\n",
       "    }\n",
       "\n",
       "    .dataframe tbody tr th {\n",
       "        vertical-align: top;\n",
       "    }\n",
       "\n",
       "    .dataframe thead th {\n",
       "        text-align: right;\n",
       "    }\n",
       "</style>\n",
       "<table border=\"1\" class=\"dataframe\">\n",
       "  <thead>\n",
       "    <tr style=\"text-align: right;\">\n",
       "      <th></th>\n",
       "      <th>weeks_stay</th>\n",
       "      <th>length_stay</th>\n",
       "    </tr>\n",
       "  </thead>\n",
       "  <tbody>\n",
       "    <tr>\n",
       "      <th>0</th>\n",
       "      <td>1.000000</td>\n",
       "      <td>7</td>\n",
       "    </tr>\n",
       "    <tr>\n",
       "      <th>1</th>\n",
       "      <td>1.142857</td>\n",
       "      <td>8</td>\n",
       "    </tr>\n",
       "    <tr>\n",
       "      <th>2</th>\n",
       "      <td>1.142857</td>\n",
       "      <td>8</td>\n",
       "    </tr>\n",
       "    <tr>\n",
       "      <th>3</th>\n",
       "      <td>1.142857</td>\n",
       "      <td>8</td>\n",
       "    </tr>\n",
       "    <tr>\n",
       "      <th>4</th>\n",
       "      <td>1.571429</td>\n",
       "      <td>11</td>\n",
       "    </tr>\n",
       "  </tbody>\n",
       "</table>\n",
       "</div>"
      ],
      "text/plain": [
       "   weeks_stay  length_stay\n",
       "0    1.000000            7\n",
       "1    1.142857            8\n",
       "2    1.142857            8\n",
       "3    1.142857            8\n",
       "4    1.571429           11"
      ]
     },
     "execution_count": 18,
     "metadata": {},
     "output_type": "execute_result"
    }
   ],
   "source": [
    "# Create a new column\n",
    "\n",
    "senic['weeks_stay'] = senic['length_stay'] / 7\n",
    "\n",
    "senic[['weeks_stay', 'length_stay']].head()"
   ]
  },
  {
   "cell_type": "markdown",
   "metadata": {},
   "source": [
    "### Summarize"
   ]
  },
  {
   "cell_type": "markdown",
   "metadata": {},
   "source": [
    "#### Summarize data frame"
   ]
  },
  {
   "cell_type": "markdown",
   "metadata": {},
   "source": [
    "` # R code`\n",
    "\n",
    "`summary(senic)`"
   ]
  },
  {
   "cell_type": "code",
   "execution_count": 19,
   "metadata": {},
   "outputs": [
    {
     "data": {
      "text/html": [
       "<div>\n",
       "<style scoped>\n",
       "    .dataframe tbody tr th:only-of-type {\n",
       "        vertical-align: middle;\n",
       "    }\n",
       "\n",
       "    .dataframe tbody tr th {\n",
       "        vertical-align: top;\n",
       "    }\n",
       "\n",
       "    .dataframe thead th {\n",
       "        text-align: right;\n",
       "    }\n",
       "</style>\n",
       "<table border=\"1\" class=\"dataframe\">\n",
       "  <thead>\n",
       "    <tr style=\"text-align: right;\">\n",
       "      <th></th>\n",
       "      <th>hospital_ID</th>\n",
       "      <th>length_stay</th>\n",
       "      <th>age_years</th>\n",
       "      <th>infection_pct</th>\n",
       "      <th>culture_ratio</th>\n",
       "      <th>xray_ratio</th>\n",
       "      <th>num_beds</th>\n",
       "      <th>med_sch_aff</th>\n",
       "      <th>region_num</th>\n",
       "      <th>num_patients</th>\n",
       "      <th>num_nurses</th>\n",
       "      <th>avail_services</th>\n",
       "      <th>weeks_stay</th>\n",
       "    </tr>\n",
       "  </thead>\n",
       "  <tbody>\n",
       "    <tr>\n",
       "      <th>count</th>\n",
       "      <td>113.00000</td>\n",
       "      <td>113.000000</td>\n",
       "      <td>113.000000</td>\n",
       "      <td>113.000000</td>\n",
       "      <td>113.000000</td>\n",
       "      <td>113.000000</td>\n",
       "      <td>113.000000</td>\n",
       "      <td>113.000000</td>\n",
       "      <td>113.000000</td>\n",
       "      <td>113.000000</td>\n",
       "      <td>113.000000</td>\n",
       "      <td>113.000000</td>\n",
       "      <td>113.000000</td>\n",
       "    </tr>\n",
       "    <tr>\n",
       "      <th>mean</th>\n",
       "      <td>57.00000</td>\n",
       "      <td>9.150442</td>\n",
       "      <td>52.796460</td>\n",
       "      <td>4.354867</td>\n",
       "      <td>15.792920</td>\n",
       "      <td>81.628319</td>\n",
       "      <td>252.168142</td>\n",
       "      <td>1.849558</td>\n",
       "      <td>2.362832</td>\n",
       "      <td>191.371681</td>\n",
       "      <td>173.247788</td>\n",
       "      <td>43.159292</td>\n",
       "      <td>1.307206</td>\n",
       "    </tr>\n",
       "    <tr>\n",
       "      <th>std</th>\n",
       "      <td>32.76431</td>\n",
       "      <td>1.914331</td>\n",
       "      <td>4.428317</td>\n",
       "      <td>1.340908</td>\n",
       "      <td>10.234707</td>\n",
       "      <td>19.363826</td>\n",
       "      <td>192.842687</td>\n",
       "      <td>0.359097</td>\n",
       "      <td>1.009437</td>\n",
       "      <td>153.759564</td>\n",
       "      <td>139.265390</td>\n",
       "      <td>15.200861</td>\n",
       "      <td>0.273476</td>\n",
       "    </tr>\n",
       "    <tr>\n",
       "      <th>min</th>\n",
       "      <td>1.00000</td>\n",
       "      <td>6.000000</td>\n",
       "      <td>38.000000</td>\n",
       "      <td>1.300000</td>\n",
       "      <td>1.600000</td>\n",
       "      <td>39.600000</td>\n",
       "      <td>29.000000</td>\n",
       "      <td>1.000000</td>\n",
       "      <td>1.000000</td>\n",
       "      <td>20.000000</td>\n",
       "      <td>14.000000</td>\n",
       "      <td>5.700000</td>\n",
       "      <td>0.857143</td>\n",
       "    </tr>\n",
       "    <tr>\n",
       "      <th>25%</th>\n",
       "      <td>29.00000</td>\n",
       "      <td>8.000000</td>\n",
       "      <td>50.000000</td>\n",
       "      <td>3.700000</td>\n",
       "      <td>8.400000</td>\n",
       "      <td>69.500000</td>\n",
       "      <td>106.000000</td>\n",
       "      <td>2.000000</td>\n",
       "      <td>2.000000</td>\n",
       "      <td>68.000000</td>\n",
       "      <td>66.000000</td>\n",
       "      <td>31.400000</td>\n",
       "      <td>1.142857</td>\n",
       "    </tr>\n",
       "    <tr>\n",
       "      <th>50%</th>\n",
       "      <td>57.00000</td>\n",
       "      <td>9.000000</td>\n",
       "      <td>53.000000</td>\n",
       "      <td>4.400000</td>\n",
       "      <td>14.100000</td>\n",
       "      <td>82.300000</td>\n",
       "      <td>186.000000</td>\n",
       "      <td>2.000000</td>\n",
       "      <td>2.000000</td>\n",
       "      <td>143.000000</td>\n",
       "      <td>132.000000</td>\n",
       "      <td>42.900000</td>\n",
       "      <td>1.285714</td>\n",
       "    </tr>\n",
       "    <tr>\n",
       "      <th>75%</th>\n",
       "      <td>85.00000</td>\n",
       "      <td>10.000000</td>\n",
       "      <td>56.000000</td>\n",
       "      <td>5.200000</td>\n",
       "      <td>20.300000</td>\n",
       "      <td>94.100000</td>\n",
       "      <td>312.000000</td>\n",
       "      <td>2.000000</td>\n",
       "      <td>3.000000</td>\n",
       "      <td>252.000000</td>\n",
       "      <td>218.000000</td>\n",
       "      <td>54.300000</td>\n",
       "      <td>1.428571</td>\n",
       "    </tr>\n",
       "    <tr>\n",
       "      <th>max</th>\n",
       "      <td>113.00000</td>\n",
       "      <td>19.000000</td>\n",
       "      <td>65.000000</td>\n",
       "      <td>7.800000</td>\n",
       "      <td>60.500000</td>\n",
       "      <td>133.500000</td>\n",
       "      <td>835.000000</td>\n",
       "      <td>2.000000</td>\n",
       "      <td>4.000000</td>\n",
       "      <td>791.000000</td>\n",
       "      <td>656.000000</td>\n",
       "      <td>80.000000</td>\n",
       "      <td>2.714286</td>\n",
       "    </tr>\n",
       "  </tbody>\n",
       "</table>\n",
       "</div>"
      ],
      "text/plain": [
       "       hospital_ID  length_stay   age_years  infection_pct  culture_ratio  \\\n",
       "count    113.00000   113.000000  113.000000     113.000000     113.000000   \n",
       "mean      57.00000     9.150442   52.796460       4.354867      15.792920   \n",
       "std       32.76431     1.914331    4.428317       1.340908      10.234707   \n",
       "min        1.00000     6.000000   38.000000       1.300000       1.600000   \n",
       "25%       29.00000     8.000000   50.000000       3.700000       8.400000   \n",
       "50%       57.00000     9.000000   53.000000       4.400000      14.100000   \n",
       "75%       85.00000    10.000000   56.000000       5.200000      20.300000   \n",
       "max      113.00000    19.000000   65.000000       7.800000      60.500000   \n",
       "\n",
       "       xray_ratio    num_beds  med_sch_aff  region_num  num_patients  \\\n",
       "count  113.000000  113.000000   113.000000  113.000000    113.000000   \n",
       "mean    81.628319  252.168142     1.849558    2.362832    191.371681   \n",
       "std     19.363826  192.842687     0.359097    1.009437    153.759564   \n",
       "min     39.600000   29.000000     1.000000    1.000000     20.000000   \n",
       "25%     69.500000  106.000000     2.000000    2.000000     68.000000   \n",
       "50%     82.300000  186.000000     2.000000    2.000000    143.000000   \n",
       "75%     94.100000  312.000000     2.000000    3.000000    252.000000   \n",
       "max    133.500000  835.000000     2.000000    4.000000    791.000000   \n",
       "\n",
       "       num_nurses  avail_services  weeks_stay  \n",
       "count  113.000000      113.000000  113.000000  \n",
       "mean   173.247788       43.159292    1.307206  \n",
       "std    139.265390       15.200861    0.273476  \n",
       "min     14.000000        5.700000    0.857143  \n",
       "25%     66.000000       31.400000    1.142857  \n",
       "50%    132.000000       42.900000    1.285714  \n",
       "75%    218.000000       54.300000    1.428571  \n",
       "max    656.000000       80.000000    2.714286  "
      ]
     },
     "execution_count": 19,
     "metadata": {},
     "output_type": "execute_result"
    }
   ],
   "source": [
    "senic.describe()"
   ]
  },
  {
   "cell_type": "markdown",
   "metadata": {},
   "source": [
    "#### Mean of a specific column"
   ]
  },
  {
   "cell_type": "markdown",
   "metadata": {},
   "source": [
    "` # R code`\n",
    "\n",
    "`mean(senic$age_years)`"
   ]
  },
  {
   "cell_type": "code",
   "execution_count": 20,
   "metadata": {},
   "outputs": [
    {
     "data": {
      "text/plain": [
       "52.796460176991154"
      ]
     },
     "execution_count": 20,
     "metadata": {},
     "output_type": "execute_result"
    }
   ],
   "source": [
    "senic.age_years.mean()"
   ]
  },
  {
   "cell_type": "markdown",
   "metadata": {},
   "source": [
    "#### Mean values for all (numeric) columns"
   ]
  },
  {
   "cell_type": "markdown",
   "metadata": {},
   "source": [
    "` # R code`\n",
    "\n",
    "`sapply(senic, mean)`"
   ]
  },
  {
   "cell_type": "code",
   "execution_count": 21,
   "metadata": {},
   "outputs": [
    {
     "data": {
      "text/plain": [
       "hospital_ID        57.000000\n",
       "length_stay         9.150442\n",
       "age_years          52.796460\n",
       "infection_pct       4.354867\n",
       "culture_ratio      15.792920\n",
       "xray_ratio         81.628319\n",
       "num_beds          252.168142\n",
       "med_sch_aff         1.849558\n",
       "region_num          2.362832\n",
       "num_patients      191.371681\n",
       "num_nurses        173.247788\n",
       "avail_services     43.159292\n",
       "weeks_stay          1.307206\n",
       "dtype: float64"
      ]
     },
     "execution_count": 21,
     "metadata": {},
     "output_type": "execute_result"
    }
   ],
   "source": [
    "senic.mean()"
   ]
  },
  {
   "cell_type": "markdown",
   "metadata": {},
   "source": [
    "#### Categorical variable: frequency count"
   ]
  },
  {
   "cell_type": "markdown",
   "metadata": {},
   "source": [
    "` # R code`\n",
    "\n",
    "`summary(senic$region_name)`"
   ]
  },
  {
   "cell_type": "code",
   "execution_count": 22,
   "metadata": {},
   "outputs": [
    {
     "data": {
      "text/plain": [
       "South           37\n",
       "NorthCentral    32\n",
       "NorthEast       28\n",
       "West            16\n",
       "Name: region_name, dtype: int64"
      ]
     },
     "execution_count": 22,
     "metadata": {},
     "output_type": "execute_result"
    }
   ],
   "source": [
    "senic.region_name.value_counts()"
   ]
  },
  {
   "cell_type": "markdown",
   "metadata": {},
   "source": [
    "#### Categorical variable: percentage distribution"
   ]
  },
  {
   "cell_type": "markdown",
   "metadata": {},
   "source": [
    "` # R code`\n",
    "\n",
    "`summary(senic$region_name) / nrow(senic)`"
   ]
  },
  {
   "cell_type": "code",
   "execution_count": 23,
   "metadata": {},
   "outputs": [
    {
     "data": {
      "text/plain": [
       "South           0.327434\n",
       "NorthCentral    0.283186\n",
       "NorthEast       0.247788\n",
       "West            0.141593\n",
       "Name: region_name, dtype: float64"
      ]
     },
     "execution_count": 23,
     "metadata": {},
     "output_type": "execute_result"
    }
   ],
   "source": [
    "senic.region_name.value_counts() / len(senic)"
   ]
  },
  {
   "cell_type": "markdown",
   "metadata": {},
   "source": [
    "### Missing values"
   ]
  },
  {
   "cell_type": "markdown",
   "metadata": {},
   "source": [
    "#### Is hospital_ID null? Create a flag for each row."
   ]
  },
  {
   "cell_type": "markdown",
   "metadata": {},
   "source": [
    "` # R code`\n",
    "\n",
    "`is.na(senic$hospitalID)`"
   ]
  },
  {
   "cell_type": "code",
   "execution_count": 24,
   "metadata": {},
   "outputs": [
    {
     "data": {
      "text/plain": [
       "0    False\n",
       "1    False\n",
       "2    False\n",
       "3    False\n",
       "4    False\n",
       "Name: hospital_ID, dtype: bool"
      ]
     },
     "execution_count": 24,
     "metadata": {},
     "output_type": "execute_result"
    }
   ],
   "source": [
    "pd.isnull(senic.hospital_ID).head()"
   ]
  },
  {
   "cell_type": "code",
   "execution_count": 25,
   "metadata": {},
   "outputs": [
    {
     "data": {
      "text/plain": [
       "0    False\n",
       "1    False\n",
       "2    False\n",
       "3    False\n",
       "4    False\n",
       "Name: hospital_ID, dtype: bool"
      ]
     },
     "execution_count": 25,
     "metadata": {},
     "output_type": "execute_result"
    }
   ],
   "source": [
    "# Alternatively,\n",
    "\n",
    "senic.hospital_ID.isnull().head()"
   ]
  },
  {
   "cell_type": "markdown",
   "metadata": {},
   "source": [
    "#### Counts the total number of rows where hospital_ID is null"
   ]
  },
  {
   "cell_type": "markdown",
   "metadata": {},
   "source": [
    "` # R code`\n",
    "\n",
    "`sum(is.na(senic$hospitalID))`"
   ]
  },
  {
   "cell_type": "code",
   "execution_count": 26,
   "metadata": {},
   "outputs": [
    {
     "data": {
      "text/plain": [
       "0"
      ]
     },
     "execution_count": 26,
     "metadata": {},
     "output_type": "execute_result"
    }
   ],
   "source": [
    "sum(pd.isnull(senic.hospital_ID))"
   ]
  },
  {
   "cell_type": "markdown",
   "metadata": {},
   "source": [
    "#### Counts the total number of rows where each column is null"
   ]
  },
  {
   "cell_type": "markdown",
   "metadata": {},
   "source": [
    "` # R code`\n",
    "\n",
    "`apply(is.na(senic), 2, sum)`"
   ]
  },
  {
   "cell_type": "code",
   "execution_count": 27,
   "metadata": {},
   "outputs": [
    {
     "data": {
      "text/plain": [
       "hospital_ID       0\n",
       "length_stay       0\n",
       "age_years         0\n",
       "infection_pct     0\n",
       "culture_ratio     0\n",
       "xray_ratio        0\n",
       "num_beds          0\n",
       "med_sch_aff       0\n",
       "region_num        0\n",
       "num_patients      0\n",
       "num_nurses        0\n",
       "avail_services    0\n",
       "region_name       0\n",
       "medical_school    0\n",
       "weeks_stay        0\n",
       "dtype: int64"
      ]
     },
     "execution_count": 27,
     "metadata": {},
     "output_type": "execute_result"
    }
   ],
   "source": [
    "senic.isnull().sum()"
   ]
  },
  {
   "cell_type": "code",
   "execution_count": 28,
   "metadata": {},
   "outputs": [
    {
     "data": {
      "text/plain": [
       "hospital_ID       0\n",
       "length_stay       0\n",
       "age_years         0\n",
       "infection_pct     0\n",
       "culture_ratio     0\n",
       "xray_ratio        0\n",
       "num_beds          0\n",
       "med_sch_aff       0\n",
       "region_num        0\n",
       "num_patients      0\n",
       "num_nurses        0\n",
       "avail_services    0\n",
       "region_name       0\n",
       "medical_school    0\n",
       "weeks_stay        0\n",
       "dtype: int64"
      ]
     },
     "execution_count": 28,
     "metadata": {},
     "output_type": "execute_result"
    }
   ],
   "source": [
    "# Alternatively, use `isin()`, which can be useful if there are special \n",
    "#  characters used to denote missing values\n",
    "\n",
    "senic.isin([999999, 99999]).sum()"
   ]
  },
  {
   "cell_type": "markdown",
   "metadata": {},
   "source": [
    "#### Let's create a small data frame with missing values"
   ]
  },
  {
   "cell_type": "code",
   "execution_count": 29,
   "metadata": {},
   "outputs": [
    {
     "data": {
      "text/html": [
       "<div>\n",
       "<style scoped>\n",
       "    .dataframe tbody tr th:only-of-type {\n",
       "        vertical-align: middle;\n",
       "    }\n",
       "\n",
       "    .dataframe tbody tr th {\n",
       "        vertical-align: top;\n",
       "    }\n",
       "\n",
       "    .dataframe thead th {\n",
       "        text-align: right;\n",
       "    }\n",
       "</style>\n",
       "<table border=\"1\" class=\"dataframe\">\n",
       "  <thead>\n",
       "    <tr style=\"text-align: right;\">\n",
       "      <th></th>\n",
       "      <th>Letter</th>\n",
       "    </tr>\n",
       "  </thead>\n",
       "  <tbody>\n",
       "    <tr>\n",
       "      <th>0</th>\n",
       "      <td>c</td>\n",
       "    </tr>\n",
       "    <tr>\n",
       "      <th>1</th>\n",
       "      <td>v</td>\n",
       "    </tr>\n",
       "    <tr>\n",
       "      <th>2</th>\n",
       "      <td>NaN</td>\n",
       "    </tr>\n",
       "    <tr>\n",
       "      <th>3</th>\n",
       "      <td>r</td>\n",
       "    </tr>\n",
       "    <tr>\n",
       "      <th>4</th>\n",
       "      <td>None</td>\n",
       "    </tr>\n",
       "  </tbody>\n",
       "</table>\n",
       "</div>"
      ],
      "text/plain": [
       "  Letter\n",
       "0      c\n",
       "1      v\n",
       "2    NaN\n",
       "3      r\n",
       "4   None"
      ]
     },
     "execution_count": 29,
     "metadata": {},
     "output_type": "execute_result"
    }
   ],
   "source": [
    "import numpy as np\n",
    "\n",
    "temp = pd.DataFrame(data=['c', 'v', np.nan, 'r', None], columns=['Letter'])\n",
    "temp"
   ]
  },
  {
   "cell_type": "code",
   "execution_count": 30,
   "metadata": {},
   "outputs": [
    {
     "data": {
      "text/plain": [
       "dtype('O')"
      ]
     },
     "execution_count": 30,
     "metadata": {},
     "output_type": "execute_result"
    }
   ],
   "source": [
    "# Check the data type \n",
    "\n",
    "temp.Letter.dtype"
   ]
  },
  {
   "cell_type": "code",
   "execution_count": 31,
   "metadata": {},
   "outputs": [
    {
     "data": {
      "text/html": [
       "<div>\n",
       "<style scoped>\n",
       "    .dataframe tbody tr th:only-of-type {\n",
       "        vertical-align: middle;\n",
       "    }\n",
       "\n",
       "    .dataframe tbody tr th {\n",
       "        vertical-align: top;\n",
       "    }\n",
       "\n",
       "    .dataframe thead th {\n",
       "        text-align: right;\n",
       "    }\n",
       "</style>\n",
       "<table border=\"1\" class=\"dataframe\">\n",
       "  <thead>\n",
       "    <tr style=\"text-align: right;\">\n",
       "      <th></th>\n",
       "      <th>Letter</th>\n",
       "    </tr>\n",
       "  </thead>\n",
       "  <tbody>\n",
       "    <tr>\n",
       "      <th>0</th>\n",
       "      <td>False</td>\n",
       "    </tr>\n",
       "    <tr>\n",
       "      <th>1</th>\n",
       "      <td>False</td>\n",
       "    </tr>\n",
       "    <tr>\n",
       "      <th>2</th>\n",
       "      <td>True</td>\n",
       "    </tr>\n",
       "    <tr>\n",
       "      <th>3</th>\n",
       "      <td>False</td>\n",
       "    </tr>\n",
       "    <tr>\n",
       "      <th>4</th>\n",
       "      <td>True</td>\n",
       "    </tr>\n",
       "  </tbody>\n",
       "</table>\n",
       "</div>"
      ],
      "text/plain": [
       "   Letter\n",
       "0   False\n",
       "1   False\n",
       "2    True\n",
       "3   False\n",
       "4    True"
      ]
     },
     "execution_count": 31,
     "metadata": {},
     "output_type": "execute_result"
    }
   ],
   "source": [
    "# Use 'isnull()' to check if the column contains a missing value\n",
    "\n",
    "temp.isnull()"
   ]
  },
  {
   "cell_type": "code",
   "execution_count": 32,
   "metadata": {},
   "outputs": [
    {
     "data": {
      "text/html": [
       "<div>\n",
       "<style scoped>\n",
       "    .dataframe tbody tr th:only-of-type {\n",
       "        vertical-align: middle;\n",
       "    }\n",
       "\n",
       "    .dataframe tbody tr th {\n",
       "        vertical-align: top;\n",
       "    }\n",
       "\n",
       "    .dataframe thead th {\n",
       "        text-align: right;\n",
       "    }\n",
       "</style>\n",
       "<table border=\"1\" class=\"dataframe\">\n",
       "  <thead>\n",
       "    <tr style=\"text-align: right;\">\n",
       "      <th></th>\n",
       "      <th>Letter</th>\n",
       "    </tr>\n",
       "  </thead>\n",
       "  <tbody>\n",
       "    <tr>\n",
       "      <th>0</th>\n",
       "      <td>c</td>\n",
       "    </tr>\n",
       "    <tr>\n",
       "      <th>1</th>\n",
       "      <td>v</td>\n",
       "    </tr>\n",
       "    <tr>\n",
       "      <th>3</th>\n",
       "      <td>r</td>\n",
       "    </tr>\n",
       "  </tbody>\n",
       "</table>\n",
       "</div>"
      ],
      "text/plain": [
       "  Letter\n",
       "0      c\n",
       "1      v\n",
       "3      r"
      ]
     },
     "execution_count": 32,
     "metadata": {},
     "output_type": "execute_result"
    }
   ],
   "source": [
    "# Select rows from the data frame where the column Letter is not missing\n",
    "\n",
    "temp[temp.Letter.notnull()]"
   ]
  },
  {
   "cell_type": "code",
   "execution_count": 33,
   "metadata": {},
   "outputs": [
    {
     "data": {
      "text/html": [
       "<div>\n",
       "<style scoped>\n",
       "    .dataframe tbody tr th:only-of-type {\n",
       "        vertical-align: middle;\n",
       "    }\n",
       "\n",
       "    .dataframe tbody tr th {\n",
       "        vertical-align: top;\n",
       "    }\n",
       "\n",
       "    .dataframe thead th {\n",
       "        text-align: right;\n",
       "    }\n",
       "</style>\n",
       "<table border=\"1\" class=\"dataframe\">\n",
       "  <thead>\n",
       "    <tr style=\"text-align: right;\">\n",
       "      <th></th>\n",
       "      <th>Letter</th>\n",
       "    </tr>\n",
       "  </thead>\n",
       "  <tbody>\n",
       "    <tr>\n",
       "      <th>0</th>\n",
       "      <td>c</td>\n",
       "    </tr>\n",
       "    <tr>\n",
       "      <th>1</th>\n",
       "      <td>v</td>\n",
       "    </tr>\n",
       "    <tr>\n",
       "      <th>3</th>\n",
       "      <td>r</td>\n",
       "    </tr>\n",
       "  </tbody>\n",
       "</table>\n",
       "</div>"
      ],
      "text/plain": [
       "  Letter\n",
       "0      c\n",
       "1      v\n",
       "3      r"
      ]
     },
     "execution_count": 33,
     "metadata": {},
     "output_type": "execute_result"
    }
   ],
   "source": [
    "# Drop rows from the data frame where Letter is missing\n",
    "\n",
    "temp.dropna()"
   ]
  },
  {
   "cell_type": "code",
   "execution_count": 34,
   "metadata": {},
   "outputs": [
    {
     "data": {
      "text/html": [
       "<div>\n",
       "<style scoped>\n",
       "    .dataframe tbody tr th:only-of-type {\n",
       "        vertical-align: middle;\n",
       "    }\n",
       "\n",
       "    .dataframe tbody tr th {\n",
       "        vertical-align: top;\n",
       "    }\n",
       "\n",
       "    .dataframe thead th {\n",
       "        text-align: right;\n",
       "    }\n",
       "</style>\n",
       "<table border=\"1\" class=\"dataframe\">\n",
       "  <thead>\n",
       "    <tr style=\"text-align: right;\">\n",
       "      <th></th>\n",
       "      <th>Letter</th>\n",
       "    </tr>\n",
       "  </thead>\n",
       "  <tbody>\n",
       "    <tr>\n",
       "      <th>0</th>\n",
       "      <td>c</td>\n",
       "    </tr>\n",
       "    <tr>\n",
       "      <th>1</th>\n",
       "      <td>v</td>\n",
       "    </tr>\n",
       "    <tr>\n",
       "      <th>2</th>\n",
       "      <td>NaN</td>\n",
       "    </tr>\n",
       "    <tr>\n",
       "      <th>3</th>\n",
       "      <td>r</td>\n",
       "    </tr>\n",
       "    <tr>\n",
       "      <th>4</th>\n",
       "      <td>None</td>\n",
       "    </tr>\n",
       "  </tbody>\n",
       "</table>\n",
       "</div>"
      ],
      "text/plain": [
       "  Letter\n",
       "0      c\n",
       "1      v\n",
       "2    NaN\n",
       "3      r\n",
       "4   None"
      ]
     },
     "execution_count": 34,
     "metadata": {},
     "output_type": "execute_result"
    }
   ],
   "source": [
    "temp"
   ]
  },
  {
   "cell_type": "markdown",
   "metadata": {},
   "source": [
    "Note that the `dropna()` function did not drop rows from the original data frame. It just _returned_ the results, which can then be saved into a new (or same) data frame."
   ]
  },
  {
   "cell_type": "code",
   "execution_count": 35,
   "metadata": {},
   "outputs": [
    {
     "data": {
      "text/html": [
       "<div>\n",
       "<style scoped>\n",
       "    .dataframe tbody tr th:only-of-type {\n",
       "        vertical-align: middle;\n",
       "    }\n",
       "\n",
       "    .dataframe tbody tr th {\n",
       "        vertical-align: top;\n",
       "    }\n",
       "\n",
       "    .dataframe thead th {\n",
       "        text-align: right;\n",
       "    }\n",
       "</style>\n",
       "<table border=\"1\" class=\"dataframe\">\n",
       "  <thead>\n",
       "    <tr style=\"text-align: right;\">\n",
       "      <th></th>\n",
       "      <th>Letter</th>\n",
       "    </tr>\n",
       "  </thead>\n",
       "  <tbody>\n",
       "    <tr>\n",
       "      <th>0</th>\n",
       "      <td>c</td>\n",
       "    </tr>\n",
       "    <tr>\n",
       "      <th>1</th>\n",
       "      <td>v</td>\n",
       "    </tr>\n",
       "    <tr>\n",
       "      <th>3</th>\n",
       "      <td>r</td>\n",
       "    </tr>\n",
       "  </tbody>\n",
       "</table>\n",
       "</div>"
      ],
      "text/plain": [
       "  Letter\n",
       "0      c\n",
       "1      v\n",
       "3      r"
      ]
     },
     "execution_count": 35,
     "metadata": {},
     "output_type": "execute_result"
    }
   ],
   "source": [
    "# Store the results into a new data frame\n",
    "\n",
    "temp_clean = temp.dropna()\n",
    "temp_clean"
   ]
  },
  {
   "cell_type": "code",
   "execution_count": 36,
   "metadata": {},
   "outputs": [
    {
     "data": {
      "text/html": [
       "<div>\n",
       "<style scoped>\n",
       "    .dataframe tbody tr th:only-of-type {\n",
       "        vertical-align: middle;\n",
       "    }\n",
       "\n",
       "    .dataframe tbody tr th {\n",
       "        vertical-align: top;\n",
       "    }\n",
       "\n",
       "    .dataframe thead th {\n",
       "        text-align: right;\n",
       "    }\n",
       "</style>\n",
       "<table border=\"1\" class=\"dataframe\">\n",
       "  <thead>\n",
       "    <tr style=\"text-align: right;\">\n",
       "      <th></th>\n",
       "      <th>Letter</th>\n",
       "    </tr>\n",
       "  </thead>\n",
       "  <tbody>\n",
       "    <tr>\n",
       "      <th>0</th>\n",
       "      <td>c</td>\n",
       "    </tr>\n",
       "    <tr>\n",
       "      <th>1</th>\n",
       "      <td>v</td>\n",
       "    </tr>\n",
       "    <tr>\n",
       "      <th>2</th>\n",
       "      <td>x</td>\n",
       "    </tr>\n",
       "    <tr>\n",
       "      <th>3</th>\n",
       "      <td>r</td>\n",
       "    </tr>\n",
       "    <tr>\n",
       "      <th>4</th>\n",
       "      <td>x</td>\n",
       "    </tr>\n",
       "  </tbody>\n",
       "</table>\n",
       "</div>"
      ],
      "text/plain": [
       "  Letter\n",
       "0      c\n",
       "1      v\n",
       "2      x\n",
       "3      r\n",
       "4      x"
      ]
     },
     "execution_count": 36,
     "metadata": {},
     "output_type": "execute_result"
    }
   ],
   "source": [
    "# Impute missing values\n",
    "\n",
    "temp.fillna('x')"
   ]
  },
  {
   "cell_type": "code",
   "execution_count": 37,
   "metadata": {},
   "outputs": [
    {
     "data": {
      "text/html": [
       "<div>\n",
       "<style scoped>\n",
       "    .dataframe tbody tr th:only-of-type {\n",
       "        vertical-align: middle;\n",
       "    }\n",
       "\n",
       "    .dataframe tbody tr th {\n",
       "        vertical-align: top;\n",
       "    }\n",
       "\n",
       "    .dataframe thead th {\n",
       "        text-align: right;\n",
       "    }\n",
       "</style>\n",
       "<table border=\"1\" class=\"dataframe\">\n",
       "  <thead>\n",
       "    <tr style=\"text-align: right;\">\n",
       "      <th></th>\n",
       "      <th>Letter</th>\n",
       "    </tr>\n",
       "  </thead>\n",
       "  <tbody>\n",
       "    <tr>\n",
       "      <th>0</th>\n",
       "      <td>c</td>\n",
       "    </tr>\n",
       "    <tr>\n",
       "      <th>1</th>\n",
       "      <td>v</td>\n",
       "    </tr>\n",
       "    <tr>\n",
       "      <th>2</th>\n",
       "      <td>NaN</td>\n",
       "    </tr>\n",
       "    <tr>\n",
       "      <th>3</th>\n",
       "      <td>r</td>\n",
       "    </tr>\n",
       "    <tr>\n",
       "      <th>4</th>\n",
       "      <td>None</td>\n",
       "    </tr>\n",
       "  </tbody>\n",
       "</table>\n",
       "</div>"
      ],
      "text/plain": [
       "  Letter\n",
       "0      c\n",
       "1      v\n",
       "2    NaN\n",
       "3      r\n",
       "4   None"
      ]
     },
     "execution_count": 37,
     "metadata": {},
     "output_type": "execute_result"
    }
   ],
   "source": [
    "temp"
   ]
  },
  {
   "cell_type": "markdown",
   "metadata": {},
   "source": [
    "Again, the `fillna()` function did not drop rows from the original data frame. It just returned the results, which can then be saved into a new (or same) data frame."
   ]
  },
  {
   "cell_type": "markdown",
   "metadata": {},
   "source": [
    "Alternatively, you can use `inplace=True` to replace the original data frame."
   ]
  },
  {
   "cell_type": "code",
   "execution_count": 38,
   "metadata": {},
   "outputs": [
    {
     "data": {
      "text/html": [
       "<div>\n",
       "<style scoped>\n",
       "    .dataframe tbody tr th:only-of-type {\n",
       "        vertical-align: middle;\n",
       "    }\n",
       "\n",
       "    .dataframe tbody tr th {\n",
       "        vertical-align: top;\n",
       "    }\n",
       "\n",
       "    .dataframe thead th {\n",
       "        text-align: right;\n",
       "    }\n",
       "</style>\n",
       "<table border=\"1\" class=\"dataframe\">\n",
       "  <thead>\n",
       "    <tr style=\"text-align: right;\">\n",
       "      <th></th>\n",
       "      <th>Letter</th>\n",
       "    </tr>\n",
       "  </thead>\n",
       "  <tbody>\n",
       "    <tr>\n",
       "      <th>0</th>\n",
       "      <td>c</td>\n",
       "    </tr>\n",
       "    <tr>\n",
       "      <th>1</th>\n",
       "      <td>v</td>\n",
       "    </tr>\n",
       "    <tr>\n",
       "      <th>2</th>\n",
       "      <td>x</td>\n",
       "    </tr>\n",
       "    <tr>\n",
       "      <th>3</th>\n",
       "      <td>r</td>\n",
       "    </tr>\n",
       "    <tr>\n",
       "      <th>4</th>\n",
       "      <td>x</td>\n",
       "    </tr>\n",
       "  </tbody>\n",
       "</table>\n",
       "</div>"
      ],
      "text/plain": [
       "  Letter\n",
       "0      c\n",
       "1      v\n",
       "2      x\n",
       "3      r\n",
       "4      x"
      ]
     },
     "execution_count": 38,
     "metadata": {},
     "output_type": "execute_result"
    }
   ],
   "source": [
    "temp.fillna('x', inplace=True)\n",
    "temp"
   ]
  },
  {
   "cell_type": "markdown",
   "metadata": {},
   "source": [
    "Note: The `inplace=` option will be deprecated at some point in the future."
   ]
  },
  {
   "cell_type": "markdown",
   "metadata": {},
   "source": [
    "### Perason correlation coefficient"
   ]
  },
  {
   "cell_type": "markdown",
   "metadata": {},
   "source": [
    "#### Correlation coefficient between two variables"
   ]
  },
  {
   "cell_type": "markdown",
   "metadata": {},
   "source": [
    "` # R code`\n",
    "\n",
    "`cor(senic$num_beds, senic$length_stay)`"
   ]
  },
  {
   "cell_type": "code",
   "execution_count": 39,
   "metadata": {},
   "outputs": [
    {
     "data": {
      "text/html": [
       "<div>\n",
       "<style scoped>\n",
       "    .dataframe tbody tr th:only-of-type {\n",
       "        vertical-align: middle;\n",
       "    }\n",
       "\n",
       "    .dataframe tbody tr th {\n",
       "        vertical-align: top;\n",
       "    }\n",
       "\n",
       "    .dataframe thead th {\n",
       "        text-align: right;\n",
       "    }\n",
       "</style>\n",
       "<table border=\"1\" class=\"dataframe\">\n",
       "  <thead>\n",
       "    <tr style=\"text-align: right;\">\n",
       "      <th></th>\n",
       "      <th>num_beds</th>\n",
       "      <th>length_stay</th>\n",
       "    </tr>\n",
       "  </thead>\n",
       "  <tbody>\n",
       "    <tr>\n",
       "      <th>num_beds</th>\n",
       "      <td>1.000000</td>\n",
       "      <td>0.421757</td>\n",
       "    </tr>\n",
       "    <tr>\n",
       "      <th>length_stay</th>\n",
       "      <td>0.421757</td>\n",
       "      <td>1.000000</td>\n",
       "    </tr>\n",
       "  </tbody>\n",
       "</table>\n",
       "</div>"
      ],
      "text/plain": [
       "             num_beds  length_stay\n",
       "num_beds     1.000000     0.421757\n",
       "length_stay  0.421757     1.000000"
      ]
     },
     "execution_count": 39,
     "metadata": {},
     "output_type": "execute_result"
    }
   ],
   "source": [
    "senic[['num_beds', 'length_stay']].corr()"
   ]
  },
  {
   "cell_type": "markdown",
   "metadata": {},
   "source": [
    "<img src='https://www.dropbox.com/s/m7ijuw8e8m6s9lx/corr_sig.JPG?dl=1' width=\"600\" align=left>"
   ]
  },
  {
   "cell_type": "code",
   "execution_count": 40,
   "metadata": {},
   "outputs": [
    {
     "data": {
      "text/plain": [
       "(0.42175657750768714, 3.2803890684968434e-06)"
      ]
     },
     "execution_count": 40,
     "metadata": {},
     "output_type": "execute_result"
    }
   ],
   "source": [
    "# Using scipy\n",
    "\n",
    "from scipy.stats.stats import pearsonr\n",
    "\n",
    "pearsonr(senic['num_beds'], senic['length_stay'])"
   ]
  },
  {
   "cell_type": "markdown",
   "metadata": {},
   "source": [
    "#### Correlation coefficient between all (numeric) columns"
   ]
  },
  {
   "cell_type": "markdown",
   "metadata": {},
   "source": [
    "` # R code`\n",
    "\n",
    "`cor.test(senic$num_beds, senic$length_stay)`"
   ]
  },
  {
   "cell_type": "code",
   "execution_count": 41,
   "metadata": {},
   "outputs": [
    {
     "data": {
      "text/html": [
       "<div>\n",
       "<style scoped>\n",
       "    .dataframe tbody tr th:only-of-type {\n",
       "        vertical-align: middle;\n",
       "    }\n",
       "\n",
       "    .dataframe tbody tr th {\n",
       "        vertical-align: top;\n",
       "    }\n",
       "\n",
       "    .dataframe thead th {\n",
       "        text-align: right;\n",
       "    }\n",
       "</style>\n",
       "<table border=\"1\" class=\"dataframe\">\n",
       "  <thead>\n",
       "    <tr style=\"text-align: right;\">\n",
       "      <th></th>\n",
       "      <th>hospital_ID</th>\n",
       "      <th>length_stay</th>\n",
       "      <th>age_years</th>\n",
       "      <th>infection_pct</th>\n",
       "      <th>culture_ratio</th>\n",
       "      <th>xray_ratio</th>\n",
       "      <th>num_beds</th>\n",
       "      <th>med_sch_aff</th>\n",
       "      <th>region_num</th>\n",
       "      <th>num_patients</th>\n",
       "      <th>num_nurses</th>\n",
       "      <th>avail_services</th>\n",
       "      <th>weeks_stay</th>\n",
       "    </tr>\n",
       "  </thead>\n",
       "  <tbody>\n",
       "    <tr>\n",
       "      <th>hospital_ID</th>\n",
       "      <td>1.000000</td>\n",
       "      <td>-0.039289</td>\n",
       "      <td>0.033169</td>\n",
       "      <td>-0.211316</td>\n",
       "      <td>-0.267415</td>\n",
       "      <td>-0.166020</td>\n",
       "      <td>-0.035653</td>\n",
       "      <td>0.006071</td>\n",
       "      <td>0.101505</td>\n",
       "      <td>-0.027056</td>\n",
       "      <td>-0.133531</td>\n",
       "      <td>-0.097857</td>\n",
       "      <td>-0.039289</td>\n",
       "    </tr>\n",
       "    <tr>\n",
       "      <th>length_stay</th>\n",
       "      <td>-0.039289</td>\n",
       "      <td>1.000000</td>\n",
       "      <td>0.165843</td>\n",
       "      <td>0.529282</td>\n",
       "      <td>0.351180</td>\n",
       "      <td>0.358628</td>\n",
       "      <td>0.421757</td>\n",
       "      <td>-0.317467</td>\n",
       "      <td>-0.490546</td>\n",
       "      <td>0.482233</td>\n",
       "      <td>0.359112</td>\n",
       "      <td>0.368223</td>\n",
       "      <td>1.000000</td>\n",
       "    </tr>\n",
       "    <tr>\n",
       "      <th>age_years</th>\n",
       "      <td>0.033169</td>\n",
       "      <td>0.165843</td>\n",
       "      <td>1.000000</td>\n",
       "      <td>-0.002313</td>\n",
       "      <td>-0.227548</td>\n",
       "      <td>-0.024755</td>\n",
       "      <td>-0.061960</td>\n",
       "      <td>0.143400</td>\n",
       "      <td>-0.021282</td>\n",
       "      <td>-0.056811</td>\n",
       "      <td>-0.085988</td>\n",
       "      <td>-0.043325</td>\n",
       "      <td>0.165843</td>\n",
       "    </tr>\n",
       "    <tr>\n",
       "      <th>infection_pct</th>\n",
       "      <td>-0.211316</td>\n",
       "      <td>0.529282</td>\n",
       "      <td>-0.002313</td>\n",
       "      <td>1.000000</td>\n",
       "      <td>0.559159</td>\n",
       "      <td>0.453392</td>\n",
       "      <td>0.359770</td>\n",
       "      <td>-0.233030</td>\n",
       "      <td>-0.192281</td>\n",
       "      <td>0.381411</td>\n",
       "      <td>0.393981</td>\n",
       "      <td>0.412601</td>\n",
       "      <td>0.529282</td>\n",
       "    </tr>\n",
       "    <tr>\n",
       "      <th>culture_ratio</th>\n",
       "      <td>-0.267415</td>\n",
       "      <td>0.351180</td>\n",
       "      <td>-0.227548</td>\n",
       "      <td>0.559159</td>\n",
       "      <td>1.000000</td>\n",
       "      <td>0.424962</td>\n",
       "      <td>0.139725</td>\n",
       "      <td>-0.242744</td>\n",
       "      <td>-0.308278</td>\n",
       "      <td>0.142948</td>\n",
       "      <td>0.198900</td>\n",
       "      <td>0.185131</td>\n",
       "      <td>0.351180</td>\n",
       "    </tr>\n",
       "    <tr>\n",
       "      <th>xray_ratio</th>\n",
       "      <td>-0.166020</td>\n",
       "      <td>0.358628</td>\n",
       "      <td>-0.024755</td>\n",
       "      <td>0.453392</td>\n",
       "      <td>0.424962</td>\n",
       "      <td>1.000000</td>\n",
       "      <td>0.045820</td>\n",
       "      <td>-0.086697</td>\n",
       "      <td>-0.296344</td>\n",
       "      <td>0.062914</td>\n",
       "      <td>0.077381</td>\n",
       "      <td>0.111928</td>\n",
       "      <td>0.358628</td>\n",
       "    </tr>\n",
       "    <tr>\n",
       "      <th>num_beds</th>\n",
       "      <td>-0.035653</td>\n",
       "      <td>0.421757</td>\n",
       "      <td>-0.061960</td>\n",
       "      <td>0.359770</td>\n",
       "      <td>0.139725</td>\n",
       "      <td>0.045820</td>\n",
       "      <td>1.000000</td>\n",
       "      <td>-0.591180</td>\n",
       "      <td>-0.105627</td>\n",
       "      <td>0.980998</td>\n",
       "      <td>0.915504</td>\n",
       "      <td>0.794524</td>\n",
       "      <td>0.421757</td>\n",
       "    </tr>\n",
       "    <tr>\n",
       "      <th>med_sch_aff</th>\n",
       "      <td>0.006071</td>\n",
       "      <td>-0.317467</td>\n",
       "      <td>0.143400</td>\n",
       "      <td>-0.233030</td>\n",
       "      <td>-0.242744</td>\n",
       "      <td>-0.086697</td>\n",
       "      <td>-0.591180</td>\n",
       "      <td>1.000000</td>\n",
       "      <td>0.102668</td>\n",
       "      <td>-0.614757</td>\n",
       "      <td>-0.588240</td>\n",
       "      <td>-0.524390</td>\n",
       "      <td>-0.317467</td>\n",
       "    </tr>\n",
       "    <tr>\n",
       "      <th>region_num</th>\n",
       "      <td>0.101505</td>\n",
       "      <td>-0.490546</td>\n",
       "      <td>-0.021282</td>\n",
       "      <td>-0.192281</td>\n",
       "      <td>-0.308278</td>\n",
       "      <td>-0.296344</td>\n",
       "      <td>-0.105627</td>\n",
       "      <td>0.102668</td>\n",
       "      <td>1.000000</td>\n",
       "      <td>-0.152744</td>\n",
       "      <td>-0.112681</td>\n",
       "      <td>-0.211532</td>\n",
       "      <td>-0.490546</td>\n",
       "    </tr>\n",
       "    <tr>\n",
       "      <th>num_patients</th>\n",
       "      <td>-0.027056</td>\n",
       "      <td>0.482233</td>\n",
       "      <td>-0.056811</td>\n",
       "      <td>0.381411</td>\n",
       "      <td>0.142948</td>\n",
       "      <td>0.062914</td>\n",
       "      <td>0.980998</td>\n",
       "      <td>-0.614757</td>\n",
       "      <td>-0.152744</td>\n",
       "      <td>1.000000</td>\n",
       "      <td>0.907897</td>\n",
       "      <td>0.778063</td>\n",
       "      <td>0.482233</td>\n",
       "    </tr>\n",
       "    <tr>\n",
       "      <th>num_nurses</th>\n",
       "      <td>-0.133531</td>\n",
       "      <td>0.359112</td>\n",
       "      <td>-0.085988</td>\n",
       "      <td>0.393981</td>\n",
       "      <td>0.198900</td>\n",
       "      <td>0.077381</td>\n",
       "      <td>0.915504</td>\n",
       "      <td>-0.588240</td>\n",
       "      <td>-0.112681</td>\n",
       "      <td>0.907897</td>\n",
       "      <td>1.000000</td>\n",
       "      <td>0.783505</td>\n",
       "      <td>0.359112</td>\n",
       "    </tr>\n",
       "    <tr>\n",
       "      <th>avail_services</th>\n",
       "      <td>-0.097857</td>\n",
       "      <td>0.368223</td>\n",
       "      <td>-0.043325</td>\n",
       "      <td>0.412601</td>\n",
       "      <td>0.185131</td>\n",
       "      <td>0.111928</td>\n",
       "      <td>0.794524</td>\n",
       "      <td>-0.524390</td>\n",
       "      <td>-0.211532</td>\n",
       "      <td>0.778063</td>\n",
       "      <td>0.783505</td>\n",
       "      <td>1.000000</td>\n",
       "      <td>0.368223</td>\n",
       "    </tr>\n",
       "    <tr>\n",
       "      <th>weeks_stay</th>\n",
       "      <td>-0.039289</td>\n",
       "      <td>1.000000</td>\n",
       "      <td>0.165843</td>\n",
       "      <td>0.529282</td>\n",
       "      <td>0.351180</td>\n",
       "      <td>0.358628</td>\n",
       "      <td>0.421757</td>\n",
       "      <td>-0.317467</td>\n",
       "      <td>-0.490546</td>\n",
       "      <td>0.482233</td>\n",
       "      <td>0.359112</td>\n",
       "      <td>0.368223</td>\n",
       "      <td>1.000000</td>\n",
       "    </tr>\n",
       "  </tbody>\n",
       "</table>\n",
       "</div>"
      ],
      "text/plain": [
       "                hospital_ID  length_stay  age_years  infection_pct  \\\n",
       "hospital_ID        1.000000    -0.039289   0.033169      -0.211316   \n",
       "length_stay       -0.039289     1.000000   0.165843       0.529282   \n",
       "age_years          0.033169     0.165843   1.000000      -0.002313   \n",
       "infection_pct     -0.211316     0.529282  -0.002313       1.000000   \n",
       "culture_ratio     -0.267415     0.351180  -0.227548       0.559159   \n",
       "xray_ratio        -0.166020     0.358628  -0.024755       0.453392   \n",
       "num_beds          -0.035653     0.421757  -0.061960       0.359770   \n",
       "med_sch_aff        0.006071    -0.317467   0.143400      -0.233030   \n",
       "region_num         0.101505    -0.490546  -0.021282      -0.192281   \n",
       "num_patients      -0.027056     0.482233  -0.056811       0.381411   \n",
       "num_nurses        -0.133531     0.359112  -0.085988       0.393981   \n",
       "avail_services    -0.097857     0.368223  -0.043325       0.412601   \n",
       "weeks_stay        -0.039289     1.000000   0.165843       0.529282   \n",
       "\n",
       "                culture_ratio  xray_ratio  num_beds  med_sch_aff  region_num  \\\n",
       "hospital_ID         -0.267415   -0.166020 -0.035653     0.006071    0.101505   \n",
       "length_stay          0.351180    0.358628  0.421757    -0.317467   -0.490546   \n",
       "age_years           -0.227548   -0.024755 -0.061960     0.143400   -0.021282   \n",
       "infection_pct        0.559159    0.453392  0.359770    -0.233030   -0.192281   \n",
       "culture_ratio        1.000000    0.424962  0.139725    -0.242744   -0.308278   \n",
       "xray_ratio           0.424962    1.000000  0.045820    -0.086697   -0.296344   \n",
       "num_beds             0.139725    0.045820  1.000000    -0.591180   -0.105627   \n",
       "med_sch_aff         -0.242744   -0.086697 -0.591180     1.000000    0.102668   \n",
       "region_num          -0.308278   -0.296344 -0.105627     0.102668    1.000000   \n",
       "num_patients         0.142948    0.062914  0.980998    -0.614757   -0.152744   \n",
       "num_nurses           0.198900    0.077381  0.915504    -0.588240   -0.112681   \n",
       "avail_services       0.185131    0.111928  0.794524    -0.524390   -0.211532   \n",
       "weeks_stay           0.351180    0.358628  0.421757    -0.317467   -0.490546   \n",
       "\n",
       "                num_patients  num_nurses  avail_services  weeks_stay  \n",
       "hospital_ID        -0.027056   -0.133531       -0.097857   -0.039289  \n",
       "length_stay         0.482233    0.359112        0.368223    1.000000  \n",
       "age_years          -0.056811   -0.085988       -0.043325    0.165843  \n",
       "infection_pct       0.381411    0.393981        0.412601    0.529282  \n",
       "culture_ratio       0.142948    0.198900        0.185131    0.351180  \n",
       "xray_ratio          0.062914    0.077381        0.111928    0.358628  \n",
       "num_beds            0.980998    0.915504        0.794524    0.421757  \n",
       "med_sch_aff        -0.614757   -0.588240       -0.524390   -0.317467  \n",
       "region_num         -0.152744   -0.112681       -0.211532   -0.490546  \n",
       "num_patients        1.000000    0.907897        0.778063    0.482233  \n",
       "num_nurses          0.907897    1.000000        0.783505    0.359112  \n",
       "avail_services      0.778063    0.783505        1.000000    0.368223  \n",
       "weeks_stay          0.482233    0.359112        0.368223    1.000000  "
      ]
     },
     "execution_count": 41,
     "metadata": {},
     "output_type": "execute_result"
    }
   ],
   "source": [
    "senic.corr()"
   ]
  },
  {
   "cell_type": "markdown",
   "metadata": {},
   "source": [
    "### Visualize\n",
    "\n",
    "`ggplot(data=senic, mapping = aes(x = num_beds, y = length_stay)) +\n",
    "  geom_point() +\n",
    "  geom_smooth()`\n",
    "\n",
    "\n",
    "Load the necessary library:\n",
    "\n",
    "`library(ggplot2)`\n",
    "\n",
    "`ggplot(data=senic, mapping = aes(x = num_beds, y = length_stay)) +\n",
    "  geom_point() +\n",
    "  geom_smooth() +\n",
    "  labs(x = \"Number of Beds\", y = \"Length of Stay (days)\")`\n",
    "  \n",
    "Output:\n",
    "\n",
    "<img src='https://www.dropbox.com/s/n2o7tgqhoblnejt/ggplot.png?dl=1' width=\"600\" align=left>"
   ]
  },
  {
   "cell_type": "markdown",
   "metadata": {},
   "source": [
    "#### Using pandas"
   ]
  },
  {
   "cell_type": "code",
   "execution_count": 42,
   "metadata": {},
   "outputs": [],
   "source": [
    "ax = senic.plot.scatter('num_beds', 'length_stay')"
   ]
  },
  {
   "cell_type": "markdown",
   "metadata": {},
   "source": [
    "#### Using matplotlib"
   ]
  },
  {
   "cell_type": "code",
   "execution_count": 43,
   "metadata": {},
   "outputs": [
    {
     "data": {
      "image/png": "[encoded data removed]",
      "text/plain": [
       "<Figure size 432x288 with 1 Axes>"
      ]
     },
     "metadata": {
      "needs_background": "light"
     },
     "output_type": "display_data"
    }
   ],
   "source": [
    "import matplotlib.pyplot as plt\n",
    "\n",
    "plt.scatter(senic['num_beds'], senic['length_stay'])\n",
    "plt.show()"
   ]
  },
  {
   "cell_type": "markdown",
   "metadata": {},
   "source": [
    "Add axis labels."
   ]
  },
  {
   "cell_type": "code",
   "execution_count": null,
   "metadata": {},
   "outputs": [],
   "source": [
    "plt.scatter(senic['num_beds'], senic['length_stay'])\n",
    "\n",
    "plt.xlabel('Number of Beds')\n",
    "plt.ylabel('Length of  Stay')\n",
    "plt.show()"
   ]
  },
  {
   "cell_type": "markdown",
   "metadata": {},
   "source": [
    "Increase plot size."
   ]
  },
  {
   "cell_type": "code",
   "execution_count": null,
   "metadata": {},
   "outputs": [],
   "source": [
    "plt.figure(figsize=(12, 9))\n",
    "\n",
    "plt.scatter(senic['num_beds'], senic['length_stay'])\n",
    "\n",
    "plt.xlabel('Number of Beds', fontsize=14)\n",
    "plt.ylabel('Length of  Stay', fontsize=14)\n",
    "plt.show()"
   ]
  },
  {
   "cell_type": "markdown",
   "metadata": {},
   "source": [
    "Modify point aesthetics."
   ]
  },
  {
   "cell_type": "code",
   "execution_count": null,
   "metadata": {},
   "outputs": [],
   "source": [
    "plt.figure(figsize=(12, 9))\n",
    "\n",
    "plt.scatter(senic['num_beds'], senic['length_stay'], \n",
    "            s=100, c='darkorange', alpha=.5)\n",
    "\n",
    "plt.xlabel('Number of Beds', fontsize=14)\n",
    "plt.ylabel('Length of  Stay', fontsize=14)\n",
    "\n",
    "\n",
    "plt.show()"
   ]
  },
  {
   "cell_type": "markdown",
   "metadata": {},
   "source": [
    "#### Using seaborn"
   ]
  },
  {
   "cell_type": "code",
   "execution_count": null,
   "metadata": {},
   "outputs": [],
   "source": [
    "import seaborn as sns\n",
    "\n",
    "sns.set(style='white')\n",
    "\n",
    "sns.scatterplot('num_beds', 'length_stay', data=senic, \n",
    "                s=100, color='darkorange', alpha=.5)"
   ]
  },
  {
   "cell_type": "markdown",
   "metadata": {},
   "source": [
    "Increase plot size."
   ]
  },
  {
   "cell_type": "code",
   "execution_count": null,
   "metadata": {},
   "outputs": [],
   "source": [
    "plt.figure(figsize=(12, 9))\n",
    "\n",
    "sns.set(style='whitegrid')\n",
    "\n",
    "sns.scatterplot('num_beds', 'length_stay', data=senic, \n",
    "                s=100, color='darkorange', alpha=.5)"
   ]
  },
  {
   "cell_type": "markdown",
   "metadata": {},
   "source": [
    "Add axis labels."
   ]
  },
  {
   "cell_type": "code",
   "execution_count": null,
   "metadata": {},
   "outputs": [],
   "source": [
    "sns.set(style='darkgrid')\n",
    "\n",
    "plt.figure(figsize=(12, 9))\n",
    "\n",
    "plt.scatter(senic['num_beds'], senic['length_stay'], \n",
    "            s=100, c='darkorange', alpha=.5)\n",
    "\n",
    "plt.xlabel('Number of Beds', fontsize=14)\n",
    "plt.ylabel('Length of  Stay', fontsize=14)\n",
    "\n",
    "plt.show()"
   ]
  },
  {
   "cell_type": "markdown",
   "metadata": {},
   "source": [
    "Add the the confidence interval region around the regression line."
   ]
  },
  {
   "cell_type": "code",
   "execution_count": null,
   "metadata": {},
   "outputs": [],
   "source": [
    "sns.set(style='darkgrid')\n",
    "\n",
    "plt.figure(figsize=(12, 9))\n",
    "\n",
    "sns.regplot('num_beds', 'length_stay', data=senic, color='darkorange')\n",
    "\n",
    "plt.xlabel('Number of Beds', fontsize=14)\n",
    "plt.ylabel('Length of  Stay', fontsize=14)\n",
    "\n",
    "plt.show()"
   ]
  },
  {
   "cell_type": "markdown",
   "metadata": {},
   "source": [
    "Joint plot"
   ]
  },
  {
   "cell_type": "code",
   "execution_count": null,
   "metadata": {},
   "outputs": [],
   "source": [
    "sns.set(style='darkgrid')\n",
    "\n",
    "sns.jointplot('num_beds', 'length_stay', data=senic, color='darkorange', \n",
    "              kind=\"reg\", height=9, ratio=5)\n",
    "\n",
    "plt.xlabel('Number of Beds', fontsize=14)\n",
    "plt.ylabel('Length of  Stay', fontsize=14)\n",
    "\n",
    "plt.show()"
   ]
  },
  {
   "cell_type": "markdown",
   "metadata": {},
   "source": [
    "Smooth line using lowess"
   ]
  },
  {
   "cell_type": "code",
   "execution_count": null,
   "metadata": {},
   "outputs": [],
   "source": [
    "sns.set(style='darkgrid')\n",
    "\n",
    "plt.figure(figsize=(12, 9))\n",
    "\n",
    "sns.regplot('num_beds', 'length_stay', data=senic, \n",
    "            color='darkorange', lowess=True)\n",
    "\n",
    "plt.xlabel('Number of Beds', fontsize=14)\n",
    "plt.ylabel('Length of  Stay', fontsize=14)\n",
    "\n",
    "plt.show()"
   ]
  },
  {
   "cell_type": "markdown",
   "metadata": {},
   "source": [
    "If `lowess=True`, `regplot()` uses `statsmodels` to estimate a nonparametric _lowess_ model (locally weighted linear regression). Note that confidence intervals cannot currently be drawn for this kind of model.\n",
    "\n",
    "On the other hand, `ggplot()` in R uses _loess_ (locally estimated scatterplot smoothing) to draw the smooth line."
   ]
  },
  {
   "cell_type": "markdown",
   "metadata": {},
   "source": [
    "### Correlation matrix heatmap"
   ]
  },
  {
   "cell_type": "code",
   "execution_count": null,
   "metadata": {},
   "outputs": [],
   "source": [
    "corr_matrix = senic.corr()\n",
    "\n",
    "plt.figure(figsize=(12, 9))\n",
    "\n",
    "sns.heatmap(corr_matrix)"
   ]
  },
  {
   "cell_type": "markdown",
   "metadata": {},
   "source": [
    "Drop the ID and categorical columns."
   ]
  },
  {
   "cell_type": "code",
   "execution_count": null,
   "metadata": {},
   "outputs": [],
   "source": [
    "cols = [col for col in senic.columns if col not in ('hospital_ID', 'region_num')]\n",
    "\n",
    "corr_matrix = senic[cols].corr()\n",
    "\n",
    "plt.figure(figsize=(12, 9))\n",
    "\n",
    "sns.heatmap(corr_matrix)"
   ]
  },
  {
   "cell_type": "markdown",
   "metadata": {},
   "source": [
    "Change the color palette."
   ]
  },
  {
   "cell_type": "code",
   "execution_count": null,
   "metadata": {},
   "outputs": [],
   "source": [
    "cmap = sns.color_palette(\"colorblind\")\n",
    "                  \n",
    "corr_matrix = senic[cols].corr()\n",
    "\n",
    "plt.figure(figsize=(12, 9))\n",
    "\n",
    "sns.heatmap(corr_matrix, cmap=cmap)"
   ]
  },
  {
   "cell_type": "markdown",
   "metadata": {},
   "source": [
    "Note: The 'colorbling' color scheme is only for illustrative purpose here. It's not recommened for a correlation matrix heatmap, because it doesn't show the correlation spectrum (low to high contrast). "
   ]
  },
  {
   "cell_type": "markdown",
   "metadata": {},
   "source": [
    "Define a custom color palette."
   ]
  },
  {
   "cell_type": "code",
   "execution_count": null,
   "metadata": {},
   "outputs": [],
   "source": [
    "sns.palplot(sns.diverging_palette(10, 220, n=10))"
   ]
  },
  {
   "cell_type": "markdown",
   "metadata": {},
   "source": [
    "Use a custom color palette."
   ]
  },
  {
   "cell_type": "code",
   "execution_count": null,
   "metadata": {},
   "outputs": [],
   "source": [
    "cmap = sns.diverging_palette(10, 220, n=10)\n",
    "\n",
    "corr_matrix = senic[cols].corr()\n",
    "\n",
    "plt.figure(figsize=(12, 9))\n",
    "\n",
    "sns.heatmap(corr_matrix, cmap=cmap)"
   ]
  }
 ],
 "metadata": {
  "kernelspec": {
   "display_name": "Python 3",
   "language": "python",
   "name": "python3"
  },
  "language_info": {
   "codemirror_mode": {
    "name": "ipython",
    "version": 3
   },
   "file_extension": ".py",
   "mimetype": "text/x-python",
   "name": "python",
   "nbconvert_exporter": "python",
   "pygments_lexer": "ipython3",
   "version": "3.7.1"
  }
 },
 "nbformat": 4,
 "nbformat_minor": 2
}
