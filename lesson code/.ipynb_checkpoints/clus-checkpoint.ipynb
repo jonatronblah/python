{
 "cells": [
  {
   "cell_type": "markdown",
   "metadata": {},
   "source": [
    "### Import packages"
   ]
  },
  {
   "cell_type": "code",
   "execution_count": 1,
   "metadata": {},
   "outputs": [],
   "source": [
    "import pandas as pd\n",
    "from sklearn.preprocessing import StandardScaler\n",
    "import matplotlib.pyplot as plt\n",
    "import seaborn as sns\n",
    "from sklearn.decomposition import PCA\n",
    "from sklearn.cluster import KMeans\n",
    "from sklearn.metrics import silhouette_samples, silhouette_score"
   ]
  },
  {
   "cell_type": "markdown",
   "metadata": {},
   "source": [
    "### Set-up"
   ]
  },
  {
   "cell_type": "code",
   "execution_count": 2,
   "metadata": {},
   "outputs": [],
   "source": [
    "infile = 'https://www.dropbox.com/s/6grsxawwozuz661/credit_default_model_data.csv?dl=1'\n",
    "\n",
    "target = 'default payment next month'\n",
    "\n",
    "sns.set(style='darkgrid')"
   ]
  },
  {
   "cell_type": "markdown",
   "metadata": {},
   "source": [
    "### Read data"
   ]
  },
  {
   "cell_type": "code",
   "execution_count": 3,
   "metadata": {},
   "outputs": [],
   "source": [
    "df = pd.read_csv(infile)\n",
    "\n",
    "X = df[df.columns[1:]].drop(target, axis=1)\n",
    "\n",
    "del df"
   ]
  },
  {
   "cell_type": "code",
   "execution_count": 4,
   "metadata": {},
   "outputs": [
    {
     "data": {
      "text/plain": [
       "(30000, 55)"
      ]
     },
     "execution_count": 4,
     "metadata": {},
     "output_type": "execute_result"
    }
   ],
   "source": [
    "X.shape"
   ]
  },
  {
   "cell_type": "markdown",
   "metadata": {},
   "source": [
    "### Standardize"
   ]
  },
  {
   "cell_type": "code",
   "execution_count": 5,
   "metadata": {},
   "outputs": [],
   "source": [
    "X_scaler = StandardScaler()\n",
    "\n",
    "X_std = X_scaler.fit_transform(X.astype(float))"
   ]
  },
  {
   "cell_type": "markdown",
   "metadata": {},
   "source": [
    "### Principal Component Analysis (PCA)"
   ]
  },
  {
   "cell_type": "code",
   "execution_count": 6,
   "metadata": {},
   "outputs": [],
   "source": [
    "# Based on the results from one of the previous analyses, we will keep the top 30 components\n",
    "components_to_keep = 30\n",
    "\n",
    "pca = PCA(n_components=components_to_keep, random_state=314)\n",
    "\n",
    "X_pca = pca.fit_transform(X_std)"
   ]
  },
  {
   "cell_type": "markdown",
   "metadata": {},
   "source": [
    "### k-means Clustering"
   ]
  },
  {
   "cell_type": "code",
   "execution_count": 7,
   "metadata": {},
   "outputs": [
    {
     "name": "stdout",
     "output_type": "stream",
     "text": [
      "Clusters: 2 , Silhouette Score: 0.1504477349228697\n",
      "Clusters: 3 , Silhouette Score: 0.15122483758919925\n",
      "Clusters: 4 , Silhouette Score: 0.15769872582172456\n",
      "Clusters: 5 , Silhouette Score: 0.15808057559331234\n",
      "Clusters: 6 , Silhouette Score: 0.14731699956081895\n",
      "Clusters: 7 , Silhouette Score: 0.10266483811831893\n"
     ]
    }
   ],
   "source": [
    "range_n_clusters = [2, 3, 4, 5, 6, 7]\n",
    "\n",
    "for n_clus in range_n_clusters:\n",
    "    \n",
    "    # Define the k-means model\n",
    "    clusterer = KMeans(n_clusters=n_clus, random_state=314)\n",
    "    \n",
    "    # Get assigned cluster numbers for each record\n",
    "    clus_labels = clusterer.fit_predict(X_pca)\n",
    "    \n",
    "    # Overall (average) Silhouette score\n",
    "    silhouette_avg = silhouette_score(X_pca, clus_labels)\n",
    "    \n",
    "    print('Clusters:', n_clus, ', Silhouette Score:', silhouette_avg)"
   ]
  },
  {
   "cell_type": "code",
   "execution_count": null,
   "metadata": {},
   "outputs": [],
   "source": [
    "def perform_clus(components_to_keep_all, range_n_clusters_all):\n",
    "    \n",
    "    for components_to_keep in components_to_keep_all:\n",
    "\n",
    "        pca = PCA(n_components=components_to_keep, random_state=314)\n",
    "\n",
    "        X_pca = pca.fit_transform(X_std)\n",
    "\n",
    "        for n_clus in range_n_clusters_all:\n",
    "\n",
    "            # Define the k-means model\n",
    "            clusterer = KMeans(n_clusters=n_clus, random_state=314)\n",
    "\n",
    "            # Get assigned cluster numbers for each record\n",
    "            clus_labels = clusterer.fit_predict(X_pca)\n",
    "\n",
    "            # Overall (average) Silhouette score\n",
    "            silhouette_avg = silhouette_score(X_pca, clus_labels)\n",
    "\n",
    "            print('Components:', components_to_keep, ', Clusters:', n_clus, ', Silhouette Score:', silhouette_avg)\n",
    "\n",
    "    \n",
    "perform_clus([10, 20], [2, 3, 4, 5])"
   ]
  },
  {
   "cell_type": "code",
   "execution_count": null,
   "metadata": {},
   "outputs": [],
   "source": [
    "def perform_clus(components_to_keep_all, range_n_clusters_all):\n",
    "    \n",
    "    for components_to_keep in components_to_keep_all:\n",
    "\n",
    "        pca = PCA(n_components=components_to_keep, random_state=314)\n",
    "\n",
    "        X_pca = pca.fit_transform(X_std)\n",
    "\n",
    "        for n_clus in range_n_clusters_all:\n",
    "\n",
    "            # Define the k-means model\n",
    "            clusterer = KMeans(n_clusters=n_clus, random_state=314)\n",
    "\n",
    "            # Get assigned cluster numbers for each record\n",
    "            clus_labels = clusterer.fit_predict(X_pca)\n",
    "\n",
    "            # Overall (average) Silhouette score\n",
    "            silhouette_avg = silhouette_score(X_pca, clus_labels)\n",
    "\n",
    "            print('Components:', components_to_keep, ', Clusters:', n_clus, ', Silhouette Score:', silhouette_avg)\n",
    "\n",
    "    \n",
    "perform_clus([5, 10], [2, 3, 4, 5])"
   ]
  },
  {
   "cell_type": "code",
   "execution_count": null,
   "metadata": {},
   "outputs": [],
   "source": [
    "def perform_clus(components_to_keep_all, range_n_clusters_all):\n",
    "    \n",
    "    for components_to_keep in components_to_keep_all:\n",
    "\n",
    "        pca = PCA(n_components=components_to_keep, random_state=314)\n",
    "\n",
    "        X_pca = pca.fit_transform(X_std)\n",
    "\n",
    "        for n_clus in range_n_clusters_all:\n",
    "\n",
    "            # Define the k-means model\n",
    "            clusterer = KMeans(n_clusters=n_clus, random_state=314)\n",
    "\n",
    "            # Get assigned cluster numbers for each record\n",
    "            clus_labels = clusterer.fit_predict(X_pca)\n",
    "\n",
    "            # Overall (average) Silhouette score\n",
    "            silhouette_avg = silhouette_score(X_pca, clus_labels)\n",
    "\n",
    "            print('Components:', components_to_keep, ', Clusters:', n_clus, ', Silhouette Score:', silhouette_avg)\n",
    "\n",
    "    \n",
    "perform_clus([2, 3], [2, 3, 4, 5])"
   ]
  },
  {
   "cell_type": "markdown",
   "metadata": {},
   "source": [
    "Let's pick 2 principal components and 3 clusters."
   ]
  },
  {
   "cell_type": "code",
   "execution_count": null,
   "metadata": {},
   "outputs": [],
   "source": [
    "components_to_keep = 2\n",
    "n_clus = 3\n",
    "\n",
    "pca = PCA(n_components=components_to_keep, random_state=314)\n",
    "\n",
    "X_pca = pca.fit_transform(X_std)\n",
    "\n",
    "# Define the k-means model\n",
    "clusterer = KMeans(n_clusters=n_clus, random_state=314)\n",
    "\n",
    "# Get assigned cluster numbers for each record\n",
    "clus_labels = clusterer.fit_predict(X_pca)\n",
    "\n",
    "# Overall (average) Silhouette score\n",
    "silhouette_avg = silhouette_score(X_pca, clus_labels)\n",
    "\n",
    "print(silhouette_avg)"
   ]
  },
  {
   "cell_type": "code",
   "execution_count": null,
   "metadata": {},
   "outputs": [],
   "source": [
    "X['cluster'] = clus_labels\n",
    "\n",
    "X.head()"
   ]
  },
  {
   "cell_type": "code",
   "execution_count": null,
   "metadata": {},
   "outputs": [],
   "source": [
    "X.cluster.value_counts()"
   ]
  },
  {
   "cell_type": "code",
   "execution_count": null,
   "metadata": {},
   "outputs": [],
   "source": [
    "X.cluster.value_counts() / len(X)"
   ]
  },
  {
   "cell_type": "code",
   "execution_count": null,
   "metadata": {},
   "outputs": [],
   "source": [
    "X_core = X.iloc[:, :-1][X['cluster'] != 1]\n",
    "\n",
    "X_core.columns"
   ]
  },
  {
   "cell_type": "code",
   "execution_count": null,
   "metadata": {},
   "outputs": [],
   "source": [
    "def perform_clus(indf, components_to_keep_all, range_n_clusters_all):\n",
    "    \n",
    "    X_std = X_scaler.fit_transform(indf.astype(float))\n",
    "    \n",
    "    for components_to_keep in components_to_keep_all:\n",
    "\n",
    "        pca = PCA(n_components=components_to_keep, random_state=314)\n",
    "\n",
    "        X_pca = pca.fit_transform(X_std)\n",
    "\n",
    "        for n_clus in range_n_clusters_all:\n",
    "\n",
    "            # Define the k-means model\n",
    "            clusterer = KMeans(n_clusters=n_clus, random_state=314)\n",
    "\n",
    "            # Get assigned cluster numbers for each record\n",
    "            clus_labels = clusterer.fit_predict(X_pca)\n",
    "\n",
    "            # Overall (average) Silhouette score\n",
    "            silhouette_avg = silhouette_score(X_pca, clus_labels)\n",
    "\n",
    "            print('Components:', components_to_keep, ', Clusters:', n_clus, ', Silhouette Score:', silhouette_avg)\n",
    "\n",
    "    \n",
    "perform_clus(X_core, [2, 3], [2, 3, 4, 5])"
   ]
  },
  {
   "cell_type": "markdown",
   "metadata": {},
   "source": [
    "Let's pick 2 principal components and 3 clusters."
   ]
  },
  {
   "cell_type": "code",
   "execution_count": null,
   "metadata": {},
   "outputs": [],
   "source": [
    "components_to_keep = 2\n",
    "n_clus = 3\n",
    "\n",
    "pca = PCA(n_components=components_to_keep, random_state=314)\n",
    "\n",
    "X_std = X_scaler.fit_transform(X_core.astype(float))\n",
    "\n",
    "X_pca = pca.fit_transform(X_std)\n",
    "\n",
    "# Define the k-means model\n",
    "clusterer = KMeans(n_clusters=n_clus, random_state=314)\n",
    "\n",
    "# Get assigned cluster numbers for each record\n",
    "clus_labels = clusterer.fit_predict(X_pca)\n",
    "\n",
    "# Overall (average) Silhouette score\n",
    "silhouette_avg = silhouette_score(X_pca, clus_labels)\n",
    "\n",
    "print(silhouette_avg)\n",
    "\n",
    "X_core['cluster'] = clus_labels\n",
    "\n",
    "X_core.cluster.value_counts() / len(X_core)"
   ]
  },
  {
   "cell_type": "markdown",
   "metadata": {},
   "source": [
    "Let's bring the two dataframes together."
   ]
  },
  {
   "cell_type": "code",
   "execution_count": null,
   "metadata": {},
   "outputs": [],
   "source": [
    "X_outlier = X[X['cluster'] == 1]\n",
    "\n",
    "X_outlier['cluster'] = -1\n",
    "\n",
    "X_final = X_core.append(X_outlier)\n",
    "\n",
    "X_final.cluster.value_counts(sort=False) / len(X_final)"
   ]
  },
  {
   "cell_type": "markdown",
   "metadata": {},
   "source": [
    "### Cluster Profiles"
   ]
  },
  {
   "cell_type": "code",
   "execution_count": null,
   "metadata": {},
   "outputs": [],
   "source": [
    "X_final.groupby('cluster').mean()"
   ]
  }
 ],
 "metadata": {
  "kernelspec": {
   "display_name": "Python 3",
   "language": "python",
   "name": "python3"
  },
  "language_info": {
   "codemirror_mode": {
    "name": "ipython",
    "version": 3
   },
   "file_extension": ".py",
   "mimetype": "text/x-python",
   "name": "python",
   "nbconvert_exporter": "python",
   "pygments_lexer": "ipython3",
   "version": "3.7.1"
  }
 },
 "nbformat": 4,
 "nbformat_minor": 2
}
