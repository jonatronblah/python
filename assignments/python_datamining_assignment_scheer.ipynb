{
 "cells": [
  {
   "cell_type": "code",
   "execution_count": 1,
   "metadata": {},
   "outputs": [],
   "source": [
    "import pandas as pd\n",
    "import numpy as np\n",
    "import matplotlib.pyplot as plt\n",
    "import seaborn as sns\n",
    "from datetime import date\n",
    "from sklearn.model_selection import train_test_split\n",
    "from sklearn.linear_model import LogisticRegression\n",
    "from sklearn.ensemble import RandomForestClassifier\n",
    "from sklearn.metrics import accuracy_score, roc_auc_score, confusion_matrix, precision_score, recall_score, roc_curve, auc\n",
    "\n",
    "%matplotlib inline"
   ]
  },
  {
   "cell_type": "code",
   "execution_count": 2,
   "metadata": {},
   "outputs": [],
   "source": [
    "# Full path of the 'orders' dataset\n",
    "orders_file = 'https://www.dropbox.com/s/ej64qorm1uvmjlp/olist_orders_dataset.csv?dl=1'\n",
    "\n",
    "# Full path of the 'customer' dataset\n",
    "cust_file = 'https://www.dropbox.com/s/t082qlggu4wxiq5/olist_customers_dataset.csv?dl=1'\n",
    "\n",
    "# File output location\n",
    "out = r\"C:\\Users\\scheerja\\Downloads\""
   ]
  },
  {
   "cell_type": "code",
   "execution_count": 3,
   "metadata": {},
   "outputs": [
    {
     "name": "stdout",
     "output_type": "stream",
     "text": [
      "99,441 read from the orders file.\n",
      "99,441 read from the customer file.\n",
      "99,441 records in the output  file.\n"
     ]
    },
    {
     "data": {
      "text/html": [
       "<div>\n",
       "<style scoped>\n",
       "    .dataframe tbody tr th:only-of-type {\n",
       "        vertical-align: middle;\n",
       "    }\n",
       "\n",
       "    .dataframe tbody tr th {\n",
       "        vertical-align: top;\n",
       "    }\n",
       "\n",
       "    .dataframe thead th {\n",
       "        text-align: right;\n",
       "    }\n",
       "</style>\n",
       "<table border=\"1\" class=\"dataframe\">\n",
       "  <thead>\n",
       "    <tr style=\"text-align: right;\">\n",
       "      <th></th>\n",
       "      <th>order_id</th>\n",
       "      <th>customer_id</th>\n",
       "      <th>order_status</th>\n",
       "      <th>order_purchase_timestamp</th>\n",
       "      <th>order_approved_at</th>\n",
       "      <th>order_delivered_customer_date</th>\n",
       "      <th>order_estimated_delivery_date</th>\n",
       "      <th>order_purchase_date</th>\n",
       "      <th>order_month</th>\n",
       "      <th>customer_unique_id</th>\n",
       "      <th>customer_city</th>\n",
       "      <th>customer_state</th>\n",
       "    </tr>\n",
       "  </thead>\n",
       "  <tbody>\n",
       "    <tr>\n",
       "      <th>0</th>\n",
       "      <td>e481f51cbdc54678b7cc49136f2d6af7</td>\n",
       "      <td>9ef432eb6251297304e76186b10a928d</td>\n",
       "      <td>delivered</td>\n",
       "      <td>2017-10-02 10:56:33</td>\n",
       "      <td>2017-10-02 11:07:15</td>\n",
       "      <td>2017-10-10 21:25:13</td>\n",
       "      <td>2017-10-18</td>\n",
       "      <td>2017-10-02</td>\n",
       "      <td>10</td>\n",
       "      <td>7c396fd4830fd04220f754e42b4e5bff</td>\n",
       "      <td>sao paulo</td>\n",
       "      <td>SP</td>\n",
       "    </tr>\n",
       "    <tr>\n",
       "      <th>1</th>\n",
       "      <td>53cdb2fc8bc7dce0b6741e2150273451</td>\n",
       "      <td>b0830fb4747a6c6d20dea0b8c802d7ef</td>\n",
       "      <td>delivered</td>\n",
       "      <td>2018-07-24 20:41:37</td>\n",
       "      <td>2018-07-26 03:24:27</td>\n",
       "      <td>2018-08-07 15:27:45</td>\n",
       "      <td>2018-08-13</td>\n",
       "      <td>2018-07-24</td>\n",
       "      <td>7</td>\n",
       "      <td>af07308b275d755c9edb36a90c618231</td>\n",
       "      <td>barreiras</td>\n",
       "      <td>BA</td>\n",
       "    </tr>\n",
       "    <tr>\n",
       "      <th>2</th>\n",
       "      <td>47770eb9100c2d0c44946d9cf07ec65d</td>\n",
       "      <td>41ce2a54c0b03bf3443c3d931a367089</td>\n",
       "      <td>delivered</td>\n",
       "      <td>2018-08-08 08:38:49</td>\n",
       "      <td>2018-08-08 08:55:23</td>\n",
       "      <td>2018-08-17 18:06:29</td>\n",
       "      <td>2018-09-04</td>\n",
       "      <td>2018-08-08</td>\n",
       "      <td>8</td>\n",
       "      <td>3a653a41f6f9fc3d2a113cf8398680e8</td>\n",
       "      <td>vianopolis</td>\n",
       "      <td>GO</td>\n",
       "    </tr>\n",
       "    <tr>\n",
       "      <th>3</th>\n",
       "      <td>949d5b44dbf5de918fe9c16f97b45f8a</td>\n",
       "      <td>f88197465ea7920adcdbec7375364d82</td>\n",
       "      <td>delivered</td>\n",
       "      <td>2017-11-18 19:28:06</td>\n",
       "      <td>2017-11-18 19:45:59</td>\n",
       "      <td>2017-12-02 00:28:42</td>\n",
       "      <td>2017-12-15</td>\n",
       "      <td>2017-11-18</td>\n",
       "      <td>11</td>\n",
       "      <td>7c142cf63193a1473d2e66489a9ae977</td>\n",
       "      <td>sao goncalo do amarante</td>\n",
       "      <td>RN</td>\n",
       "    </tr>\n",
       "    <tr>\n",
       "      <th>4</th>\n",
       "      <td>ad21c59c0840e6cb83a9ceb5573f8159</td>\n",
       "      <td>8ab97904e6daea8866dbdbc4fb7aad2c</td>\n",
       "      <td>delivered</td>\n",
       "      <td>2018-02-13 21:18:39</td>\n",
       "      <td>2018-02-13 22:20:29</td>\n",
       "      <td>2018-02-16 18:17:02</td>\n",
       "      <td>2018-02-26</td>\n",
       "      <td>2018-02-13</td>\n",
       "      <td>2</td>\n",
       "      <td>72632f0f9dd73dfee390c9b22eb56dd6</td>\n",
       "      <td>santo andre</td>\n",
       "      <td>SP</td>\n",
       "    </tr>\n",
       "  </tbody>\n",
       "</table>\n",
       "</div>"
      ],
      "text/plain": [
       "                           order_id                       customer_id  \\\n",
       "0  e481f51cbdc54678b7cc49136f2d6af7  9ef432eb6251297304e76186b10a928d   \n",
       "1  53cdb2fc8bc7dce0b6741e2150273451  b0830fb4747a6c6d20dea0b8c802d7ef   \n",
       "2  47770eb9100c2d0c44946d9cf07ec65d  41ce2a54c0b03bf3443c3d931a367089   \n",
       "3  949d5b44dbf5de918fe9c16f97b45f8a  f88197465ea7920adcdbec7375364d82   \n",
       "4  ad21c59c0840e6cb83a9ceb5573f8159  8ab97904e6daea8866dbdbc4fb7aad2c   \n",
       "\n",
       "  order_status order_purchase_timestamp   order_approved_at  \\\n",
       "0    delivered      2017-10-02 10:56:33 2017-10-02 11:07:15   \n",
       "1    delivered      2018-07-24 20:41:37 2018-07-26 03:24:27   \n",
       "2    delivered      2018-08-08 08:38:49 2018-08-08 08:55:23   \n",
       "3    delivered      2017-11-18 19:28:06 2017-11-18 19:45:59   \n",
       "4    delivered      2018-02-13 21:18:39 2018-02-13 22:20:29   \n",
       "\n",
       "  order_delivered_customer_date order_estimated_delivery_date  \\\n",
       "0           2017-10-10 21:25:13                    2017-10-18   \n",
       "1           2018-08-07 15:27:45                    2018-08-13   \n",
       "2           2018-08-17 18:06:29                    2018-09-04   \n",
       "3           2017-12-02 00:28:42                    2017-12-15   \n",
       "4           2018-02-16 18:17:02                    2018-02-26   \n",
       "\n",
       "  order_purchase_date  order_month                customer_unique_id  \\\n",
       "0          2017-10-02           10  7c396fd4830fd04220f754e42b4e5bff   \n",
       "1          2018-07-24            7  af07308b275d755c9edb36a90c618231   \n",
       "2          2018-08-08            8  3a653a41f6f9fc3d2a113cf8398680e8   \n",
       "3          2017-11-18           11  7c142cf63193a1473d2e66489a9ae977   \n",
       "4          2018-02-13            2  72632f0f9dd73dfee390c9b22eb56dd6   \n",
       "\n",
       "             customer_city customer_state  \n",
       "0                sao paulo             SP  \n",
       "1                barreiras             BA  \n",
       "2               vianopolis             GO  \n",
       "3  sao goncalo do amarante             RN  \n",
       "4              santo andre             SP  "
      ]
     },
     "execution_count": 3,
     "metadata": {},
     "output_type": "execute_result"
    }
   ],
   "source": [
    "#read into dataframes\n",
    "def read_olist_data(file1, file2):\n",
    "    \n",
    "    # Read the orders data\n",
    "    orders = pd.read_csv(file1)\n",
    "\n",
    "    print (f'{len(orders):,d} read from the orders file.')\n",
    "\n",
    "    # Drop unnecessary columns\n",
    "    drop_vars = ['order_delivered_carrier_date']\n",
    "\n",
    "    orders = orders.drop(drop_vars, axis=1)\n",
    "\n",
    "    # Date-time conversion\n",
    "    orders['order_purchase_timestamp'] = pd.to_datetime(orders['order_purchase_timestamp'])\n",
    "    orders['order_delivered_customer_date'] = pd.to_datetime(orders['order_delivered_customer_date'])\n",
    "    orders['order_estimated_delivery_date'] = pd.to_datetime(orders['order_estimated_delivery_date'])\n",
    "    orders['order_approved_at'] = pd.to_datetime(orders['order_approved_at'])\n",
    "\n",
    "    # Let's convert the order purchase timestamps into dates\n",
    "    orders['order_purchase_date'] = orders['order_purchase_timestamp'].dt.date\n",
    "\n",
    "    # Extract month from the order date\n",
    "    orders['order_month'] = orders['order_purchase_timestamp'].dt.month\n",
    "\n",
    "    # Read the file that contains the unique customer identifier\n",
    "    cust = pd.read_csv(file2)\n",
    "\n",
    "    print (f'{len(cust):,d} read from the customer file.')\n",
    "\n",
    "    # Let's keep only the following two columns: customer_id, customer_unique_id\n",
    "    cust = cust[['customer_id', 'customer_unique_id', 'customer_city', 'customer_state']]\n",
    "\n",
    "    # Merge orders and cust dataframes\n",
    "    orders = pd.merge(orders, cust, on='customer_id', how='inner')\n",
    "    \n",
    "    print (f'{len(orders):,d} records in the output  file.')\n",
    "    \n",
    "    return orders\n",
    "\n",
    "orders = read_olist_data(orders_file, cust_file)\n",
    "\n",
    "orders.head()"
   ]
  },
  {
   "cell_type": "code",
   "execution_count": 4,
   "metadata": {},
   "outputs": [
    {
     "name": "stdout",
     "output_type": "stream",
     "text": [
      "99441\n"
     ]
    },
    {
     "data": {
      "text/plain": [
       "(99441, 59427)"
      ]
     },
     "execution_count": 4,
     "metadata": {},
     "output_type": "execute_result"
    }
   ],
   "source": [
    "#subset data prior to prediction window\n",
    "print (len(orders))\n",
    "\n",
    "# Select data prior to the prediction window\n",
    "snapshot_date = date(2018, 2, 28)\n",
    "\n",
    "attr_raw = orders[orders['order_purchase_timestamp'].dt.date <= snapshot_date]\n",
    "\n",
    "len(orders), len(attr_raw)"
   ]
  },
  {
   "cell_type": "code",
   "execution_count": 5,
   "metadata": {},
   "outputs": [
    {
     "data": {
      "text/html": [
       "<div>\n",
       "<style scoped>\n",
       "    .dataframe tbody tr th:only-of-type {\n",
       "        vertical-align: middle;\n",
       "    }\n",
       "\n",
       "    .dataframe tbody tr th {\n",
       "        vertical-align: top;\n",
       "    }\n",
       "\n",
       "    .dataframe thead th {\n",
       "        text-align: right;\n",
       "    }\n",
       "</style>\n",
       "<table border=\"1\" class=\"dataframe\">\n",
       "  <thead>\n",
       "    <tr style=\"text-align: right;\">\n",
       "      <th></th>\n",
       "      <th>customer_unique_id</th>\n",
       "      <th>order_recency</th>\n",
       "      <th>total_orders</th>\n",
       "    </tr>\n",
       "  </thead>\n",
       "  <tbody>\n",
       "    <tr>\n",
       "      <th>0</th>\n",
       "      <td>0000f46a3911fa3c0805444483337064</td>\n",
       "      <td>508</td>\n",
       "      <td>1</td>\n",
       "    </tr>\n",
       "    <tr>\n",
       "      <th>1</th>\n",
       "      <td>0000f6ccb0745a6a4b88665a16c9f078</td>\n",
       "      <td>292</td>\n",
       "      <td>1</td>\n",
       "    </tr>\n",
       "    <tr>\n",
       "      <th>2</th>\n",
       "      <td>0004aac84e0df4da2b147fca70cf8255</td>\n",
       "      <td>259</td>\n",
       "      <td>1</td>\n",
       "    </tr>\n",
       "    <tr>\n",
       "      <th>3</th>\n",
       "      <td>00053a61a98854899e70ed204dd4bafe</td>\n",
       "      <td>153</td>\n",
       "      <td>1</td>\n",
       "    </tr>\n",
       "    <tr>\n",
       "      <th>4</th>\n",
       "      <td>0005e1862207bf6ccc02e4228effd9a0</td>\n",
       "      <td>514</td>\n",
       "      <td>1</td>\n",
       "    </tr>\n",
       "  </tbody>\n",
       "</table>\n",
       "</div>"
      ],
      "text/plain": [
       "                 customer_unique_id  order_recency  total_orders\n",
       "0  0000f46a3911fa3c0805444483337064            508             1\n",
       "1  0000f6ccb0745a6a4b88665a16c9f078            292             1\n",
       "2  0004aac84e0df4da2b147fca70cf8255            259             1\n",
       "3  00053a61a98854899e70ed204dd4bafe            153             1\n",
       "4  0005e1862207bf6ccc02e4228effd9a0            514             1"
      ]
     },
     "execution_count": 5,
     "metadata": {},
     "output_type": "execute_result"
    }
   ],
   "source": [
    "#create customer recency feature\n",
    "cust_recency = attr_raw.groupby('customer_unique_id')['order_purchase_timestamp'].max().reset_index()\n",
    "\n",
    "snapshot_date = date(2018, 7, 31)\n",
    "\n",
    "delta = snapshot_date - cust_recency.order_purchase_timestamp.dt.date\n",
    "\n",
    "cust_recency['order_recency'] = delta.dt.days\n",
    "cust_recency = cust_recency.drop('order_purchase_timestamp', axis=1)\n",
    "\n",
    "#create total orders feature\n",
    "cust_orders = orders.groupby('customer_unique_id').size().reset_index()\n",
    "\n",
    "cust_orders = cust_orders.rename(columns={0: 'total_orders'})\n",
    "\n",
    "#merge total orders and recency\n",
    "attr = pd.merge(cust_recency, cust_orders, on='customer_unique_id', how='left')\n",
    "attr.head()\n",
    "\n"
   ]
  },
  {
   "cell_type": "code",
   "execution_count": 6,
   "metadata": {},
   "outputs": [
    {
     "name": "stderr",
     "output_type": "stream",
     "text": [
      "C:\\ProgramData\\Anaconda3\\lib\\site-packages\\ipykernel_launcher.py:2: SettingWithCopyWarning: \n",
      "A value is trying to be set on a copy of a slice from a DataFrame.\n",
      "Try using .loc[row_indexer,col_indexer] = value instead\n",
      "\n",
      "See the caveats in the documentation: http://pandas.pydata.org/pandas-docs/stable/indexing.html#indexing-view-versus-copy\n",
      "  \n",
      "C:\\ProgramData\\Anaconda3\\lib\\site-packages\\ipykernel_launcher.py:3: SettingWithCopyWarning: \n",
      "A value is trying to be set on a copy of a slice from a DataFrame.\n",
      "Try using .loc[row_indexer,col_indexer] = value instead\n",
      "\n",
      "See the caveats in the documentation: http://pandas.pydata.org/pandas-docs/stable/indexing.html#indexing-view-versus-copy\n",
      "  This is separate from the ipykernel package so we can avoid doing imports until\n"
     ]
    },
    {
     "data": {
      "text/html": [
       "<div>\n",
       "<style scoped>\n",
       "    .dataframe tbody tr th:only-of-type {\n",
       "        vertical-align: middle;\n",
       "    }\n",
       "\n",
       "    .dataframe tbody tr th {\n",
       "        vertical-align: top;\n",
       "    }\n",
       "\n",
       "    .dataframe thead th {\n",
       "        text-align: right;\n",
       "    }\n",
       "</style>\n",
       "<table border=\"1\" class=\"dataframe\">\n",
       "  <thead>\n",
       "    <tr style=\"text-align: right;\">\n",
       "      <th></th>\n",
       "      <th>customer_unique_id</th>\n",
       "      <th>order_recency</th>\n",
       "      <th>total_orders</th>\n",
       "      <th>avg_delivery_delta_days</th>\n",
       "    </tr>\n",
       "  </thead>\n",
       "  <tbody>\n",
       "    <tr>\n",
       "      <th>0</th>\n",
       "      <td>0000f46a3911fa3c0805444483337064</td>\n",
       "      <td>508</td>\n",
       "      <td>1</td>\n",
       "      <td>2.0</td>\n",
       "    </tr>\n",
       "    <tr>\n",
       "      <th>1</th>\n",
       "      <td>0000f6ccb0745a6a4b88665a16c9f078</td>\n",
       "      <td>292</td>\n",
       "      <td>1</td>\n",
       "      <td>12.0</td>\n",
       "    </tr>\n",
       "    <tr>\n",
       "      <th>2</th>\n",
       "      <td>0004aac84e0df4da2b147fca70cf8255</td>\n",
       "      <td>259</td>\n",
       "      <td>1</td>\n",
       "      <td>8.0</td>\n",
       "    </tr>\n",
       "    <tr>\n",
       "      <th>3</th>\n",
       "      <td>00053a61a98854899e70ed204dd4bafe</td>\n",
       "      <td>153</td>\n",
       "      <td>1</td>\n",
       "      <td>10.0</td>\n",
       "    </tr>\n",
       "    <tr>\n",
       "      <th>4</th>\n",
       "      <td>0005e1862207bf6ccc02e4228effd9a0</td>\n",
       "      <td>514</td>\n",
       "      <td>1</td>\n",
       "      <td>28.0</td>\n",
       "    </tr>\n",
       "  </tbody>\n",
       "</table>\n",
       "</div>"
      ],
      "text/plain": [
       "                 customer_unique_id  order_recency  total_orders  \\\n",
       "0  0000f46a3911fa3c0805444483337064            508             1   \n",
       "1  0000f6ccb0745a6a4b88665a16c9f078            292             1   \n",
       "2  0004aac84e0df4da2b147fca70cf8255            259             1   \n",
       "3  00053a61a98854899e70ed204dd4bafe            153             1   \n",
       "4  0005e1862207bf6ccc02e4228effd9a0            514             1   \n",
       "\n",
       "   avg_delivery_delta_days  \n",
       "0                      2.0  \n",
       "1                     12.0  \n",
       "2                      8.0  \n",
       "3                     10.0  \n",
       "4                     28.0  "
      ]
     },
     "execution_count": 6,
     "metadata": {},
     "output_type": "execute_result"
    }
   ],
   "source": [
    "#create average delivery delta feature - time difference between estimated and actual delivery date\n",
    "attr_raw['avg_delivery_delta'] = attr_raw.order_estimated_delivery_date.dt.date - attr_raw.order_delivered_customer_date.dt.date\n",
    "attr_raw['avg_delivery_delta_days'] = attr_raw['avg_delivery_delta'].dt.days\n",
    "cust_delivery = attr_raw.groupby('customer_unique_id')['avg_delivery_delta_days'].mean().reset_index()\n",
    "#merge\n",
    "attr1 = pd.merge(attr, cust_delivery, on='customer_unique_id', how='left')\n",
    "attr1.head()\n",
    "\n",
    "\n"
   ]
  },
  {
   "cell_type": "code",
   "execution_count": 7,
   "metadata": {},
   "outputs": [
    {
     "name": "stderr",
     "output_type": "stream",
     "text": [
      "C:\\ProgramData\\Anaconda3\\lib\\site-packages\\ipykernel_launcher.py:3: SettingWithCopyWarning: \n",
      "A value is trying to be set on a copy of a slice from a DataFrame.\n",
      "Try using .loc[row_indexer,col_indexer] = value instead\n",
      "\n",
      "See the caveats in the documentation: http://pandas.pydata.org/pandas-docs/stable/indexing.html#indexing-view-versus-copy\n",
      "  This is separate from the ipykernel package so we can avoid doing imports until\n",
      "C:\\ProgramData\\Anaconda3\\lib\\site-packages\\ipykernel_launcher.py:4: SettingWithCopyWarning: \n",
      "A value is trying to be set on a copy of a slice from a DataFrame.\n",
      "Try using .loc[row_indexer,col_indexer] = value instead\n",
      "\n",
      "See the caveats in the documentation: http://pandas.pydata.org/pandas-docs/stable/indexing.html#indexing-view-versus-copy\n",
      "  after removing the cwd from sys.path.\n"
     ]
    },
    {
     "data": {
      "text/html": [
       "<div>\n",
       "<style scoped>\n",
       "    .dataframe tbody tr th:only-of-type {\n",
       "        vertical-align: middle;\n",
       "    }\n",
       "\n",
       "    .dataframe tbody tr th {\n",
       "        vertical-align: top;\n",
       "    }\n",
       "\n",
       "    .dataframe thead th {\n",
       "        text-align: right;\n",
       "    }\n",
       "</style>\n",
       "<table border=\"1\" class=\"dataframe\">\n",
       "  <thead>\n",
       "    <tr style=\"text-align: right;\">\n",
       "      <th></th>\n",
       "      <th>customer_unique_id</th>\n",
       "      <th>order_recency</th>\n",
       "      <th>total_orders</th>\n",
       "      <th>avg_delivery_delta_days</th>\n",
       "      <th>avg_order_to_approval_time</th>\n",
       "    </tr>\n",
       "  </thead>\n",
       "  <tbody>\n",
       "    <tr>\n",
       "      <th>0</th>\n",
       "      <td>0000f46a3911fa3c0805444483337064</td>\n",
       "      <td>508</td>\n",
       "      <td>1</td>\n",
       "      <td>2.0</td>\n",
       "      <td>0.0</td>\n",
       "    </tr>\n",
       "    <tr>\n",
       "      <th>1</th>\n",
       "      <td>0000f6ccb0745a6a4b88665a16c9f078</td>\n",
       "      <td>292</td>\n",
       "      <td>1</td>\n",
       "      <td>12.0</td>\n",
       "      <td>0.0</td>\n",
       "    </tr>\n",
       "    <tr>\n",
       "      <th>2</th>\n",
       "      <td>0004aac84e0df4da2b147fca70cf8255</td>\n",
       "      <td>259</td>\n",
       "      <td>1</td>\n",
       "      <td>8.0</td>\n",
       "      <td>0.0</td>\n",
       "    </tr>\n",
       "    <tr>\n",
       "      <th>3</th>\n",
       "      <td>00053a61a98854899e70ed204dd4bafe</td>\n",
       "      <td>153</td>\n",
       "      <td>1</td>\n",
       "      <td>10.0</td>\n",
       "      <td>0.0</td>\n",
       "    </tr>\n",
       "    <tr>\n",
       "      <th>4</th>\n",
       "      <td>0005e1862207bf6ccc02e4228effd9a0</td>\n",
       "      <td>514</td>\n",
       "      <td>1</td>\n",
       "      <td>28.0</td>\n",
       "      <td>0.0</td>\n",
       "    </tr>\n",
       "  </tbody>\n",
       "</table>\n",
       "</div>"
      ],
      "text/plain": [
       "                 customer_unique_id  order_recency  total_orders  \\\n",
       "0  0000f46a3911fa3c0805444483337064            508             1   \n",
       "1  0000f6ccb0745a6a4b88665a16c9f078            292             1   \n",
       "2  0004aac84e0df4da2b147fca70cf8255            259             1   \n",
       "3  00053a61a98854899e70ed204dd4bafe            153             1   \n",
       "4  0005e1862207bf6ccc02e4228effd9a0            514             1   \n",
       "\n",
       "   avg_delivery_delta_days  avg_order_to_approval_time  \n",
       "0                      2.0                         0.0  \n",
       "1                     12.0                         0.0  \n",
       "2                      8.0                         0.0  \n",
       "3                     10.0                         0.0  \n",
       "4                     28.0                         0.0  "
      ]
     },
     "execution_count": 7,
     "metadata": {},
     "output_type": "execute_result"
    }
   ],
   "source": [
    "#create average order to approval time feature - time from customer order to approval timestamp\n",
    "\n",
    "attr_raw['avg_order_to_approval_time'] = attr_raw.order_approved_at.dt.date - attr_raw.order_purchase_timestamp.dt.date\n",
    "attr_raw['avg_order_to_approval_time'] = attr_raw['avg_order_to_approval_time'].dt.days\n",
    "order_approval_time = attr_raw.groupby('customer_unique_id')['avg_order_to_approval_time'].mean().reset_index()\n",
    "#merge\n",
    "attr2 = pd.merge(attr1, order_approval_time, on='customer_unique_id', how='left')\n",
    "attr2.head()\n"
   ]
  },
  {
   "cell_type": "code",
   "execution_count": 8,
   "metadata": {},
   "outputs": [
    {
     "name": "stderr",
     "output_type": "stream",
     "text": [
      "C:\\ProgramData\\Anaconda3\\lib\\site-packages\\ipykernel_launcher.py:2: SettingWithCopyWarning: \n",
      "A value is trying to be set on a copy of a slice from a DataFrame.\n",
      "Try using .loc[row_indexer,col_indexer] = value instead\n",
      "\n",
      "See the caveats in the documentation: http://pandas.pydata.org/pandas-docs/stable/indexing.html#indexing-view-versus-copy\n",
      "  \n"
     ]
    },
    {
     "data": {
      "text/html": [
       "<div>\n",
       "<style scoped>\n",
       "    .dataframe tbody tr th:only-of-type {\n",
       "        vertical-align: middle;\n",
       "    }\n",
       "\n",
       "    .dataframe tbody tr th {\n",
       "        vertical-align: top;\n",
       "    }\n",
       "\n",
       "    .dataframe thead th {\n",
       "        text-align: right;\n",
       "    }\n",
       "</style>\n",
       "<table border=\"1\" class=\"dataframe\">\n",
       "  <thead>\n",
       "    <tr style=\"text-align: right;\">\n",
       "      <th></th>\n",
       "      <th>customer_unique_id</th>\n",
       "      <th>order_recency</th>\n",
       "      <th>total_orders</th>\n",
       "      <th>avg_delivery_delta_days</th>\n",
       "      <th>avg_order_to_approval_time</th>\n",
       "      <th>order_proportion_delivered</th>\n",
       "    </tr>\n",
       "  </thead>\n",
       "  <tbody>\n",
       "    <tr>\n",
       "      <th>0</th>\n",
       "      <td>0000f46a3911fa3c0805444483337064</td>\n",
       "      <td>508</td>\n",
       "      <td>1</td>\n",
       "      <td>2.0</td>\n",
       "      <td>0.0</td>\n",
       "      <td>1.0</td>\n",
       "    </tr>\n",
       "    <tr>\n",
       "      <th>1</th>\n",
       "      <td>0000f6ccb0745a6a4b88665a16c9f078</td>\n",
       "      <td>292</td>\n",
       "      <td>1</td>\n",
       "      <td>12.0</td>\n",
       "      <td>0.0</td>\n",
       "      <td>1.0</td>\n",
       "    </tr>\n",
       "    <tr>\n",
       "      <th>2</th>\n",
       "      <td>0004aac84e0df4da2b147fca70cf8255</td>\n",
       "      <td>259</td>\n",
       "      <td>1</td>\n",
       "      <td>8.0</td>\n",
       "      <td>0.0</td>\n",
       "      <td>1.0</td>\n",
       "    </tr>\n",
       "    <tr>\n",
       "      <th>3</th>\n",
       "      <td>00053a61a98854899e70ed204dd4bafe</td>\n",
       "      <td>153</td>\n",
       "      <td>1</td>\n",
       "      <td>10.0</td>\n",
       "      <td>0.0</td>\n",
       "      <td>1.0</td>\n",
       "    </tr>\n",
       "    <tr>\n",
       "      <th>4</th>\n",
       "      <td>0005e1862207bf6ccc02e4228effd9a0</td>\n",
       "      <td>514</td>\n",
       "      <td>1</td>\n",
       "      <td>28.0</td>\n",
       "      <td>0.0</td>\n",
       "      <td>1.0</td>\n",
       "    </tr>\n",
       "  </tbody>\n",
       "</table>\n",
       "</div>"
      ],
      "text/plain": [
       "                 customer_unique_id  order_recency  total_orders  \\\n",
       "0  0000f46a3911fa3c0805444483337064            508             1   \n",
       "1  0000f6ccb0745a6a4b88665a16c9f078            292             1   \n",
       "2  0004aac84e0df4da2b147fca70cf8255            259             1   \n",
       "3  00053a61a98854899e70ed204dd4bafe            153             1   \n",
       "4  0005e1862207bf6ccc02e4228effd9a0            514             1   \n",
       "\n",
       "   avg_delivery_delta_days  avg_order_to_approval_time  \\\n",
       "0                      2.0                         0.0   \n",
       "1                     12.0                         0.0   \n",
       "2                      8.0                         0.0   \n",
       "3                     10.0                         0.0   \n",
       "4                     28.0                         0.0   \n",
       "\n",
       "   order_proportion_delivered  \n",
       "0                         1.0  \n",
       "1                         1.0  \n",
       "2                         1.0  \n",
       "3                         1.0  \n",
       "4                         1.0  "
      ]
     },
     "execution_count": 8,
     "metadata": {},
     "output_type": "execute_result"
    }
   ],
   "source": [
    "#create proportion of orders fulfilled feature - % of customer's orders with 'delivered' order status\n",
    "attr_raw['order_delivered'] = np.where(attr_raw['order_status'].str.contains(\"delivered\", case=False, na=False), 1, 0)\n",
    "delivered_total = attr_raw.groupby('customer_unique_id')['order_delivered'].sum().reset_index()\n",
    "#merge\n",
    "attr3 = pd.merge(attr2, delivered_total, on='customer_unique_id', how='left')\n",
    "#create proportion from total\n",
    "attr3['order_proportion_delivered'] = attr3.order_delivered / attr3.total_orders\n",
    "attr3 = attr3.drop('order_delivered', axis = 1)\n",
    "#completed dataset with 5 attributes\n",
    "attributes = attr3\n",
    "attributes.head()\n"
   ]
  },
  {
   "cell_type": "code",
   "execution_count": 9,
   "metadata": {},
   "outputs": [
    {
     "data": {
      "text/plain": [
       "7211"
      ]
     },
     "execution_count": 9,
     "metadata": {},
     "output_type": "execute_result"
    }
   ],
   "source": [
    "#targeting\n",
    "\n",
    "\n",
    "mask = (orders.order_purchase_timestamp.dt.year == 2018) & (orders.order_purchase_timestamp.dt.month == 3)\n",
    "\n",
    "target_events_raw = orders[mask]\n",
    "\n",
    "len(target_events_raw)"
   ]
  },
  {
   "cell_type": "code",
   "execution_count": 10,
   "metadata": {},
   "outputs": [
    {
     "name": "stdout",
     "output_type": "stream",
     "text": [
      "2018-03-01 00:00:00 2018-03-31 23:54:10\n"
     ]
    }
   ],
   "source": [
    "print (target_events_raw['order_purchase_timestamp'].min(), target_events_raw['order_purchase_timestamp'].max())"
   ]
  },
  {
   "cell_type": "code",
   "execution_count": 11,
   "metadata": {},
   "outputs": [
    {
     "data": {
      "text/plain": [
       "7115"
      ]
     },
     "execution_count": 11,
     "metadata": {},
     "output_type": "execute_result"
    }
   ],
   "source": [
    "target_events = target_events_raw.groupby('customer_unique_id').size().reset_index()\n",
    "\n",
    "target_events.head()\n",
    "len(target_events)"
   ]
  },
  {
   "cell_type": "code",
   "execution_count": 12,
   "metadata": {},
   "outputs": [],
   "source": [
    "df = pd.merge(attributes, target_events, how='left', on='customer_unique_id')\n",
    "\n",
    "df = df.rename(columns={0: 'purch'})\n",
    "\n",
    "df['purch'] = [1 if x >= 1 else 0 for x in df['purch']]\n",
    "\n"
   ]
  },
  {
   "cell_type": "code",
   "execution_count": 13,
   "metadata": {},
   "outputs": [
    {
     "data": {
      "text/plain": [
       "customer_unique_id             object\n",
       "order_recency                   int64\n",
       "total_orders                    int64\n",
       "avg_delivery_delta_days       float64\n",
       "avg_order_to_approval_time    float64\n",
       "order_proportion_delivered    float64\n",
       "purch                           int64\n",
       "dtype: object"
      ]
     },
     "execution_count": 13,
     "metadata": {},
     "output_type": "execute_result"
    }
   ],
   "source": [
    "df.dtypes"
   ]
  },
  {
   "cell_type": "code",
   "execution_count": 14,
   "metadata": {},
   "outputs": [
    {
     "data": {
      "text/html": [
       "<div>\n",
       "<style scoped>\n",
       "    .dataframe tbody tr th:only-of-type {\n",
       "        vertical-align: middle;\n",
       "    }\n",
       "\n",
       "    .dataframe tbody tr th {\n",
       "        vertical-align: top;\n",
       "    }\n",
       "\n",
       "    .dataframe thead th {\n",
       "        text-align: right;\n",
       "    }\n",
       "</style>\n",
       "<table border=\"1\" class=\"dataframe\">\n",
       "  <thead>\n",
       "    <tr style=\"text-align: right;\">\n",
       "      <th></th>\n",
       "      <th>customer_unique_id</th>\n",
       "      <th>order_recency</th>\n",
       "      <th>total_orders</th>\n",
       "      <th>avg_delivery_delta_days</th>\n",
       "      <th>avg_order_to_approval_time</th>\n",
       "      <th>order_proportion_delivered</th>\n",
       "      <th>purch</th>\n",
       "    </tr>\n",
       "  </thead>\n",
       "  <tbody>\n",
       "    <tr>\n",
       "      <th>0</th>\n",
       "      <td>0000f46a3911fa3c0805444483337064</td>\n",
       "      <td>508</td>\n",
       "      <td>1</td>\n",
       "      <td>2.0</td>\n",
       "      <td>0.0</td>\n",
       "      <td>1.0</td>\n",
       "      <td>0</td>\n",
       "    </tr>\n",
       "    <tr>\n",
       "      <th>1</th>\n",
       "      <td>0000f6ccb0745a6a4b88665a16c9f078</td>\n",
       "      <td>292</td>\n",
       "      <td>1</td>\n",
       "      <td>12.0</td>\n",
       "      <td>0.0</td>\n",
       "      <td>1.0</td>\n",
       "      <td>0</td>\n",
       "    </tr>\n",
       "    <tr>\n",
       "      <th>2</th>\n",
       "      <td>0004aac84e0df4da2b147fca70cf8255</td>\n",
       "      <td>259</td>\n",
       "      <td>1</td>\n",
       "      <td>8.0</td>\n",
       "      <td>0.0</td>\n",
       "      <td>1.0</td>\n",
       "      <td>0</td>\n",
       "    </tr>\n",
       "    <tr>\n",
       "      <th>3</th>\n",
       "      <td>00053a61a98854899e70ed204dd4bafe</td>\n",
       "      <td>153</td>\n",
       "      <td>1</td>\n",
       "      <td>10.0</td>\n",
       "      <td>0.0</td>\n",
       "      <td>1.0</td>\n",
       "      <td>0</td>\n",
       "    </tr>\n",
       "    <tr>\n",
       "      <th>4</th>\n",
       "      <td>0005e1862207bf6ccc02e4228effd9a0</td>\n",
       "      <td>514</td>\n",
       "      <td>1</td>\n",
       "      <td>28.0</td>\n",
       "      <td>0.0</td>\n",
       "      <td>1.0</td>\n",
       "      <td>0</td>\n",
       "    </tr>\n",
       "  </tbody>\n",
       "</table>\n",
       "</div>"
      ],
      "text/plain": [
       "                 customer_unique_id  order_recency  total_orders  \\\n",
       "0  0000f46a3911fa3c0805444483337064            508             1   \n",
       "1  0000f6ccb0745a6a4b88665a16c9f078            292             1   \n",
       "2  0004aac84e0df4da2b147fca70cf8255            259             1   \n",
       "3  00053a61a98854899e70ed204dd4bafe            153             1   \n",
       "4  0005e1862207bf6ccc02e4228effd9a0            514             1   \n",
       "\n",
       "   avg_delivery_delta_days  avg_order_to_approval_time  \\\n",
       "0                      2.0                         0.0   \n",
       "1                     12.0                         0.0   \n",
       "2                      8.0                         0.0   \n",
       "3                     10.0                         0.0   \n",
       "4                     28.0                         0.0   \n",
       "\n",
       "   order_proportion_delivered  purch  \n",
       "0                         1.0      0  \n",
       "1                         1.0      0  \n",
       "2                         1.0      0  \n",
       "3                         1.0      0  \n",
       "4                         1.0      0  "
      ]
     },
     "execution_count": 14,
     "metadata": {},
     "output_type": "execute_result"
    }
   ],
   "source": [
    "df.head()"
   ]
  },
  {
   "cell_type": "code",
   "execution_count": 15,
   "metadata": {},
   "outputs": [
    {
     "data": {
      "text/html": [
       "<div>\n",
       "<style scoped>\n",
       "    .dataframe tbody tr th:only-of-type {\n",
       "        vertical-align: middle;\n",
       "    }\n",
       "\n",
       "    .dataframe tbody tr th {\n",
       "        vertical-align: top;\n",
       "    }\n",
       "\n",
       "    .dataframe thead th {\n",
       "        text-align: right;\n",
       "    }\n",
       "</style>\n",
       "<table border=\"1\" class=\"dataframe\">\n",
       "  <thead>\n",
       "    <tr style=\"text-align: right;\">\n",
       "      <th></th>\n",
       "      <th>order_recency</th>\n",
       "      <th>total_orders</th>\n",
       "      <th>avg_delivery_delta_days</th>\n",
       "      <th>avg_order_to_approval_time</th>\n",
       "      <th>order_proportion_delivered</th>\n",
       "      <th>purch</th>\n",
       "    </tr>\n",
       "  </thead>\n",
       "  <tbody>\n",
       "    <tr>\n",
       "      <th>order_recency</th>\n",
       "      <td>1.000000</td>\n",
       "      <td>-0.034159</td>\n",
       "      <td>0.201047</td>\n",
       "      <td>0.011516</td>\n",
       "      <td>-0.050249</td>\n",
       "      <td>-0.016843</td>\n",
       "    </tr>\n",
       "    <tr>\n",
       "      <th>total_orders</th>\n",
       "      <td>-0.034159</td>\n",
       "      <td>1.000000</td>\n",
       "      <td>0.013674</td>\n",
       "      <td>-0.004798</td>\n",
       "      <td>-0.136478</td>\n",
       "      <td>0.256306</td>\n",
       "    </tr>\n",
       "    <tr>\n",
       "      <th>avg_delivery_delta_days</th>\n",
       "      <td>0.201047</td>\n",
       "      <td>0.013674</td>\n",
       "      <td>1.000000</td>\n",
       "      <td>-0.054756</td>\n",
       "      <td>-0.004394</td>\n",
       "      <td>0.002814</td>\n",
       "    </tr>\n",
       "    <tr>\n",
       "      <th>avg_order_to_approval_time</th>\n",
       "      <td>0.011516</td>\n",
       "      <td>-0.004798</td>\n",
       "      <td>-0.054756</td>\n",
       "      <td>1.000000</td>\n",
       "      <td>-0.035193</td>\n",
       "      <td>-0.001486</td>\n",
       "    </tr>\n",
       "    <tr>\n",
       "      <th>order_proportion_delivered</th>\n",
       "      <td>-0.050249</td>\n",
       "      <td>-0.136478</td>\n",
       "      <td>-0.004394</td>\n",
       "      <td>-0.035193</td>\n",
       "      <td>1.000000</td>\n",
       "      <td>-0.126542</td>\n",
       "    </tr>\n",
       "    <tr>\n",
       "      <th>purch</th>\n",
       "      <td>-0.016843</td>\n",
       "      <td>0.256306</td>\n",
       "      <td>0.002814</td>\n",
       "      <td>-0.001486</td>\n",
       "      <td>-0.126542</td>\n",
       "      <td>1.000000</td>\n",
       "    </tr>\n",
       "  </tbody>\n",
       "</table>\n",
       "</div>"
      ],
      "text/plain": [
       "                            order_recency  total_orders  \\\n",
       "order_recency                    1.000000     -0.034159   \n",
       "total_orders                    -0.034159      1.000000   \n",
       "avg_delivery_delta_days          0.201047      0.013674   \n",
       "avg_order_to_approval_time       0.011516     -0.004798   \n",
       "order_proportion_delivered      -0.050249     -0.136478   \n",
       "purch                           -0.016843      0.256306   \n",
       "\n",
       "                            avg_delivery_delta_days  \\\n",
       "order_recency                              0.201047   \n",
       "total_orders                               0.013674   \n",
       "avg_delivery_delta_days                    1.000000   \n",
       "avg_order_to_approval_time                -0.054756   \n",
       "order_proportion_delivered                -0.004394   \n",
       "purch                                      0.002814   \n",
       "\n",
       "                            avg_order_to_approval_time  \\\n",
       "order_recency                                 0.011516   \n",
       "total_orders                                 -0.004798   \n",
       "avg_delivery_delta_days                      -0.054756   \n",
       "avg_order_to_approval_time                    1.000000   \n",
       "order_proportion_delivered                   -0.035193   \n",
       "purch                                        -0.001486   \n",
       "\n",
       "                            order_proportion_delivered     purch  \n",
       "order_recency                                -0.050249 -0.016843  \n",
       "total_orders                                 -0.136478  0.256306  \n",
       "avg_delivery_delta_days                      -0.004394  0.002814  \n",
       "avg_order_to_approval_time                   -0.035193 -0.001486  \n",
       "order_proportion_delivered                    1.000000 -0.126542  \n",
       "purch                                        -0.126542  1.000000  "
      ]
     },
     "execution_count": 15,
     "metadata": {},
     "output_type": "execute_result"
    }
   ],
   "source": [
    "#correlations\n",
    "\n",
    "df[['order_recency', 'total_orders','avg_delivery_delta_days', 'avg_order_to_approval_time', 'order_proportion_delivered', 'purch']].corr()"
   ]
  },
  {
   "cell_type": "code",
   "execution_count": 16,
   "metadata": {},
   "outputs": [],
   "source": [
    "#create new df with na values filled by column median value\n",
    "df_fill = df\n",
    "df_fill['avg_delivery_delta_days'] = df_fill['avg_delivery_delta_days'].fillna(df_fill['avg_delivery_delta_days'].median())\n",
    "df_fill['avg_order_to_approval_time'] = df_fill['avg_order_to_approval_time'].fillna(df_fill['avg_order_to_approval_time'].median())"
   ]
  },
  {
   "cell_type": "code",
   "execution_count": 17,
   "metadata": {},
   "outputs": [
    {
     "data": {
      "text/html": [
       "<div>\n",
       "<style scoped>\n",
       "    .dataframe tbody tr th:only-of-type {\n",
       "        vertical-align: middle;\n",
       "    }\n",
       "\n",
       "    .dataframe tbody tr th {\n",
       "        vertical-align: top;\n",
       "    }\n",
       "\n",
       "    .dataframe thead th {\n",
       "        text-align: right;\n",
       "    }\n",
       "</style>\n",
       "<table border=\"1\" class=\"dataframe\">\n",
       "  <thead>\n",
       "    <tr style=\"text-align: right;\">\n",
       "      <th></th>\n",
       "      <th>order_recency</th>\n",
       "      <th>total_orders</th>\n",
       "      <th>avg_delivery_delta_days</th>\n",
       "      <th>avg_order_to_approval_time</th>\n",
       "      <th>order_proportion_delivered</th>\n",
       "      <th>purch</th>\n",
       "    </tr>\n",
       "  </thead>\n",
       "  <tbody>\n",
       "    <tr>\n",
       "      <th>order_recency</th>\n",
       "      <td>1.000000</td>\n",
       "      <td>-0.034159</td>\n",
       "      <td>0.197129</td>\n",
       "      <td>0.011112</td>\n",
       "      <td>-0.050249</td>\n",
       "      <td>-0.016843</td>\n",
       "    </tr>\n",
       "    <tr>\n",
       "      <th>total_orders</th>\n",
       "      <td>-0.034159</td>\n",
       "      <td>1.000000</td>\n",
       "      <td>0.013214</td>\n",
       "      <td>-0.004741</td>\n",
       "      <td>-0.136478</td>\n",
       "      <td>0.256306</td>\n",
       "    </tr>\n",
       "    <tr>\n",
       "      <th>avg_delivery_delta_days</th>\n",
       "      <td>0.197129</td>\n",
       "      <td>0.013214</td>\n",
       "      <td>1.000000</td>\n",
       "      <td>-0.039661</td>\n",
       "      <td>-0.017959</td>\n",
       "      <td>0.002784</td>\n",
       "    </tr>\n",
       "    <tr>\n",
       "      <th>avg_order_to_approval_time</th>\n",
       "      <td>0.011112</td>\n",
       "      <td>-0.004741</td>\n",
       "      <td>-0.039661</td>\n",
       "      <td>1.000000</td>\n",
       "      <td>-0.032992</td>\n",
       "      <td>-0.001462</td>\n",
       "    </tr>\n",
       "    <tr>\n",
       "      <th>order_proportion_delivered</th>\n",
       "      <td>-0.050249</td>\n",
       "      <td>-0.136478</td>\n",
       "      <td>-0.017959</td>\n",
       "      <td>-0.032992</td>\n",
       "      <td>1.000000</td>\n",
       "      <td>-0.126542</td>\n",
       "    </tr>\n",
       "    <tr>\n",
       "      <th>purch</th>\n",
       "      <td>-0.016843</td>\n",
       "      <td>0.256306</td>\n",
       "      <td>0.002784</td>\n",
       "      <td>-0.001462</td>\n",
       "      <td>-0.126542</td>\n",
       "      <td>1.000000</td>\n",
       "    </tr>\n",
       "  </tbody>\n",
       "</table>\n",
       "</div>"
      ],
      "text/plain": [
       "                            order_recency  total_orders  \\\n",
       "order_recency                    1.000000     -0.034159   \n",
       "total_orders                    -0.034159      1.000000   \n",
       "avg_delivery_delta_days          0.197129      0.013214   \n",
       "avg_order_to_approval_time       0.011112     -0.004741   \n",
       "order_proportion_delivered      -0.050249     -0.136478   \n",
       "purch                           -0.016843      0.256306   \n",
       "\n",
       "                            avg_delivery_delta_days  \\\n",
       "order_recency                              0.197129   \n",
       "total_orders                               0.013214   \n",
       "avg_delivery_delta_days                    1.000000   \n",
       "avg_order_to_approval_time                -0.039661   \n",
       "order_proportion_delivered                -0.017959   \n",
       "purch                                      0.002784   \n",
       "\n",
       "                            avg_order_to_approval_time  \\\n",
       "order_recency                                 0.011112   \n",
       "total_orders                                 -0.004741   \n",
       "avg_delivery_delta_days                      -0.039661   \n",
       "avg_order_to_approval_time                    1.000000   \n",
       "order_proportion_delivered                   -0.032992   \n",
       "purch                                        -0.001462   \n",
       "\n",
       "                            order_proportion_delivered     purch  \n",
       "order_recency                                -0.050249 -0.016843  \n",
       "total_orders                                 -0.136478  0.256306  \n",
       "avg_delivery_delta_days                      -0.017959  0.002784  \n",
       "avg_order_to_approval_time                   -0.032992 -0.001462  \n",
       "order_proportion_delivered                    1.000000 -0.126542  \n",
       "purch                                        -0.126542  1.000000  "
      ]
     },
     "execution_count": 17,
     "metadata": {},
     "output_type": "execute_result"
    }
   ],
   "source": [
    "#correlations of filled df\n",
    "\n",
    "df_fill[['order_recency', 'total_orders','avg_delivery_delta_days', 'avg_order_to_approval_time', 'order_proportion_delivered', 'purch']].corr()\n",
    "\n",
    "#are the differences acceptible? I'm not really sure..."
   ]
  },
  {
   "cell_type": "code",
   "execution_count": 18,
   "metadata": {},
   "outputs": [],
   "source": [
    "#model/training setup\n",
    "\n",
    "preds = ['order_recency', 'total_orders','avg_delivery_delta_days', 'avg_order_to_approval_time', 'order_proportion_delivered']\n",
    "\n",
    "X = df_fill[preds]\n",
    "y = df_fill['purch']"
   ]
  },
  {
   "cell_type": "code",
   "execution_count": 19,
   "metadata": {},
   "outputs": [
    {
     "data": {
      "text/plain": [
       "(28755, 28755)"
      ]
     },
     "execution_count": 19,
     "metadata": {},
     "output_type": "execute_result"
    }
   ],
   "source": [
    "X_train, X_test, y_train, y_test = train_test_split(X, y, test_size=0.5, random_state=314)\n",
    "\n",
    "len(X_train), len(X_test)"
   ]
  },
  {
   "cell_type": "markdown",
   "metadata": {},
   "source": [
    "# Logitistic Regression Modeling and Testing"
   ]
  },
  {
   "cell_type": "code",
   "execution_count": 20,
   "metadata": {},
   "outputs": [],
   "source": [
    "# Define the model object\n",
    "clf = LogisticRegression(solver='liblinear', random_state=314)\n",
    "\n",
    "# Train (fit) the model using the training sample\n",
    "clf.fit(X_train, y_train)\n",
    "\n",
    "# Make predictions on the test sample\n",
    "preds_test = clf.predict(X_test)"
   ]
  },
  {
   "cell_type": "code",
   "execution_count": 21,
   "metadata": {},
   "outputs": [
    {
     "data": {
      "text/plain": [
       "0.9826591638304966"
      ]
     },
     "execution_count": 21,
     "metadata": {},
     "output_type": "execute_result"
    }
   ],
   "source": [
    "#logistic regression model testing\n",
    "#ROC curve\n",
    "scores_test = clf.predict_proba(X_test)[:, 1]\n",
    "# Calcualte AUC\n",
    "roc_auc_score(y_test, scores_test)"
   ]
  },
  {
   "cell_type": "code",
   "execution_count": 22,
   "metadata": {
    "scrolled": true
   },
   "outputs": [
    {
     "data": {
      "text/plain": [
       "array([[28674,     8],\n",
       "       [   72,     1]], dtype=int64)"
      ]
     },
     "execution_count": 22,
     "metadata": {},
     "output_type": "execute_result"
    }
   ],
   "source": [
    "#confusion matrix\n",
    "cmat = confusion_matrix(y_test, preds_test)\n",
    "cmat\n",
    "#pd.crosstab(y_test, preds_test)"
   ]
  },
  {
   "cell_type": "code",
   "execution_count": 23,
   "metadata": {},
   "outputs": [
    {
     "data": {
      "text/plain": [
       "0.1111111111111111"
      ]
     },
     "execution_count": 23,
     "metadata": {},
     "output_type": "execute_result"
    }
   ],
   "source": [
    "#precision\n",
    "precision_score(y_test, preds_test)"
   ]
  },
  {
   "cell_type": "code",
   "execution_count": 24,
   "metadata": {},
   "outputs": [
    {
     "data": {
      "text/plain": [
       "0.0136986301369863"
      ]
     },
     "execution_count": 24,
     "metadata": {},
     "output_type": "execute_result"
    }
   ],
   "source": [
    "#recall\n",
    "recall_score(y_test, preds_test)"
   ]
  },
  {
   "cell_type": "code",
   "execution_count": 25,
   "metadata": {},
   "outputs": [
    {
     "data": {
      "text/plain": [
       "0.9972178751521474"
      ]
     },
     "execution_count": 25,
     "metadata": {},
     "output_type": "execute_result"
    }
   ],
   "source": [
    "#accuracy score\n",
    "accuracy_score(y_test, preds_test)"
   ]
  },
  {
   "cell_type": "code",
   "execution_count": 26,
   "metadata": {
    "scrolled": true
   },
   "outputs": [
    {
     "data": {
      "image/png": "[encoded data removed]",
      "text/plain": [
       "<Figure size 432x288 with 1 Axes>"
      ]
     },
     "metadata": {
      "needs_background": "light"
     },
     "output_type": "display_data"
    }
   ],
   "source": [
    "#plot ROC curve\n",
    "# calculate the fpr and tpr for all thresholds of the classification\n",
    "probs = clf.predict_proba(X_test)\n",
    "preds = probs[:,1]\n",
    "fpr, tpr, threshold = roc_curve(y_test, preds)\n",
    "roc_auc = auc(fpr, tpr)\n",
    "\n",
    "plt.title('Receiver Operating Characteristic')\n",
    "plt.plot(fpr, tpr, 'b', label = 'AUC = %0.2f' % roc_auc)\n",
    "plt.legend(loc = 'lower right')\n",
    "plt.plot([0, 1], [0, 1],'r--')\n",
    "plt.xlim([0, 1])\n",
    "plt.ylim([0, 1])\n",
    "plt.ylabel('True Positive Rate')\n",
    "plt.xlabel('False Positive Rate')\n",
    "plt.show()"
   ]
  },
  {
   "cell_type": "markdown",
   "metadata": {},
   "source": [
    "# Random Forest Classifier Modeling and Testing"
   ]
  },
  {
   "cell_type": "code",
   "execution_count": 27,
   "metadata": {},
   "outputs": [
    {
     "name": "stderr",
     "output_type": "stream",
     "text": [
      "C:\\ProgramData\\Anaconda3\\lib\\site-packages\\sklearn\\ensemble\\forest.py:246: FutureWarning: The default value of n_estimators will change from 10 in version 0.20 to 100 in 0.22.\n",
      "  \"10 in version 0.20 to 100 in 0.22.\", FutureWarning)\n"
     ]
    }
   ],
   "source": [
    "# Define the model (object)\n",
    "rfc = RandomForestClassifier()\n",
    "\n",
    "# Fit (train) the model\n",
    "rfc.fit(X_train, y_train)\n",
    "\n",
    "# Make predictions on the test data\n",
    "preds_test_rfc = rfc.predict(X_test)"
   ]
  },
  {
   "cell_type": "code",
   "execution_count": 28,
   "metadata": {},
   "outputs": [
    {
     "data": {
      "text/plain": [
       "0.8715733126499078"
      ]
     },
     "execution_count": 28,
     "metadata": {},
     "output_type": "execute_result"
    }
   ],
   "source": [
    "#random forest classifier model testing\n",
    "#ROC curve\n",
    "scores_test_rfc = rfc.predict_proba(X_test)[:, 1]\n",
    "# Calcualte AUC\n",
    "roc_auc_score(y_test, scores_test_rfc)"
   ]
  },
  {
   "cell_type": "code",
   "execution_count": 29,
   "metadata": {
    "scrolled": true
   },
   "outputs": [
    {
     "data": {
      "text/plain": [
       "array([[28651,    31],\n",
       "       [   71,     2]], dtype=int64)"
      ]
     },
     "execution_count": 29,
     "metadata": {},
     "output_type": "execute_result"
    }
   ],
   "source": [
    "#confusion matrix\n",
    "cmat_rfc = confusion_matrix(y_test, preds_test_rfc)\n",
    "cmat_rfc\n",
    "#pd.crosstab(y_test, preds_test)"
   ]
  },
  {
   "cell_type": "code",
   "execution_count": 30,
   "metadata": {},
   "outputs": [
    {
     "data": {
      "text/plain": [
       "0.996452790818988"
      ]
     },
     "execution_count": 30,
     "metadata": {},
     "output_type": "execute_result"
    }
   ],
   "source": [
    "#accuracy score\n",
    "accuracy_score(y_test, preds_test_rfc)"
   ]
  },
  {
   "cell_type": "code",
   "execution_count": 31,
   "metadata": {},
   "outputs": [
    {
     "data": {
      "text/plain": [
       "0.06060606060606061"
      ]
     },
     "execution_count": 31,
     "metadata": {},
     "output_type": "execute_result"
    }
   ],
   "source": [
    "#precision\n",
    "precision_score(y_test, preds_test_rfc)"
   ]
  },
  {
   "cell_type": "code",
   "execution_count": 32,
   "metadata": {},
   "outputs": [
    {
     "data": {
      "text/plain": [
       "0.0273972602739726"
      ]
     },
     "execution_count": 32,
     "metadata": {},
     "output_type": "execute_result"
    }
   ],
   "source": [
    "#recall\n",
    "recall_score(y_test, preds_test_rfc)"
   ]
  },
  {
   "cell_type": "code",
   "execution_count": 33,
   "metadata": {
    "scrolled": true
   },
   "outputs": [
    {
     "data": {
      "image/png": "[encoded data removed]",
      "text/plain": [
       "<Figure size 432x288 with 1 Axes>"
      ]
     },
     "metadata": {
      "needs_background": "light"
     },
     "output_type": "display_data"
    }
   ],
   "source": [
    "#plot ROC curve\n",
    "# calculate the fpr and tpr for all thresholds of the classification\n",
    "probs = rfc.predict_proba(X_test)\n",
    "preds = probs[:,1]\n",
    "fpr, tpr, threshold = roc_curve(y_test, preds)\n",
    "roc_auc = auc(fpr, tpr)\n",
    "\n",
    "plt.title('Receiver Operating Characteristic')\n",
    "plt.plot(fpr, tpr, 'b', label = 'AUC = %0.2f' % roc_auc)\n",
    "plt.legend(loc = 'lower right')\n",
    "plt.plot([0, 1], [0, 1],'r--')\n",
    "plt.xlim([0, 1])\n",
    "plt.ylim([0, 1])\n",
    "plt.ylabel('True Positive Rate')\n",
    "plt.xlabel('False Positive Rate')\n",
    "plt.show()"
   ]
  },
  {
   "cell_type": "markdown",
   "metadata": {},
   "source": [
    "Conclusion: It is hard to argue that either of these models would be particularly useful to predict future purchases by customers. One likely issue is that this dataset contains very few customers who purchased more than one item to begin with. That said, it appears that the logistic regression model performs a bit better than the random forest classifier above."
   ]
  }
 ],
 "metadata": {
  "kernelspec": {
   "display_name": "Python 3",
   "language": "python",
   "name": "python3"
  },
  "language_info": {
   "codemirror_mode": {
    "name": "ipython",
    "version": 3
   },
   "file_extension": ".py",
   "mimetype": "text/x-python",
   "name": "python",
   "nbconvert_exporter": "python",
   "pygments_lexer": "ipython3",
   "version": "3.7.1"
  }
 },
 "nbformat": 4,
 "nbformat_minor": 2
}
