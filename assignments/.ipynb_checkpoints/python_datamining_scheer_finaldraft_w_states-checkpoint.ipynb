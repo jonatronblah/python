{
 "cells": [
  {
   "cell_type": "code",
   "execution_count": 1,
   "metadata": {
    "scrolled": true
   },
   "outputs": [],
   "source": [
    "import pandas as pd\n",
    "import numpy as np\n",
    "import matplotlib.pyplot as plt\n",
    "import seaborn as sns\n",
    "from datetime import date\n",
    "from sklearn.model_selection import train_test_split, RandomizedSearchCV\n",
    "from sklearn.linear_model import LogisticRegression\n",
    "from sklearn.ensemble import RandomForestClassifier\n",
    "from sklearn.tree import DecisionTreeClassifier\n",
    "from sklearn.metrics import accuracy_score, roc_auc_score, confusion_matrix, precision_score, recall_score, roc_curve, auc\n",
    "from sklearn.preprocessing import StandardScaler\n",
    "\n",
    "%matplotlib inline"
   ]
  },
  {
   "cell_type": "markdown",
   "metadata": {},
   "source": [
    "# Data Wrangling and Exploration"
   ]
  },
  {
   "cell_type": "code",
   "execution_count": 2,
   "metadata": {},
   "outputs": [],
   "source": [
    "# Full path of the 'orders' dataset\n",
    "orders_file = 'https://www.dropbox.com/s/ej64qorm1uvmjlp/olist_orders_dataset.csv?dl=1'\n",
    "\n",
    "# Full path of the 'customer' dataset\n",
    "cust_file = 'https://www.dropbox.com/s/t082qlggu4wxiq5/olist_customers_dataset.csv?dl=1'\n",
    "\n",
    "# File output location\n",
    "out = r\"C:\\Users\\scheerja\\Downloads\""
   ]
  },
  {
   "cell_type": "code",
   "execution_count": 3,
   "metadata": {},
   "outputs": [
    {
     "name": "stdout",
     "output_type": "stream",
     "text": [
      "99,441 read from the orders file.\n",
      "99,441 read from the customer file.\n",
      "99,441 records in the output  file.\n"
     ]
    },
    {
     "data": {
      "text/html": [
       "<div>\n",
       "<style scoped>\n",
       "    .dataframe tbody tr th:only-of-type {\n",
       "        vertical-align: middle;\n",
       "    }\n",
       "\n",
       "    .dataframe tbody tr th {\n",
       "        vertical-align: top;\n",
       "    }\n",
       "\n",
       "    .dataframe thead th {\n",
       "        text-align: right;\n",
       "    }\n",
       "</style>\n",
       "<table border=\"1\" class=\"dataframe\">\n",
       "  <thead>\n",
       "    <tr style=\"text-align: right;\">\n",
       "      <th></th>\n",
       "      <th>order_id</th>\n",
       "      <th>customer_id</th>\n",
       "      <th>order_status</th>\n",
       "      <th>order_purchase_timestamp</th>\n",
       "      <th>order_approved_at</th>\n",
       "      <th>order_delivered_customer_date</th>\n",
       "      <th>order_estimated_delivery_date</th>\n",
       "      <th>order_purchase_date</th>\n",
       "      <th>order_month</th>\n",
       "      <th>customer_unique_id</th>\n",
       "      <th>customer_city</th>\n",
       "      <th>customer_state</th>\n",
       "    </tr>\n",
       "  </thead>\n",
       "  <tbody>\n",
       "    <tr>\n",
       "      <th>0</th>\n",
       "      <td>e481f51cbdc54678b7cc49136f2d6af7</td>\n",
       "      <td>9ef432eb6251297304e76186b10a928d</td>\n",
       "      <td>delivered</td>\n",
       "      <td>2017-10-02 10:56:33</td>\n",
       "      <td>2017-10-02 11:07:15</td>\n",
       "      <td>2017-10-10 21:25:13</td>\n",
       "      <td>2017-10-18</td>\n",
       "      <td>2017-10-02</td>\n",
       "      <td>10</td>\n",
       "      <td>7c396fd4830fd04220f754e42b4e5bff</td>\n",
       "      <td>sao paulo</td>\n",
       "      <td>SP</td>\n",
       "    </tr>\n",
       "    <tr>\n",
       "      <th>1</th>\n",
       "      <td>53cdb2fc8bc7dce0b6741e2150273451</td>\n",
       "      <td>b0830fb4747a6c6d20dea0b8c802d7ef</td>\n",
       "      <td>delivered</td>\n",
       "      <td>2018-07-24 20:41:37</td>\n",
       "      <td>2018-07-26 03:24:27</td>\n",
       "      <td>2018-08-07 15:27:45</td>\n",
       "      <td>2018-08-13</td>\n",
       "      <td>2018-07-24</td>\n",
       "      <td>7</td>\n",
       "      <td>af07308b275d755c9edb36a90c618231</td>\n",
       "      <td>barreiras</td>\n",
       "      <td>BA</td>\n",
       "    </tr>\n",
       "    <tr>\n",
       "      <th>2</th>\n",
       "      <td>47770eb9100c2d0c44946d9cf07ec65d</td>\n",
       "      <td>41ce2a54c0b03bf3443c3d931a367089</td>\n",
       "      <td>delivered</td>\n",
       "      <td>2018-08-08 08:38:49</td>\n",
       "      <td>2018-08-08 08:55:23</td>\n",
       "      <td>2018-08-17 18:06:29</td>\n",
       "      <td>2018-09-04</td>\n",
       "      <td>2018-08-08</td>\n",
       "      <td>8</td>\n",
       "      <td>3a653a41f6f9fc3d2a113cf8398680e8</td>\n",
       "      <td>vianopolis</td>\n",
       "      <td>GO</td>\n",
       "    </tr>\n",
       "    <tr>\n",
       "      <th>3</th>\n",
       "      <td>949d5b44dbf5de918fe9c16f97b45f8a</td>\n",
       "      <td>f88197465ea7920adcdbec7375364d82</td>\n",
       "      <td>delivered</td>\n",
       "      <td>2017-11-18 19:28:06</td>\n",
       "      <td>2017-11-18 19:45:59</td>\n",
       "      <td>2017-12-02 00:28:42</td>\n",
       "      <td>2017-12-15</td>\n",
       "      <td>2017-11-18</td>\n",
       "      <td>11</td>\n",
       "      <td>7c142cf63193a1473d2e66489a9ae977</td>\n",
       "      <td>sao goncalo do amarante</td>\n",
       "      <td>RN</td>\n",
       "    </tr>\n",
       "    <tr>\n",
       "      <th>4</th>\n",
       "      <td>ad21c59c0840e6cb83a9ceb5573f8159</td>\n",
       "      <td>8ab97904e6daea8866dbdbc4fb7aad2c</td>\n",
       "      <td>delivered</td>\n",
       "      <td>2018-02-13 21:18:39</td>\n",
       "      <td>2018-02-13 22:20:29</td>\n",
       "      <td>2018-02-16 18:17:02</td>\n",
       "      <td>2018-02-26</td>\n",
       "      <td>2018-02-13</td>\n",
       "      <td>2</td>\n",
       "      <td>72632f0f9dd73dfee390c9b22eb56dd6</td>\n",
       "      <td>santo andre</td>\n",
       "      <td>SP</td>\n",
       "    </tr>\n",
       "  </tbody>\n",
       "</table>\n",
       "</div>"
      ],
      "text/plain": [
       "                           order_id                       customer_id  \\\n",
       "0  e481f51cbdc54678b7cc49136f2d6af7  9ef432eb6251297304e76186b10a928d   \n",
       "1  53cdb2fc8bc7dce0b6741e2150273451  b0830fb4747a6c6d20dea0b8c802d7ef   \n",
       "2  47770eb9100c2d0c44946d9cf07ec65d  41ce2a54c0b03bf3443c3d931a367089   \n",
       "3  949d5b44dbf5de918fe9c16f97b45f8a  f88197465ea7920adcdbec7375364d82   \n",
       "4  ad21c59c0840e6cb83a9ceb5573f8159  8ab97904e6daea8866dbdbc4fb7aad2c   \n",
       "\n",
       "  order_status order_purchase_timestamp   order_approved_at  \\\n",
       "0    delivered      2017-10-02 10:56:33 2017-10-02 11:07:15   \n",
       "1    delivered      2018-07-24 20:41:37 2018-07-26 03:24:27   \n",
       "2    delivered      2018-08-08 08:38:49 2018-08-08 08:55:23   \n",
       "3    delivered      2017-11-18 19:28:06 2017-11-18 19:45:59   \n",
       "4    delivered      2018-02-13 21:18:39 2018-02-13 22:20:29   \n",
       "\n",
       "  order_delivered_customer_date order_estimated_delivery_date  \\\n",
       "0           2017-10-10 21:25:13                    2017-10-18   \n",
       "1           2018-08-07 15:27:45                    2018-08-13   \n",
       "2           2018-08-17 18:06:29                    2018-09-04   \n",
       "3           2017-12-02 00:28:42                    2017-12-15   \n",
       "4           2018-02-16 18:17:02                    2018-02-26   \n",
       "\n",
       "  order_purchase_date  order_month                customer_unique_id  \\\n",
       "0          2017-10-02           10  7c396fd4830fd04220f754e42b4e5bff   \n",
       "1          2018-07-24            7  af07308b275d755c9edb36a90c618231   \n",
       "2          2018-08-08            8  3a653a41f6f9fc3d2a113cf8398680e8   \n",
       "3          2017-11-18           11  7c142cf63193a1473d2e66489a9ae977   \n",
       "4          2018-02-13            2  72632f0f9dd73dfee390c9b22eb56dd6   \n",
       "\n",
       "             customer_city customer_state  \n",
       "0                sao paulo             SP  \n",
       "1                barreiras             BA  \n",
       "2               vianopolis             GO  \n",
       "3  sao goncalo do amarante             RN  \n",
       "4              santo andre             SP  "
      ]
     },
     "execution_count": 3,
     "metadata": {},
     "output_type": "execute_result"
    }
   ],
   "source": [
    "#read into dataframes\n",
    "def read_olist_data(file1, file2):\n",
    "    \n",
    "    # Read the orders data\n",
    "    orders = pd.read_csv(file1)\n",
    "\n",
    "    print (f'{len(orders):,d} read from the orders file.')\n",
    "\n",
    "    # Drop unnecessary columns\n",
    "    drop_vars = ['order_delivered_carrier_date']\n",
    "\n",
    "    orders = orders.drop(drop_vars, axis=1)\n",
    "\n",
    "    # Date-time conversion\n",
    "    orders['order_purchase_timestamp'] = pd.to_datetime(orders['order_purchase_timestamp'])\n",
    "    orders['order_delivered_customer_date'] = pd.to_datetime(orders['order_delivered_customer_date'])\n",
    "    orders['order_estimated_delivery_date'] = pd.to_datetime(orders['order_estimated_delivery_date'])\n",
    "    orders['order_approved_at'] = pd.to_datetime(orders['order_approved_at'])\n",
    "\n",
    "    # Let's convert the order purchase timestamps into dates\n",
    "    orders['order_purchase_date'] = orders['order_purchase_timestamp'].dt.date\n",
    "\n",
    "    # Extract month from the order date\n",
    "    orders['order_month'] = orders['order_purchase_timestamp'].dt.month\n",
    "\n",
    "    # Read the file that contains the unique customer identifier\n",
    "    cust = pd.read_csv(file2)\n",
    "\n",
    "    print (f'{len(cust):,d} read from the customer file.')\n",
    "\n",
    "    # Let's keep only the following two columns: customer_id, customer_unique_id\n",
    "    cust = cust[['customer_id', 'customer_unique_id', 'customer_city', 'customer_state']]\n",
    "\n",
    "    # Merge orders and cust dataframes\n",
    "    orders = pd.merge(orders, cust, on='customer_id', how='inner')\n",
    "    \n",
    "    print (f'{len(orders):,d} records in the output  file.')\n",
    "    \n",
    "    return orders\n",
    "\n",
    "orders = read_olist_data(orders_file, cust_file)\n",
    "\n",
    "orders.head()"
   ]
  },
  {
   "cell_type": "code",
   "execution_count": 4,
   "metadata": {
    "scrolled": true
   },
   "outputs": [
    {
     "data": {
      "text/plain": [
       "Text(0.5, 0, 'Order Purchase Day')"
      ]
     },
     "execution_count": 4,
     "metadata": {},
     "output_type": "execute_result"
    },
    {
     "data": {
      "image/png": "[encoded data removed]",
      "text/plain": [
       "<Figure size 864x648 with 1 Axes>"
      ]
     },
     "metadata": {},
     "output_type": "display_data"
    }
   ],
   "source": [
    "orders['year'] = orders['order_purchase_timestamp'].dt.year \n",
    "orders['weekday'] = orders['order_purchase_timestamp'].dt.dayofweek\n",
    "orders_ct = orders.groupby(['year', 'weekday'])['order_id'].count().reset_index()\n",
    "sns.set(style='darkgrid')\n",
    "plt.figure(figsize=[12, 9])\n",
    "sns.lineplot(x='weekday', y='order_id', lw=4,\n",
    "            hue='year', data=orders_ct)\n",
    "plt.ylabel('Number of Orders', fontsize=14)\n",
    "plt.xlabel('Order Purchase Day', fontsize=14)\n"
   ]
  },
  {
   "cell_type": "markdown",
   "metadata": {},
   "source": [
    "Above we can see that generally sales were best at the beginning of the work week - they tend to slow down as the weekend approaches, then pick back up when at the end. It's also worth noting how low the sales are in the year 2016, when the company first started."
   ]
  },
  {
   "cell_type": "markdown",
   "metadata": {},
   "source": [
    "# Prediction Window"
   ]
  },
  {
   "cell_type": "code",
   "execution_count": 5,
   "metadata": {},
   "outputs": [
    {
     "name": "stdout",
     "output_type": "stream",
     "text": [
      "99441\n"
     ]
    },
    {
     "data": {
      "text/plain": [
       "(99441, 59427)"
      ]
     },
     "execution_count": 5,
     "metadata": {},
     "output_type": "execute_result"
    }
   ],
   "source": [
    "#subset data prior to prediction window\n",
    "print (len(orders))\n",
    "\n",
    "# Select data prior to the prediction window\n",
    "snapshot_date = date(2018, 2, 28)\n",
    "\n",
    "attr_raw = orders[orders['order_purchase_timestamp'].dt.date <= snapshot_date]\n",
    "\n",
    "len(orders), len(attr_raw)"
   ]
  },
  {
   "cell_type": "markdown",
   "metadata": {},
   "source": [
    "# Feature Creation"
   ]
  },
  {
   "cell_type": "code",
   "execution_count": 6,
   "metadata": {},
   "outputs": [
    {
     "data": {
      "text/html": [
       "<div>\n",
       "<style scoped>\n",
       "    .dataframe tbody tr th:only-of-type {\n",
       "        vertical-align: middle;\n",
       "    }\n",
       "\n",
       "    .dataframe tbody tr th {\n",
       "        vertical-align: top;\n",
       "    }\n",
       "\n",
       "    .dataframe thead th {\n",
       "        text-align: right;\n",
       "    }\n",
       "</style>\n",
       "<table border=\"1\" class=\"dataframe\">\n",
       "  <thead>\n",
       "    <tr style=\"text-align: right;\">\n",
       "      <th></th>\n",
       "      <th>customer_unique_id</th>\n",
       "      <th>order_recency</th>\n",
       "      <th>total_orders</th>\n",
       "    </tr>\n",
       "  </thead>\n",
       "  <tbody>\n",
       "    <tr>\n",
       "      <th>0</th>\n",
       "      <td>0000f46a3911fa3c0805444483337064</td>\n",
       "      <td>508</td>\n",
       "      <td>1</td>\n",
       "    </tr>\n",
       "    <tr>\n",
       "      <th>1</th>\n",
       "      <td>0000f6ccb0745a6a4b88665a16c9f078</td>\n",
       "      <td>292</td>\n",
       "      <td>1</td>\n",
       "    </tr>\n",
       "    <tr>\n",
       "      <th>2</th>\n",
       "      <td>0004aac84e0df4da2b147fca70cf8255</td>\n",
       "      <td>259</td>\n",
       "      <td>1</td>\n",
       "    </tr>\n",
       "    <tr>\n",
       "      <th>3</th>\n",
       "      <td>00053a61a98854899e70ed204dd4bafe</td>\n",
       "      <td>153</td>\n",
       "      <td>1</td>\n",
       "    </tr>\n",
       "    <tr>\n",
       "      <th>4</th>\n",
       "      <td>0005e1862207bf6ccc02e4228effd9a0</td>\n",
       "      <td>514</td>\n",
       "      <td>1</td>\n",
       "    </tr>\n",
       "  </tbody>\n",
       "</table>\n",
       "</div>"
      ],
      "text/plain": [
       "                 customer_unique_id  order_recency  total_orders\n",
       "0  0000f46a3911fa3c0805444483337064            508             1\n",
       "1  0000f6ccb0745a6a4b88665a16c9f078            292             1\n",
       "2  0004aac84e0df4da2b147fca70cf8255            259             1\n",
       "3  00053a61a98854899e70ed204dd4bafe            153             1\n",
       "4  0005e1862207bf6ccc02e4228effd9a0            514             1"
      ]
     },
     "execution_count": 6,
     "metadata": {},
     "output_type": "execute_result"
    }
   ],
   "source": [
    "#create customer recency feature\n",
    "cust_recency = attr_raw.groupby('customer_unique_id')['order_purchase_timestamp'].max().reset_index()\n",
    "\n",
    "snapshot_date = date(2018, 7, 31)\n",
    "\n",
    "delta = snapshot_date - cust_recency.order_purchase_timestamp.dt.date\n",
    "\n",
    "cust_recency['order_recency'] = delta.dt.days\n",
    "cust_recency = cust_recency.drop('order_purchase_timestamp', axis=1)\n",
    "\n",
    "#create total orders feature\n",
    "cust_orders = orders.groupby('customer_unique_id').size().reset_index()\n",
    "\n",
    "cust_orders = cust_orders.rename(columns={0: 'total_orders'})\n",
    "\n",
    "#merge total orders and recency\n",
    "attr = pd.merge(cust_recency, cust_orders, on='customer_unique_id', how='left')\n",
    "attr.head()\n",
    "\n"
   ]
  },
  {
   "cell_type": "code",
   "execution_count": 7,
   "metadata": {},
   "outputs": [
    {
     "name": "stderr",
     "output_type": "stream",
     "text": [
      "C:\\ProgramData\\Anaconda3\\lib\\site-packages\\ipykernel_launcher.py:2: SettingWithCopyWarning: \n",
      "A value is trying to be set on a copy of a slice from a DataFrame.\n",
      "Try using .loc[row_indexer,col_indexer] = value instead\n",
      "\n",
      "See the caveats in the documentation: http://pandas.pydata.org/pandas-docs/stable/indexing.html#indexing-view-versus-copy\n",
      "  \n",
      "C:\\ProgramData\\Anaconda3\\lib\\site-packages\\ipykernel_launcher.py:3: SettingWithCopyWarning: \n",
      "A value is trying to be set on a copy of a slice from a DataFrame.\n",
      "Try using .loc[row_indexer,col_indexer] = value instead\n",
      "\n",
      "See the caveats in the documentation: http://pandas.pydata.org/pandas-docs/stable/indexing.html#indexing-view-versus-copy\n",
      "  This is separate from the ipykernel package so we can avoid doing imports until\n"
     ]
    },
    {
     "data": {
      "text/html": [
       "<div>\n",
       "<style scoped>\n",
       "    .dataframe tbody tr th:only-of-type {\n",
       "        vertical-align: middle;\n",
       "    }\n",
       "\n",
       "    .dataframe tbody tr th {\n",
       "        vertical-align: top;\n",
       "    }\n",
       "\n",
       "    .dataframe thead th {\n",
       "        text-align: right;\n",
       "    }\n",
       "</style>\n",
       "<table border=\"1\" class=\"dataframe\">\n",
       "  <thead>\n",
       "    <tr style=\"text-align: right;\">\n",
       "      <th></th>\n",
       "      <th>customer_unique_id</th>\n",
       "      <th>order_recency</th>\n",
       "      <th>total_orders</th>\n",
       "      <th>avg_delivery_delta_days</th>\n",
       "    </tr>\n",
       "  </thead>\n",
       "  <tbody>\n",
       "    <tr>\n",
       "      <th>0</th>\n",
       "      <td>0000f46a3911fa3c0805444483337064</td>\n",
       "      <td>508</td>\n",
       "      <td>1</td>\n",
       "      <td>2.0</td>\n",
       "    </tr>\n",
       "    <tr>\n",
       "      <th>1</th>\n",
       "      <td>0000f6ccb0745a6a4b88665a16c9f078</td>\n",
       "      <td>292</td>\n",
       "      <td>1</td>\n",
       "      <td>12.0</td>\n",
       "    </tr>\n",
       "    <tr>\n",
       "      <th>2</th>\n",
       "      <td>0004aac84e0df4da2b147fca70cf8255</td>\n",
       "      <td>259</td>\n",
       "      <td>1</td>\n",
       "      <td>8.0</td>\n",
       "    </tr>\n",
       "    <tr>\n",
       "      <th>3</th>\n",
       "      <td>00053a61a98854899e70ed204dd4bafe</td>\n",
       "      <td>153</td>\n",
       "      <td>1</td>\n",
       "      <td>10.0</td>\n",
       "    </tr>\n",
       "    <tr>\n",
       "      <th>4</th>\n",
       "      <td>0005e1862207bf6ccc02e4228effd9a0</td>\n",
       "      <td>514</td>\n",
       "      <td>1</td>\n",
       "      <td>28.0</td>\n",
       "    </tr>\n",
       "  </tbody>\n",
       "</table>\n",
       "</div>"
      ],
      "text/plain": [
       "                 customer_unique_id  order_recency  total_orders  \\\n",
       "0  0000f46a3911fa3c0805444483337064            508             1   \n",
       "1  0000f6ccb0745a6a4b88665a16c9f078            292             1   \n",
       "2  0004aac84e0df4da2b147fca70cf8255            259             1   \n",
       "3  00053a61a98854899e70ed204dd4bafe            153             1   \n",
       "4  0005e1862207bf6ccc02e4228effd9a0            514             1   \n",
       "\n",
       "   avg_delivery_delta_days  \n",
       "0                      2.0  \n",
       "1                     12.0  \n",
       "2                      8.0  \n",
       "3                     10.0  \n",
       "4                     28.0  "
      ]
     },
     "execution_count": 7,
     "metadata": {},
     "output_type": "execute_result"
    }
   ],
   "source": [
    "#create average delivery delta feature - time difference between estimated and actual delivery date\n",
    "attr_raw['avg_delivery_delta'] = attr_raw.order_estimated_delivery_date.dt.date - attr_raw.order_delivered_customer_date.dt.date\n",
    "attr_raw['avg_delivery_delta_days'] = attr_raw['avg_delivery_delta'].dt.days\n",
    "cust_delivery = attr_raw.groupby('customer_unique_id')['avg_delivery_delta_days'].mean().reset_index()\n",
    "#merge\n",
    "attr1 = pd.merge(attr, cust_delivery, on='customer_unique_id', how='left')\n",
    "attr1.head()\n",
    "\n",
    "\n"
   ]
  },
  {
   "cell_type": "code",
   "execution_count": 8,
   "metadata": {},
   "outputs": [
    {
     "name": "stderr",
     "output_type": "stream",
     "text": [
      "C:\\ProgramData\\Anaconda3\\lib\\site-packages\\ipykernel_launcher.py:3: SettingWithCopyWarning: \n",
      "A value is trying to be set on a copy of a slice from a DataFrame.\n",
      "Try using .loc[row_indexer,col_indexer] = value instead\n",
      "\n",
      "See the caveats in the documentation: http://pandas.pydata.org/pandas-docs/stable/indexing.html#indexing-view-versus-copy\n",
      "  This is separate from the ipykernel package so we can avoid doing imports until\n",
      "C:\\ProgramData\\Anaconda3\\lib\\site-packages\\ipykernel_launcher.py:4: SettingWithCopyWarning: \n",
      "A value is trying to be set on a copy of a slice from a DataFrame.\n",
      "Try using .loc[row_indexer,col_indexer] = value instead\n",
      "\n",
      "See the caveats in the documentation: http://pandas.pydata.org/pandas-docs/stable/indexing.html#indexing-view-versus-copy\n",
      "  after removing the cwd from sys.path.\n"
     ]
    },
    {
     "data": {
      "text/html": [
       "<div>\n",
       "<style scoped>\n",
       "    .dataframe tbody tr th:only-of-type {\n",
       "        vertical-align: middle;\n",
       "    }\n",
       "\n",
       "    .dataframe tbody tr th {\n",
       "        vertical-align: top;\n",
       "    }\n",
       "\n",
       "    .dataframe thead th {\n",
       "        text-align: right;\n",
       "    }\n",
       "</style>\n",
       "<table border=\"1\" class=\"dataframe\">\n",
       "  <thead>\n",
       "    <tr style=\"text-align: right;\">\n",
       "      <th></th>\n",
       "      <th>customer_unique_id</th>\n",
       "      <th>order_recency</th>\n",
       "      <th>total_orders</th>\n",
       "      <th>avg_delivery_delta_days</th>\n",
       "      <th>avg_order_to_approval_time</th>\n",
       "    </tr>\n",
       "  </thead>\n",
       "  <tbody>\n",
       "    <tr>\n",
       "      <th>0</th>\n",
       "      <td>0000f46a3911fa3c0805444483337064</td>\n",
       "      <td>508</td>\n",
       "      <td>1</td>\n",
       "      <td>2.0</td>\n",
       "      <td>0.0</td>\n",
       "    </tr>\n",
       "    <tr>\n",
       "      <th>1</th>\n",
       "      <td>0000f6ccb0745a6a4b88665a16c9f078</td>\n",
       "      <td>292</td>\n",
       "      <td>1</td>\n",
       "      <td>12.0</td>\n",
       "      <td>0.0</td>\n",
       "    </tr>\n",
       "    <tr>\n",
       "      <th>2</th>\n",
       "      <td>0004aac84e0df4da2b147fca70cf8255</td>\n",
       "      <td>259</td>\n",
       "      <td>1</td>\n",
       "      <td>8.0</td>\n",
       "      <td>0.0</td>\n",
       "    </tr>\n",
       "    <tr>\n",
       "      <th>3</th>\n",
       "      <td>00053a61a98854899e70ed204dd4bafe</td>\n",
       "      <td>153</td>\n",
       "      <td>1</td>\n",
       "      <td>10.0</td>\n",
       "      <td>0.0</td>\n",
       "    </tr>\n",
       "    <tr>\n",
       "      <th>4</th>\n",
       "      <td>0005e1862207bf6ccc02e4228effd9a0</td>\n",
       "      <td>514</td>\n",
       "      <td>1</td>\n",
       "      <td>28.0</td>\n",
       "      <td>0.0</td>\n",
       "    </tr>\n",
       "  </tbody>\n",
       "</table>\n",
       "</div>"
      ],
      "text/plain": [
       "                 customer_unique_id  order_recency  total_orders  \\\n",
       "0  0000f46a3911fa3c0805444483337064            508             1   \n",
       "1  0000f6ccb0745a6a4b88665a16c9f078            292             1   \n",
       "2  0004aac84e0df4da2b147fca70cf8255            259             1   \n",
       "3  00053a61a98854899e70ed204dd4bafe            153             1   \n",
       "4  0005e1862207bf6ccc02e4228effd9a0            514             1   \n",
       "\n",
       "   avg_delivery_delta_days  avg_order_to_approval_time  \n",
       "0                      2.0                         0.0  \n",
       "1                     12.0                         0.0  \n",
       "2                      8.0                         0.0  \n",
       "3                     10.0                         0.0  \n",
       "4                     28.0                         0.0  "
      ]
     },
     "execution_count": 8,
     "metadata": {},
     "output_type": "execute_result"
    }
   ],
   "source": [
    "#create average order to approval time feature - time from customer order to approval timestamp\n",
    "\n",
    "attr_raw['avg_order_to_approval_time'] = attr_raw.order_approved_at.dt.date - attr_raw.order_purchase_timestamp.dt.date\n",
    "attr_raw['avg_order_to_approval_time'] = attr_raw['avg_order_to_approval_time'].dt.days\n",
    "order_approval_time = attr_raw.groupby('customer_unique_id')['avg_order_to_approval_time'].mean().reset_index()\n",
    "#merge\n",
    "attr2 = pd.merge(attr1, order_approval_time, on='customer_unique_id', how='left')\n",
    "attr2.head()\n"
   ]
  },
  {
   "cell_type": "code",
   "execution_count": 9,
   "metadata": {
    "scrolled": true
   },
   "outputs": [
    {
     "name": "stderr",
     "output_type": "stream",
     "text": [
      "C:\\ProgramData\\Anaconda3\\lib\\site-packages\\ipykernel_launcher.py:2: SettingWithCopyWarning: \n",
      "A value is trying to be set on a copy of a slice from a DataFrame.\n",
      "Try using .loc[row_indexer,col_indexer] = value instead\n",
      "\n",
      "See the caveats in the documentation: http://pandas.pydata.org/pandas-docs/stable/indexing.html#indexing-view-versus-copy\n",
      "  \n"
     ]
    }
   ],
   "source": [
    "#create proportion of orders fulfilled feature - % of customer's orders with 'delivered' order status\n",
    "attr_raw['order_delivered'] = np.where(attr_raw['order_status'].str.contains(\"delivered\", case=False, na=False), 1, 0)\n",
    "delivered_total = attr_raw.groupby('customer_unique_id')['order_delivered'].sum().reset_index()\n",
    "#merge\n",
    "attr3 = pd.merge(attr2, delivered_total, on='customer_unique_id', how='left')\n",
    "#create proportion from total\n",
    "attr3['order_proportion_delivered'] = attr3.order_delivered / attr3.total_orders\n",
    "attr3 = attr3.drop('order_delivered', axis = 1)\n",
    "\n",
    "\n"
   ]
  },
  {
   "cell_type": "code",
   "execution_count": 12,
   "metadata": {},
   "outputs": [
    {
     "data": {
      "text/plain": [
       "pandas.core.series.Series"
      ]
     },
     "execution_count": 12,
     "metadata": {},
     "output_type": "execute_result"
    }
   ],
   "source": [
    "type(cust_id)"
   ]
  },
  {
   "cell_type": "code",
   "execution_count": 13,
   "metadata": {},
   "outputs": [
    {
     "data": {
      "text/html": [
       "<div>\n",
       "<style scoped>\n",
       "    .dataframe tbody tr th:only-of-type {\n",
       "        vertical-align: middle;\n",
       "    }\n",
       "\n",
       "    .dataframe tbody tr th {\n",
       "        vertical-align: top;\n",
       "    }\n",
       "\n",
       "    .dataframe thead th {\n",
       "        text-align: right;\n",
       "    }\n",
       "</style>\n",
       "<table border=\"1\" class=\"dataframe\">\n",
       "  <thead>\n",
       "    <tr style=\"text-align: right;\">\n",
       "      <th></th>\n",
       "      <th>customer_unique_id</th>\n",
       "      <th>order_recency</th>\n",
       "      <th>total_orders</th>\n",
       "      <th>avg_delivery_delta_days</th>\n",
       "      <th>avg_order_to_approval_time</th>\n",
       "      <th>order_proportion_delivered</th>\n",
       "      <th>index</th>\n",
       "      <th>AC</th>\n",
       "      <th>AL</th>\n",
       "      <th>AM</th>\n",
       "      <th>...</th>\n",
       "      <th>PR</th>\n",
       "      <th>RJ</th>\n",
       "      <th>RN</th>\n",
       "      <th>RO</th>\n",
       "      <th>RR</th>\n",
       "      <th>RS</th>\n",
       "      <th>SC</th>\n",
       "      <th>SE</th>\n",
       "      <th>SP</th>\n",
       "      <th>TO</th>\n",
       "    </tr>\n",
       "  </thead>\n",
       "  <tbody>\n",
       "    <tr>\n",
       "      <th>0</th>\n",
       "      <td>0000f46a3911fa3c0805444483337064</td>\n",
       "      <td>508</td>\n",
       "      <td>1</td>\n",
       "      <td>2.0</td>\n",
       "      <td>0.0</td>\n",
       "      <td>1.0</td>\n",
       "      <td>26460</td>\n",
       "      <td>0</td>\n",
       "      <td>0</td>\n",
       "      <td>0</td>\n",
       "      <td>...</td>\n",
       "      <td>0</td>\n",
       "      <td>0</td>\n",
       "      <td>0</td>\n",
       "      <td>0</td>\n",
       "      <td>0</td>\n",
       "      <td>0</td>\n",
       "      <td>1</td>\n",
       "      <td>0</td>\n",
       "      <td>0</td>\n",
       "      <td>0</td>\n",
       "    </tr>\n",
       "    <tr>\n",
       "      <th>1</th>\n",
       "      <td>0000f6ccb0745a6a4b88665a16c9f078</td>\n",
       "      <td>292</td>\n",
       "      <td>1</td>\n",
       "      <td>12.0</td>\n",
       "      <td>0.0</td>\n",
       "      <td>1.0</td>\n",
       "      <td>98493</td>\n",
       "      <td>0</td>\n",
       "      <td>0</td>\n",
       "      <td>0</td>\n",
       "      <td>...</td>\n",
       "      <td>0</td>\n",
       "      <td>0</td>\n",
       "      <td>0</td>\n",
       "      <td>0</td>\n",
       "      <td>0</td>\n",
       "      <td>0</td>\n",
       "      <td>0</td>\n",
       "      <td>0</td>\n",
       "      <td>0</td>\n",
       "      <td>0</td>\n",
       "    </tr>\n",
       "    <tr>\n",
       "      <th>2</th>\n",
       "      <td>0004aac84e0df4da2b147fca70cf8255</td>\n",
       "      <td>259</td>\n",
       "      <td>1</td>\n",
       "      <td>8.0</td>\n",
       "      <td>0.0</td>\n",
       "      <td>1.0</td>\n",
       "      <td>41564</td>\n",
       "      <td>0</td>\n",
       "      <td>0</td>\n",
       "      <td>0</td>\n",
       "      <td>...</td>\n",
       "      <td>0</td>\n",
       "      <td>0</td>\n",
       "      <td>0</td>\n",
       "      <td>0</td>\n",
       "      <td>0</td>\n",
       "      <td>0</td>\n",
       "      <td>0</td>\n",
       "      <td>0</td>\n",
       "      <td>1</td>\n",
       "      <td>0</td>\n",
       "    </tr>\n",
       "    <tr>\n",
       "      <th>3</th>\n",
       "      <td>00053a61a98854899e70ed204dd4bafe</td>\n",
       "      <td>153</td>\n",
       "      <td>1</td>\n",
       "      <td>10.0</td>\n",
       "      <td>0.0</td>\n",
       "      <td>1.0</td>\n",
       "      <td>6867</td>\n",
       "      <td>0</td>\n",
       "      <td>0</td>\n",
       "      <td>0</td>\n",
       "      <td>...</td>\n",
       "      <td>1</td>\n",
       "      <td>0</td>\n",
       "      <td>0</td>\n",
       "      <td>0</td>\n",
       "      <td>0</td>\n",
       "      <td>0</td>\n",
       "      <td>0</td>\n",
       "      <td>0</td>\n",
       "      <td>0</td>\n",
       "      <td>0</td>\n",
       "    </tr>\n",
       "    <tr>\n",
       "      <th>4</th>\n",
       "      <td>0005e1862207bf6ccc02e4228effd9a0</td>\n",
       "      <td>514</td>\n",
       "      <td>1</td>\n",
       "      <td>28.0</td>\n",
       "      <td>0.0</td>\n",
       "      <td>1.0</td>\n",
       "      <td>71235</td>\n",
       "      <td>0</td>\n",
       "      <td>0</td>\n",
       "      <td>0</td>\n",
       "      <td>...</td>\n",
       "      <td>0</td>\n",
       "      <td>1</td>\n",
       "      <td>0</td>\n",
       "      <td>0</td>\n",
       "      <td>0</td>\n",
       "      <td>0</td>\n",
       "      <td>0</td>\n",
       "      <td>0</td>\n",
       "      <td>0</td>\n",
       "      <td>0</td>\n",
       "    </tr>\n",
       "  </tbody>\n",
       "</table>\n",
       "<p>5 rows × 34 columns</p>\n",
       "</div>"
      ],
      "text/plain": [
       "                 customer_unique_id  order_recency  total_orders  \\\n",
       "0  0000f46a3911fa3c0805444483337064            508             1   \n",
       "1  0000f6ccb0745a6a4b88665a16c9f078            292             1   \n",
       "2  0004aac84e0df4da2b147fca70cf8255            259             1   \n",
       "3  00053a61a98854899e70ed204dd4bafe            153             1   \n",
       "4  0005e1862207bf6ccc02e4228effd9a0            514             1   \n",
       "\n",
       "   avg_delivery_delta_days  avg_order_to_approval_time  \\\n",
       "0                      2.0                         0.0   \n",
       "1                     12.0                         0.0   \n",
       "2                      8.0                         0.0   \n",
       "3                     10.0                         0.0   \n",
       "4                     28.0                         0.0   \n",
       "\n",
       "   order_proportion_delivered  index  AC  AL  AM ...  PR  RJ  RN  RO  RR  RS  \\\n",
       "0                         1.0  26460   0   0   0 ...   0   0   0   0   0   0   \n",
       "1                         1.0  98493   0   0   0 ...   0   0   0   0   0   0   \n",
       "2                         1.0  41564   0   0   0 ...   0   0   0   0   0   0   \n",
       "3                         1.0   6867   0   0   0 ...   1   0   0   0   0   0   \n",
       "4                         1.0  71235   0   0   0 ...   0   1   0   0   0   0   \n",
       "\n",
       "   SC  SE  SP  TO  \n",
       "0   1   0   0   0  \n",
       "1   0   0   0   0  \n",
       "2   0   0   1   0  \n",
       "3   0   0   0   0  \n",
       "4   0   0   0   0  \n",
       "\n",
       "[5 rows x 34 columns]"
      ]
     },
     "execution_count": 13,
     "metadata": {},
     "output_type": "execute_result"
    }
   ],
   "source": [
    "#create dummy variables for customer state\n",
    "orders_state = attr_raw[['customer_unique_id', 'customer_state']]\n",
    "cust_id = attr_raw.customer_unique_id.reset_index()\n",
    "state_dum = pd.get_dummies(orders_state.customer_state)\n",
    "state_dum = pd.merge(cust_id, state_dum, on=cust_id.index)\n",
    "state_dum = state_dum.drop('key_0', axis=1)\n",
    "state = state_dum.groupby('customer_unique_id').sum()\n",
    "attr4 = pd.merge(attr3, state, on='customer_unique_id', how='left')\n",
    "#completed dataset with 5 attributes\n",
    "attributes = attr4\n",
    "attributes.head()\n"
   ]
  },
  {
   "cell_type": "markdown",
   "metadata": {},
   "source": [
    "# Subsetting Target and Train/Test Split"
   ]
  },
  {
   "cell_type": "code",
   "execution_count": null,
   "metadata": {},
   "outputs": [],
   "source": [
    "#targeting\n",
    "\n",
    "\n",
    "mask = (orders.order_purchase_timestamp.dt.year == 2018) & (orders.order_purchase_timestamp.dt.month == 3)\n",
    "\n",
    "target_events_raw = orders[mask]\n",
    "\n",
    "len(target_events_raw)"
   ]
  },
  {
   "cell_type": "code",
   "execution_count": null,
   "metadata": {},
   "outputs": [],
   "source": [
    "print (target_events_raw['order_purchase_timestamp'].min(), target_events_raw['order_purchase_timestamp'].max())"
   ]
  },
  {
   "cell_type": "code",
   "execution_count": null,
   "metadata": {},
   "outputs": [],
   "source": [
    "target_events = target_events_raw.groupby('customer_unique_id').size().reset_index()\n",
    "\n",
    "target_events.head()\n",
    "len(target_events)"
   ]
  },
  {
   "cell_type": "code",
   "execution_count": null,
   "metadata": {},
   "outputs": [],
   "source": [
    "df = pd.merge(attributes, target_events, how='left', on='customer_unique_id')\n",
    "\n",
    "df = df.rename(columns={0: 'purch'})\n",
    "\n",
    "df['purch'] = [1 if x >= 1 else 0 for x in df['purch']]\n",
    "\n"
   ]
  },
  {
   "cell_type": "markdown",
   "metadata": {},
   "source": [
    "# Correlation and Imputation"
   ]
  },
  {
   "cell_type": "code",
   "execution_count": null,
   "metadata": {
    "scrolled": true
   },
   "outputs": [],
   "source": [
    "#correlations\n",
    "\n",
    "df[['order_recency', 'total_orders','avg_delivery_delta_days', 'avg_order_to_approval_time', 'order_proportion_delivered', 'purch']].corr()"
   ]
  },
  {
   "cell_type": "code",
   "execution_count": null,
   "metadata": {},
   "outputs": [],
   "source": [
    "df.isna().sum()"
   ]
  },
  {
   "cell_type": "code",
   "execution_count": null,
   "metadata": {},
   "outputs": [],
   "source": [
    "#create new df with na values filled with zeros\n",
    "df_fill = df\n",
    "df_fill['avg_delivery_delta_days'] = df_fill['avg_delivery_delta_days'].fillna(0)\n",
    "df_fill['avg_order_to_approval_time'] = df_fill['avg_order_to_approval_time'].fillna(0)"
   ]
  },
  {
   "cell_type": "code",
   "execution_count": null,
   "metadata": {
    "scrolled": false
   },
   "outputs": [],
   "source": [
    "#correlations of filled df\n",
    "\n",
    "df_fill[['order_recency', 'total_orders','avg_delivery_delta_days', 'avg_order_to_approval_time', 'order_proportion_delivered', 'purch']].corr()\n",
    "\n",
    "#are the differences acceptible? I'm not really sure..."
   ]
  },
  {
   "cell_type": "code",
   "execution_count": null,
   "metadata": {},
   "outputs": [],
   "source": [
    "#model/training setup\n",
    "\n",
    "preds = ['order_recency', 'total_orders','avg_delivery_delta_days', 'avg_order_to_approval_time', 'order_proportion_delivered', 'SP', 'BA', 'GO', 'RN', 'PR', 'RS', 'RJ', 'MG', 'SC', 'RR', 'PE',\n",
    "       'TO', 'CE', 'DF', 'SE', 'MT', 'PB', 'PA', 'RO', 'ES', 'AP', 'MS',\n",
    "       'MA', 'PI', 'AL', 'AC', 'AM']\n",
    "\n",
    "X = df_fill[preds]\n",
    "y = df_fill['purch']"
   ]
  },
  {
   "cell_type": "code",
   "execution_count": null,
   "metadata": {},
   "outputs": [],
   "source": [
    "X_train, X_test, y_train, y_test = train_test_split(X, y, test_size = 0.5, random_state=314)\n",
    "\n",
    "len(X_train), len(X_test)"
   ]
  },
  {
   "cell_type": "code",
   "execution_count": null,
   "metadata": {
    "scrolled": true
   },
   "outputs": [],
   "source": [
    "y_train.value_counts()"
   ]
  },
  {
   "cell_type": "markdown",
   "metadata": {},
   "source": [
    "# Modeling and Validation"
   ]
  },
  {
   "cell_type": "code",
   "execution_count": null,
   "metadata": {},
   "outputs": [],
   "source": [
    "X_scaler = StandardScaler()"
   ]
  },
  {
   "cell_type": "code",
   "execution_count": null,
   "metadata": {},
   "outputs": [],
   "source": [
    "logit = LogisticRegression(solver='liblinear')\n",
    "\n",
    "# Define the model object\n",
    "logit.fit(X_scaler.fit_transform(X_train.astype(float)), y_train)\n",
    "\n",
    "# Get model scores\n",
    "logit_scores_train = logit.predict_proba(X_scaler.transform(X_train.astype(float)))[:, 1]\n",
    "logit_scores_test = logit.predict_proba(X_scaler.transform(X_test.astype(float)))[:, 1]\n",
    "\n",
    "# Calculate False Positive Rates and True Positive Rates\n",
    "logit_fpr_train, logit_tpr_train, _ = roc_curve(y_train, logit_scores_train)\n",
    "logit_fpr_test, logit_tpr_test, _ = roc_curve(y_test, logit_scores_test)"
   ]
  },
  {
   "cell_type": "code",
   "execution_count": null,
   "metadata": {},
   "outputs": [],
   "source": [
    "tree = DecisionTreeClassifier()\n",
    "\n",
    "tree.fit(X_train, y_train)\n",
    "\n",
    "tree_scores_train = tree.predict_proba(X_train)[:, 1]\n",
    "tree_scores_test = tree.predict_proba(X_test)[:, 1]\n",
    "\n",
    "tree_fpr_train, tree_tpr_train, _ = roc_curve(y_train, tree_scores_train)\n",
    "tree_fpr_test, tree_tpr_test, _ = roc_curve(y_test, tree_scores_test)\n"
   ]
  },
  {
   "cell_type": "code",
   "execution_count": null,
   "metadata": {},
   "outputs": [],
   "source": [
    "forest = RandomForestClassifier()\n",
    "\n",
    "forest.fit(X_train, y_train)\n",
    "\n",
    "forest_scores_train = forest.predict_proba(X_train)[:, 1]\n",
    "forest_scores_test = forest.predict_proba(X_train)[:, 1]\n",
    "\n",
    "forest_fpr_train, forest_tpr_train, _ = roc_curve(y_train, forest_scores_train)\n",
    "forest_fpr_test, forest_tpr_test, _ = roc_curve(y_test, forest_scores_test)"
   ]
  },
  {
   "cell_type": "code",
   "execution_count": null,
   "metadata": {
    "scrolled": true
   },
   "outputs": [],
   "source": [
    "plt.figure().set_size_inches(12, 9)\n",
    "\n",
    "plt.plot(logit_fpr_train, logit_tpr_train, color='royalblue', lw=2, alpha = 0.3, linestyle = '--',\n",
    "         label='LR Train  (AUC = %0.3f)' %roc_auc_score(y_train, logit_scores_train))\n",
    "plt.plot(tree_fpr_train, tree_tpr_train, color='green', lw=2, alpha = 0.4, linestyle = '--',\n",
    "         label='DT Train  (AUC = %0.3f)' %roc_auc_score(y_train, tree_scores_train))\n",
    "plt.plot(forest_fpr_train, forest_tpr_train, color='purple', lw=2, alpha = 0.2, linestyle = '--',\n",
    "         label='RFC Train  (AUC = %0.3f)' %roc_auc_score(y_train, forest_scores_train))\n",
    "\n",
    "\n",
    "plt.plot(logit_fpr_test, logit_tpr_test, color='royalblue', lw=2, linestyle = '-',\n",
    "         label='LR Test  (AUC = %0.3f)' %roc_auc_score(y_test, logit_scores_test))\n",
    "plt.plot(tree_fpr_test, tree_tpr_test, color='green', lw=2, linestyle = '-',\n",
    "         label='DT Test  (AUC = %0.3f)' %roc_auc_score(y_test, tree_scores_test))\n",
    "plt.plot(forest_fpr_test, forest_tpr_test, color='purple', lw=2, linestyle = '-',\n",
    "         label='RFC Test  (AUC = %0.3f)' %roc_auc_score(y_test, forest_scores_test))\n",
    "\n",
    "plt.plot([0, 1], [0, 1], color='gray', lw=1, linestyle='-', alpha=.5)\n",
    "plt.xlim([0.0, 1.05])\n",
    "plt.ylim([0.0, 1.05])\n",
    "plt.xlabel('False Positive Rate', fontsize = 14)\n",
    "plt.ylabel('True Positive Rate', fontsize = 14)\n",
    "plt.title('Default Risk Model', fontsize = 16)\n",
    "plt.legend(loc=\"lower right\", fontsize = 14)\n",
    "plt.show()"
   ]
  },
  {
   "cell_type": "code",
   "execution_count": null,
   "metadata": {},
   "outputs": [],
   "source": [
    "#confusion matrix\n",
    "def cmat(model):\n",
    "    preds_test = model.predict(X_test)\n",
    "    c = confusion_matrix(y_test, preds_test)\n",
    "    return c\n",
    "\n",
    "cmat(logit)\n"
   ]
  },
  {
   "cell_type": "code",
   "execution_count": null,
   "metadata": {},
   "outputs": [],
   "source": [
    "cmat(tree)"
   ]
  },
  {
   "cell_type": "code",
   "execution_count": null,
   "metadata": {},
   "outputs": [],
   "source": [
    "cmat(forest)"
   ]
  },
  {
   "cell_type": "code",
   "execution_count": null,
   "metadata": {},
   "outputs": [],
   "source": [
    "#precision & recall\n",
    "def prec_rec(model):\n",
    "    preds_test = model.predict(X_test)\n",
    "    prec = precision_score(y_test, preds_test)\n",
    "    recall = recall_score(y_test, preds_test)\n",
    "    return prec, recall\n",
    "prec_rec(logit)"
   ]
  },
  {
   "cell_type": "code",
   "execution_count": null,
   "metadata": {},
   "outputs": [],
   "source": [
    "prec_rec(tree)"
   ]
  },
  {
   "cell_type": "code",
   "execution_count": null,
   "metadata": {
    "scrolled": true
   },
   "outputs": [],
   "source": [
    "prec_rec(forest)"
   ]
  },
  {
   "cell_type": "code",
   "execution_count": null,
   "metadata": {},
   "outputs": [],
   "source": [
    "#accuracy score\n",
    "def acc(model):\n",
    "    preds_test = model.predict(X_test)\n",
    "    acc = accuracy_score(y_test, preds_test)\n",
    "    return acc\n",
    "acc(logit)"
   ]
  },
  {
   "cell_type": "code",
   "execution_count": null,
   "metadata": {},
   "outputs": [],
   "source": [
    "acc(tree)"
   ]
  },
  {
   "cell_type": "code",
   "execution_count": null,
   "metadata": {},
   "outputs": [],
   "source": [
    "acc(forest)"
   ]
  },
  {
   "cell_type": "markdown",
   "metadata": {},
   "source": [
    "# Conclusion"
   ]
  },
  {
   "cell_type": "markdown",
   "metadata": {},
   "source": [
    "It seems that the models above are suffering greatly from overfitting as a result of the extreme imbalance in this dataset - less than 0.3% of the targets are positive (purchases). \n",
    "\n",
    "Because of the extreme imbalance in this dataset, under or oversampling did not seem like a good option.\n",
    "\n",
    "While all the models have very high accuracy, the ROC curves indicate a serious problem with the decision tree and random forest classifiers - they had perfect accuracy on the training set but the DT's AUC was hardly better than a guess across the decision thresholds. The RFC's AUC was slightly *lower* than the baseline of 0.5.\n",
    "\n",
    "Only the logistic regression model provided high AUC on both the training and testing set, so I would likely choose this model over the others. However, the LR model also returned no positive predictions - so it is still likely suffering from overfitting.\n",
    "\n",
    "Given the imbalance, evaluating model performance is difficult and it is hard to say how these models would perform in a real world implementation."
   ]
  }
 ],
 "metadata": {
  "kernelspec": {
   "display_name": "Python 3",
   "language": "python",
   "name": "python3"
  },
  "language_info": {
   "codemirror_mode": {
    "name": "ipython",
    "version": 3
   },
   "file_extension": ".py",
   "mimetype": "text/x-python",
   "name": "python",
   "nbconvert_exporter": "python",
   "pygments_lexer": "ipython3",
   "version": "3.7.1"
  }
 },
 "nbformat": 4,
 "nbformat_minor": 2
}
